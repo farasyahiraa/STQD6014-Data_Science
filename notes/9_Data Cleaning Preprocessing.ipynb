{
 "cells": [
  {
   "cell_type": "code",
   "execution_count": 8,
   "id": "213982e4",
   "metadata": {},
   "outputs": [],
   "source": [
    "import numpy as np\n",
    "import pandas as pd"
   ]
  },
  {
   "cell_type": "markdown",
   "id": "589a3a00",
   "metadata": {},
   "source": [
    "### Handling Duplicate"
   ]
  },
  {
   "cell_type": "code",
   "execution_count": 14,
   "id": "e1cfb18b",
   "metadata": {},
   "outputs": [
    {
     "name": "stdout",
     "output_type": "stream",
     "text": [
      "   Name  Age City\n",
      "0   Ali   25   KL\n",
      "1   Abu   30  SGR\n",
      "2  Siti   35  MLK\n",
      "3   Lee   30  PHG\n",
      "4   Ali   35   KL\n",
      "0    False\n",
      "1    False\n",
      "2    False\n",
      "3    False\n",
      "4    False\n",
      "dtype: bool\n"
     ]
    }
   ],
   "source": [
    "# Handling Duplicate\n",
    "data={'Name':['Ali','Abu','Siti','Lee','Ali'],\n",
    "     'Age':[25,30,35,30,35],\n",
    "     'City':['KL','SGR','MLK','PHG','KL']}\n",
    "df=pd.DataFrame(data)\n",
    "print(df)\n",
    "\n",
    "# Check duplicate\n",
    "duplicate=df.duplicated()\n",
    "print(duplicate)"
   ]
  },
  {
   "cell_type": "code",
   "execution_count": 15,
   "id": "1e01c604",
   "metadata": {},
   "outputs": [
    {
     "name": "stdout",
     "output_type": "stream",
     "text": [
      "   Name  Age City\n",
      "0   Ali   25   KL\n",
      "1   Abu   30  SGR\n",
      "2  Siti   35  MLK\n",
      "3   Lee   30  PHG\n",
      "4   Ali   35   KL\n"
     ]
    }
   ],
   "source": [
    "df_no_dup=df.drop_duplicates()\n",
    "print(df_no_dup)"
   ]
  },
  {
   "cell_type": "code",
   "execution_count": 17,
   "id": "a67bfb1f",
   "metadata": {},
   "outputs": [
    {
     "name": "stdout",
     "output_type": "stream",
     "text": [
      "0    False\n",
      "1    False\n",
      "2    False\n",
      "3    False\n",
      "4     True\n",
      "dtype: bool\n"
     ]
    }
   ],
   "source": [
    "dup_name=df.duplicated(subset='Name')\n",
    "print(dup_name)"
   ]
  },
  {
   "cell_type": "code",
   "execution_count": 20,
   "id": "4cb2348f",
   "metadata": {},
   "outputs": [
    {
     "name": "stdout",
     "output_type": "stream",
     "text": [
      "0    False\n",
      "1    False\n",
      "2    False\n",
      "3    False\n",
      "4     True\n",
      "dtype: bool\n"
     ]
    }
   ],
   "source": [
    "df_no_dup_name=df.duplicated(subset='Name',keep='first')\n",
    "print(df_no_dup_name)"
   ]
  },
  {
   "cell_type": "code",
   "execution_count": 21,
   "id": "812ed75c",
   "metadata": {},
   "outputs": [
    {
     "name": "stdout",
     "output_type": "stream",
     "text": [
      "0     True\n",
      "1    False\n",
      "2    False\n",
      "3    False\n",
      "4     True\n",
      "dtype: bool\n"
     ]
    }
   ],
   "source": [
    "df_no_dup_name=df.duplicated(subset='Name',keep=False)\n",
    "print(df_no_dup_name)"
   ]
  },
  {
   "cell_type": "markdown",
   "id": "6d990ebc",
   "metadata": {},
   "source": [
    "### Handling Missing Data"
   ]
  },
  {
   "cell_type": "code",
   "execution_count": 28,
   "id": "e22c45ab",
   "metadata": {},
   "outputs": [
    {
     "name": "stdout",
     "output_type": "stream",
     "text": [
      "     A    B        C\n",
      "0  1.0  NaN       na\n",
      "1  2.0  2.0    valid\n",
      "2  NaN  3.0     None\n",
      "3  4.0  4.0  missing\n",
      "       A      B     C\n",
      "0   True  False  True\n",
      "1   True   True  True\n",
      "2  False   True  True\n",
      "3   True   True  True\n"
     ]
    }
   ],
   "source": [
    "# Detecting missing data\n",
    "data={\n",
    "    'A':[1,2,None,4], #for string None\n",
    "    'B':[np.nan,2,3,4], #for numerical np.nan\n",
    "    'C':['na','valid',None,'missing']\n",
    "}\n",
    "df=pd.DataFrame(data)\n",
    "print(df)\n",
    "checkmiss=df.notna() # or isna\n",
    "print(checkmiss)"
   ]
  },
  {
   "cell_type": "code",
   "execution_count": 29,
   "id": "a231ddb7",
   "metadata": {},
   "outputs": [
    {
     "name": "stdout",
     "output_type": "stream",
     "text": [
      "         C\n",
      "0       na\n",
      "1    valid\n",
      "2     None\n",
      "3  missing\n"
     ]
    }
   ],
   "source": [
    "# Dropping missing data\n",
    "df_drop=df.dropna(axis=1) #columns\n",
    "print(df_drop)"
   ]
  },
  {
   "cell_type": "code",
   "execution_count": 30,
   "id": "8cfa1006",
   "metadata": {},
   "outputs": [
    {
     "name": "stdout",
     "output_type": "stream",
     "text": [
      "     A    B        C\n",
      "0  1.0  NaN       na\n",
      "1  2.0  2.0    valid\n",
      "3  4.0  4.0  missing\n"
     ]
    }
   ],
   "source": [
    "# Dropping missing data\n",
    "df_drop=df.dropna(subset=['A'], axis=0)\n",
    "print(df_drop)"
   ]
  },
  {
   "cell_type": "code",
   "execution_count": 31,
   "id": "3d10fcab",
   "metadata": {},
   "outputs": [
    {
     "name": "stdout",
     "output_type": "stream",
     "text": [
      "        A       B        C\n",
      "0     1.0  9999.0       na\n",
      "1     2.0     2.0    valid\n",
      "2  9999.0     3.0     None\n",
      "3     4.0     4.0  missing\n"
     ]
    }
   ],
   "source": [
    "# Filling missing data \n",
    "df_fill=df.fillna(9999) #(Fill missing data with a specified value)\n",
    "print(df_fill)"
   ]
  },
  {
   "cell_type": "code",
   "execution_count": 32,
   "id": "10e867fc",
   "metadata": {},
   "outputs": [
    {
     "name": "stdout",
     "output_type": "stream",
     "text": [
      "     A    B        C\n",
      "0  1.0  NaN       na\n",
      "1  2.0  2.0    valid\n",
      "2  2.0  3.0     None\n",
      "3  4.0  4.0  missing\n"
     ]
    }
   ],
   "source": [
    "df_ffill=df.ffill() #Forward fill (use previous value)\n",
    "print(df_ffill)"
   ]
  },
  {
   "cell_type": "code",
   "execution_count": 33,
   "id": "e5c7ac74",
   "metadata": {},
   "outputs": [
    {
     "name": "stdout",
     "output_type": "stream",
     "text": [
      "     A    B        C\n",
      "0  1.0  2.0       na\n",
      "1  2.0  2.0    valid\n",
      "2  4.0  3.0     None\n",
      "3  4.0  4.0  missing\n"
     ]
    }
   ],
   "source": [
    "df_bfill=df.bfill() #Backward fill (use next value)\n",
    "print(df_bfill)"
   ]
  },
  {
   "cell_type": "code",
   "execution_count": 34,
   "id": "5dbb75c8",
   "metadata": {},
   "outputs": [
    {
     "name": "stdout",
     "output_type": "stream",
     "text": [
      "     A    B        C\n",
      "0  1.0  NaN       na\n",
      "1  2.0  2.0    valid\n",
      "2  3.0  3.0     None\n",
      "3  4.0  4.0  missing\n"
     ]
    },
    {
     "name": "stderr",
     "output_type": "stream",
     "text": [
      "C:\\Users\\PC 16\\AppData\\Local\\Temp\\ipykernel_8680\\1542548108.py:1: FutureWarning: DataFrame.interpolate with object dtype is deprecated and will raise in a future version. Call obj.infer_objects(copy=False) before interpolating instead.\n",
      "  df_linearfill=df.interpolate(method='linear') # only on numerical columns\n"
     ]
    }
   ],
   "source": [
    "df_linearfill=df.interpolate(method='linear') # only on numerical columns\n",
    "print(df_linearfill)"
   ]
  },
  {
   "cell_type": "code",
   "execution_count": 35,
   "id": "797f90cd",
   "metadata": {},
   "outputs": [
    {
     "name": "stdout",
     "output_type": "stream",
     "text": [
      "     A    B        C\n",
      "0  1.0  NaN       na\n",
      "1  2.0  2.0    valid\n",
      "2  NaN  3.0     None\n",
      "3  4.0  4.0  missing\n",
      "       A      B      C\n",
      "0   True  False   True\n",
      "1   True   True   True\n",
      "2  False   True  False\n",
      "3   True   True   True\n"
     ]
    }
   ],
   "source": [
    "# fill with mean column\n",
    "data={\n",
    "    'A':[1,2,None,4], #for string None\n",
    "    'B':[np.nan,2,3,4], #for numerical np.nan\n",
    "    'C':['na','valid',None,'missing']\n",
    "}\n",
    "df=pd.DataFrame(data)\n",
    "print(df)\n",
    "checkmiss=df.notna() # or isna\n",
    "print(checkmiss)"
   ]
  },
  {
   "cell_type": "code",
   "execution_count": 43,
   "id": "e59109e6",
   "metadata": {},
   "outputs": [
    {
     "data": {
      "text/plain": [
       "0    1.000000\n",
       "1    2.000000\n",
       "2    2.333333\n",
       "3    4.000000\n",
       "Name: A, dtype: float64"
      ]
     },
     "execution_count": 43,
     "metadata": {},
     "output_type": "execute_result"
    }
   ],
   "source": [
    "df['A'].mode()"
   ]
  },
  {
   "cell_type": "code",
   "execution_count": 41,
   "id": "646655a5",
   "metadata": {},
   "outputs": [
    {
     "name": "stdout",
     "output_type": "stream",
     "text": [
      "          A    B        C\n",
      "0  1.000000  3.0       na\n",
      "1  2.000000  2.0    valid\n",
      "2  2.333333  3.0     None\n",
      "3  4.000000  4.0  missing\n"
     ]
    }
   ],
   "source": [
    "df['A']=df['A'].fillna(df['A'].mode()[0]) \n",
    "print(df)"
   ]
  },
  {
   "cell_type": "code",
   "execution_count": 37,
   "id": "c87018d8",
   "metadata": {},
   "outputs": [
    {
     "name": "stdout",
     "output_type": "stream",
     "text": [
      "          A    B        C\n",
      "0  1.000000  NaN       na\n",
      "1  2.000000  2.0    valid\n",
      "2  2.333333  3.0     None\n",
      "3  4.000000  4.0  missing\n"
     ]
    }
   ],
   "source": [
    "df['A']=df['A'].fillna(df['A'].mean()) \n",
    "print(df)"
   ]
  },
  {
   "cell_type": "code",
   "execution_count": 38,
   "id": "8f22005e",
   "metadata": {},
   "outputs": [
    {
     "name": "stdout",
     "output_type": "stream",
     "text": [
      "          A    B        C\n",
      "0  1.000000  3.0       na\n",
      "1  2.000000  2.0    valid\n",
      "2  2.333333  3.0     None\n",
      "3  4.000000  4.0  missing\n"
     ]
    }
   ],
   "source": [
    "df['B']=df['B'].fillna(df['B'].median()) \n",
    "print(df)"
   ]
  },
  {
   "cell_type": "markdown",
   "id": "dfebbe4c",
   "metadata": {},
   "source": [
    "### Replacing Values"
   ]
  },
  {
   "cell_type": "code",
   "execution_count": 45,
   "id": "08e251ae",
   "metadata": {},
   "outputs": [
    {
     "name": "stdout",
     "output_type": "stream",
     "text": [
      "   A       B\n",
      "0  1   apple\n",
      "1  2  banana\n",
      "2  3   apple\n",
      "3  4    kiwi\n"
     ]
    }
   ],
   "source": [
    "df=pd.DataFrame({\n",
    "    'A':[1,2,3,4],\n",
    "    'B':['apple','banana','apple','kiwi']\n",
    "})\n",
    "print(df)"
   ]
  },
  {
   "cell_type": "code",
   "execution_count": 48,
   "id": "d75fee2b",
   "metadata": {},
   "outputs": [
    {
     "name": "stdout",
     "output_type": "stream",
     "text": [
      "   A       B\n",
      "0  1  orange\n",
      "1  2  banana\n",
      "2  3  orange\n",
      "3  4    kiwi\n"
     ]
    }
   ],
   "source": [
    "df['B']=df['B'].replace('apple','orange')\n",
    "print(df)"
   ]
  },
  {
   "cell_type": "code",
   "execution_count": 49,
   "id": "a0903238",
   "metadata": {},
   "outputs": [
    {
     "name": "stdout",
     "output_type": "stream",
     "text": [
      "   A      B\n",
      "0  1  fruit\n",
      "1  2  fruit\n",
      "2  3  fruit\n",
      "3  4   kiwi\n"
     ]
    }
   ],
   "source": [
    "df['B']=df['B'].replace(['banana','orange'],'fruit')\n",
    "print(df)"
   ]
  },
  {
   "cell_type": "code",
   "execution_count": 70,
   "id": "8ec77807",
   "metadata": {},
   "outputs": [
    {
     "name": "stdout",
     "output_type": "stream",
     "text": [
      "   A       B\n",
      "0  1   apple\n",
      "1  2  banana\n",
      "2  3   apple\n",
      "3  4    kiwi\n",
      "   A       B\n",
      "0  1  fruit1\n",
      "1  2  fruit2\n",
      "2  3  fruit1\n",
      "3  4    kiwi\n"
     ]
    }
   ],
   "source": [
    "df=pd.DataFrame({\n",
    "    'A':[1,2,3,4],\n",
    "    'B':['apple','banana','apple','kiwi']\n",
    "})\n",
    "print(df)\n",
    "df['B']=df['B'].replace({'apple':'fruit1','banana':'fruit2'})\n",
    "print(df)"
   ]
  },
  {
   "cell_type": "markdown",
   "id": "b6663b26",
   "metadata": {},
   "source": [
    "### Handling Outliers"
   ]
  },
  {
   "cell_type": "code",
   "execution_count": 64,
   "id": "3dd73f51",
   "metadata": {},
   "outputs": [
    {
     "name": "stdout",
     "output_type": "stream",
     "text": [
      "    Value\n",
      "0      10\n",
      "1       1\n",
      "2     250\n",
      "3     200\n",
      "4      15\n",
      "5     300\n",
      "6      20\n",
      "7      25\n",
      "8      30\n",
      "9      12\n",
      "10   5000\n"
     ]
    },
    {
     "data": {
      "text/html": [
       "<div>\n",
       "<style scoped>\n",
       "    .dataframe tbody tr th:only-of-type {\n",
       "        vertical-align: middle;\n",
       "    }\n",
       "\n",
       "    .dataframe tbody tr th {\n",
       "        vertical-align: top;\n",
       "    }\n",
       "\n",
       "    .dataframe thead th {\n",
       "        text-align: right;\n",
       "    }\n",
       "</style>\n",
       "<table border=\"1\" class=\"dataframe\">\n",
       "  <thead>\n",
       "    <tr style=\"text-align: right;\">\n",
       "      <th></th>\n",
       "      <th>Value</th>\n",
       "    </tr>\n",
       "  </thead>\n",
       "  <tbody>\n",
       "    <tr>\n",
       "      <th>10</th>\n",
       "      <td>5000</td>\n",
       "    </tr>\n",
       "  </tbody>\n",
       "</table>\n",
       "</div>"
      ],
      "text/plain": [
       "    Value\n",
       "10   5000"
      ]
     },
     "execution_count": 64,
     "metadata": {},
     "output_type": "execute_result"
    }
   ],
   "source": [
    "df=pd.DataFrame({'Value':[10,1,250,200,15,300,20,25,30,12,5000]})\n",
    "print(df)\n",
    "# compute mean and sd\n",
    "mean=df['Value'].mean()\n",
    "std=df['Value'].std()\n",
    "\n",
    "lower_bound=mean-3*std\n",
    "upper_bound=mean+3*std\n",
    "\n",
    "# extract outlier with 3 sd of mean\n",
    "df[(df['Value']<lower_bound)|(df['Value']>upper_bound)]\n",
    "\n",
    "# or outlier with thres\n",
    "thres=3*std\n",
    "df[abs(df['Value']-mean)>thres]"
   ]
  },
  {
   "cell_type": "code",
   "execution_count": 62,
   "id": "e4bef50f",
   "metadata": {},
   "outputs": [],
   "source": [
    "# replace outlier (using .loc)\n",
    "df.loc[abs(df['Value']-mean)>thres]=np.nan"
   ]
  },
  {
   "cell_type": "code",
   "execution_count": 63,
   "id": "f1ccb63d",
   "metadata": {},
   "outputs": [
    {
     "name": "stdout",
     "output_type": "stream",
     "text": [
      "    Value\n",
      "0    10.0\n",
      "1     1.0\n",
      "2   250.0\n",
      "3   200.0\n",
      "4    15.0\n",
      "5   300.0\n",
      "6    20.0\n",
      "7    25.0\n",
      "8    30.0\n",
      "9    12.0\n",
      "10    NaN\n"
     ]
    }
   ],
   "source": [
    "print(df)"
   ]
  },
  {
   "cell_type": "code",
   "execution_count": 65,
   "id": "a81a78a6",
   "metadata": {},
   "outputs": [
    {
     "name": "stdout",
     "output_type": "stream",
     "text": [
      "    Value\n",
      "0      10\n",
      "1       1\n",
      "2     250\n",
      "3     200\n",
      "4      15\n",
      "5     300\n",
      "6      20\n",
      "7      25\n",
      "8      30\n",
      "9      12\n",
      "10   9999\n"
     ]
    }
   ],
   "source": [
    "# (np.where())\n",
    "df['Value']=np.where(abs(df['Value']-mean)>thres,9999,df['Value'])\n",
    "print(df)"
   ]
  },
  {
   "cell_type": "code",
   "execution_count": 68,
   "id": "6ad1fb5e",
   "metadata": {},
   "outputs": [
    {
     "name": "stdout",
     "output_type": "stream",
     "text": [
      "    Value\n",
      "0      10\n",
      "1       1\n",
      "2     250\n",
      "3     200\n",
      "4      15\n",
      "5     300\n",
      "6      20\n",
      "7      25\n",
      "8      30\n",
      "9      12\n",
      "10   9999\n"
     ]
    }
   ],
   "source": [
    "# (apply())\n",
    "df=pd.DataFrame({'Value':[10,1,250,200,15,300,20,25,30,12,5000]})\n",
    "thres=3*std\n",
    "mean=df['Value'].mean()\n",
    "def replace_outlier(val):\n",
    "    if abs(val-mean)>thres:\n",
    "        return(9999)\n",
    "    return(val)\n",
    "\n",
    "df['Value']=df['Value'].apply(replace_outlier)\n",
    "print(df)"
   ]
  },
  {
   "cell_type": "markdown",
   "id": "2a8925c5",
   "metadata": {},
   "source": [
    "### Data Transformation"
   ]
  },
  {
   "cell_type": "code",
   "execution_count": 71,
   "id": "8f6efd62",
   "metadata": {},
   "outputs": [],
   "source": [
    "# using APPLY/MAP\n",
    "\n",
    "df=pd.DataFrame({\n",
    "    'Name':['Ali','Abu','Siti','Ahmad'],\n",
    "    'Weight':[60,85,72,95],\n",
    "    'Height':[1.65,1.78,1.75,1.80]\n",
    "})"
   ]
  },
  {
   "cell_type": "code",
   "execution_count": 74,
   "id": "5ba09e5d",
   "metadata": {},
   "outputs": [
    {
     "data": {
      "text/plain": [
       "0    22.038567\n",
       "1    26.827421\n",
       "2    23.510204\n",
       "3    29.320988\n",
       "dtype: float64"
      ]
     },
     "execution_count": 74,
     "metadata": {},
     "output_type": "execute_result"
    }
   ],
   "source": [
    "df['Weight']/(df['Height']**2)"
   ]
  },
  {
   "cell_type": "code",
   "execution_count": 75,
   "id": "494de7ca",
   "metadata": {},
   "outputs": [
    {
     "name": "stdout",
     "output_type": "stream",
     "text": [
      "    Name  Weight  Height        BMI\n",
      "0    Ali      60    1.65  22.038567\n",
      "1    Abu      85    1.78  26.827421\n",
      "2   Siti      72    1.75  23.510204\n",
      "3  Ahmad      95    1.80  29.320988\n"
     ]
    }
   ],
   "source": [
    "# create new column\n",
    "df['BMI']=df['Weight']/(df['Height']**2)\n",
    "print(df)"
   ]
  },
  {
   "cell_type": "code",
   "execution_count": 78,
   "id": "d147b299",
   "metadata": {},
   "outputs": [
    {
     "name": "stdout",
     "output_type": "stream",
     "text": [
      "    Name  Weight  Height        BMI\n",
      "0    Ali      60    1.65  22.038567\n",
      "1    Abu      85    1.78  26.827421\n",
      "2   Siti      72    1.75  23.510204\n",
      "3  Ahmad      95    1.80  29.320988\n"
     ]
    }
   ],
   "source": [
    "# (apply())\n",
    "df=pd.DataFrame({\n",
    "    'Name':['Ali','Abu','Siti','Ahmad'],\n",
    "    'Weight':[60,85,72,95],\n",
    "    'Height':[1.65,1.78,1.75,1.80]\n",
    "})\n",
    "\n",
    "def calculate_bmi(row):\n",
    "    return row['Weight']/(row['Height']**2)\n",
    "\n",
    "df['BMI']=df.apply(calculate_bmi,axis=1)\n",
    "print(df)"
   ]
  },
  {
   "cell_type": "code",
   "execution_count": 85,
   "id": "af6eae6b",
   "metadata": {},
   "outputs": [
    {
     "name": "stdout",
     "output_type": "stream",
     "text": [
      "    Name  Weight  Height weight category\n",
      "0    Ali      60    1.65          Normal\n",
      "1    Abu      85    1.78      Overweight\n",
      "2   Siti      72    1.75      Overweight\n",
      "3  Ahmad      95    1.80      Overweight\n"
     ]
    }
   ],
   "source": [
    "# (apply())\n",
    "df=pd.DataFrame({\n",
    "    'Name':['Ali','Abu','Siti','Ahmad'],\n",
    "    'Weight':[60,85,72,95],\n",
    "    'Height':[1.65,1.78,1.75,1.80]\n",
    "})\n",
    "\n",
    "def weight_category(row):\n",
    "    if row['Weight']<65:\n",
    "        return 'Normal'\n",
    "    else:\n",
    "        return 'Overweight'\n",
    "\n",
    "df['weight category']=df.apply(weight_category,axis=1)\n",
    "print(df)"
   ]
  },
  {
   "cell_type": "code",
   "execution_count": 83,
   "id": "40937253",
   "metadata": {},
   "outputs": [
    {
     "name": "stdout",
     "output_type": "stream",
     "text": [
      "  Category   Fruit\n",
      "0        A   Apple\n",
      "1        B  Banana\n",
      "2        A   Apple\n",
      "3        C  Cherry\n",
      "4        B  Banana\n",
      "5        c     NaN\n",
      "6        A   Apple\n"
     ]
    }
   ],
   "source": [
    "df=pd.DataFrame({\n",
    "    'Category':['A','B','A','C','B','c','A']\n",
    "})\n",
    "\n",
    "# use MAP to map category using the following dictionary\n",
    "dict={'A':'Apple',\n",
    "      'B':'Banana',\n",
    "      'C':'Cherry'   \n",
    "}\n",
    "\n",
    "# create a new column called fruit\n",
    "df['Fruit']=df['Category'].map(dict)\n",
    "print(df)"
   ]
  },
  {
   "cell_type": "markdown",
   "id": "e4edee9c",
   "metadata": {},
   "source": [
    "### Discretization"
   ]
  },
  {
   "cell_type": "code",
   "execution_count": 86,
   "id": "e809efab",
   "metadata": {},
   "outputs": [
    {
     "name": "stdout",
     "output_type": "stream",
     "text": [
      "   Mark          Mark_Bin\n",
      "0    12  (11.917, 39.667]\n",
      "1    20  (11.917, 39.667]\n",
      "2    35  (11.917, 39.667]\n",
      "3    50  (39.667, 67.333]\n",
      "4    65  (39.667, 67.333]\n",
      "5    75    (67.333, 95.0]\n",
      "6    88    (67.333, 95.0]\n",
      "7    95    (67.333, 95.0]\n"
     ]
    }
   ],
   "source": [
    "# pd.cut\n",
    "df=pd.DataFrame({'Mark':[12,20,35,50,65,75,88,95]})\n",
    "df['Mark_Bin']=pd.cut(df['Mark'],bins=3) # cut into equal size\n",
    "print(df)"
   ]
  },
  {
   "cell_type": "code",
   "execution_count": 88,
   "id": "aec840c6",
   "metadata": {},
   "outputs": [
    {
     "name": "stdout",
     "output_type": "stream",
     "text": [
      "   Mark Mark_Bin\n",
      "0    12        C\n",
      "1    20        C\n",
      "2    35        C\n",
      "3    50        B\n",
      "4    65        B\n",
      "5    75        A\n",
      "6    88        A\n",
      "7    95        A\n"
     ]
    }
   ],
   "source": [
    "# pd.cut(x, bins, labels=None, right=True)\n",
    "\n",
    "df=pd.DataFrame({'Mark':[12,20,35,50,65,75,88,95]})\n",
    "df['Mark_Bin']=pd.cut(df['Mark'],labels=['C','B','A'],bins=3) # cut into equal size\n",
    "print(df)"
   ]
  },
  {
   "cell_type": "code",
   "execution_count": 91,
   "id": "bb55deb6",
   "metadata": {},
   "outputs": [
    {
     "name": "stdout",
     "output_type": "stream",
     "text": [
      "   Mark   Mark_Bin\n",
      "0    12    [0, 70)\n",
      "1    20    [0, 70)\n",
      "2    35    [0, 70)\n",
      "3    50    [0, 70)\n",
      "4    65    [0, 70)\n",
      "5    75   [70, 80)\n",
      "6    88  [80, 100)\n",
      "7    95  [80, 100)\n"
     ]
    }
   ],
   "source": [
    "df=pd.DataFrame({'Mark':[12,20,35,50,65,75,88,95]})\n",
    "labels=['C','B','A']\n",
    "bins=[0,70,80,100]\n",
    "df['Mark_Bin']=pd.cut(df['Mark'],bins=bins,right=False) # right is choosing which interval to be closed\n",
    "print(df)"
   ]
  },
  {
   "cell_type": "code",
   "execution_count": 92,
   "id": "966da9a1",
   "metadata": {},
   "outputs": [
    {
     "name": "stdout",
     "output_type": "stream",
     "text": [
      "   Mark         Mark_Bin\n",
      "0    12  (11.999, 31.25]\n",
      "1    20  (11.999, 31.25]\n",
      "2    35    (31.25, 57.5]\n",
      "3    50    (31.25, 57.5]\n",
      "4    65    (57.5, 78.25]\n",
      "5    75    (57.5, 78.25]\n",
      "6    88    (78.25, 95.0]\n",
      "7    95    (78.25, 95.0]\n"
     ]
    }
   ],
   "source": [
    "# pd.qcut(x, q, labels=None)\n",
    "\n",
    "df=pd.DataFrame({'Mark':[12,20,35,50,65,75,88,95]})\n",
    "df['Mark_Bin']=pd.qcut(df['Mark'],q=4)\n",
    "print(df)"
   ]
  },
  {
   "cell_type": "markdown",
   "id": "4a3f23f9",
   "metadata": {},
   "source": [
    "### Permutation and Random Sampling"
   ]
  },
  {
   "cell_type": "code",
   "execution_count": 94,
   "id": "947a7a39",
   "metadata": {},
   "outputs": [
    {
     "name": "stdout",
     "output_type": "stream",
     "text": [
      "original arr: [1 2 3 4 5]\n",
      "shuffled arr: [5 4 3 1 2]\n"
     ]
    }
   ],
   "source": [
    "arr=np.array([1,2,3,4,5])\n",
    "\n",
    "shuffle_arr=np.random.permutation(arr)\n",
    "\n",
    "print('original arr:',arr)\n",
    "print('shuffled arr:',shuffle_arr)"
   ]
  },
  {
   "cell_type": "code",
   "execution_count": 98,
   "id": "1bfe4278",
   "metadata": {},
   "outputs": [
    {
     "name": "stdout",
     "output_type": "stream",
     "text": [
      "original arr: [1 2 3 4 5]\n",
      "shuffled arr:    A  B\n",
      "1  2  b\n",
      "4  5  e\n",
      "2  3  c\n",
      "0  1  a\n",
      "3  4  d\n"
     ]
    }
   ],
   "source": [
    "df=pd.DataFrame({\n",
    "    'A':[1,2,3,4,5],\n",
    "    'B':['a','b','c','d','e']\n",
    "})\n",
    "\n",
    "np.random.seed(42)\n",
    "shuffle_df=df.sample(frac=1)\n",
    "print('original arr:',arr)\n",
    "print('shuffled arr:',shuffle_df)"
   ]
  },
  {
   "cell_type": "code",
   "execution_count": 99,
   "id": "16aac8f3",
   "metadata": {},
   "outputs": [
    {
     "name": "stdout",
     "output_type": "stream",
     "text": [
      "original arr: [1 2 3 4 5]\n",
      "sample with replacement: [4 5 3]\n",
      "sample with without replacement: [4 2 3]\n"
     ]
    }
   ],
   "source": [
    "# numpy array\n",
    "arr=np.array([1,2,3,4,5])\n",
    "\n",
    "np.random.seed(42)\n",
    "arr_rep=np.random.choice(arr,size=3,replace=True)\n",
    "arr_wrep=np.random.choice(arr,size=3,replace=False)\n",
    "print('original arr:',arr)\n",
    "print('sample with replacement:',arr_rep)\n",
    "print('sample with without replacement:',arr_wrep)"
   ]
  },
  {
   "cell_type": "code",
   "execution_count": 100,
   "id": "c7986036",
   "metadata": {},
   "outputs": [
    {
     "name": "stdout",
     "output_type": "stream",
     "text": [
      "original arr: [1 2 3 4 5]\n",
      "sample with replacement:    A  B\n",
      "3  4  d\n",
      "4  5  e\n",
      "2  3  c\n",
      "sample with without replacement:    A  B\n",
      "3  4  d\n",
      "1  2  b\n",
      "2  3  c\n"
     ]
    }
   ],
   "source": [
    "## panda \n",
    "df=pd.DataFrame({\n",
    "    'A':[1,2,3,4,5],\n",
    "    'B':['a','b','c','d','e']\n",
    "})\n",
    "\n",
    "np.random.seed(42)\n",
    "df_rep=df.sample(n=3,replace=True)\n",
    "df_wrep=df.sample(n=3,replace=False)\n",
    "print('original arr:',arr)\n",
    "print('sample with replacement:',df_rep)\n",
    "print('sample with without replacement:',df_wrep)"
   ]
  },
  {
   "cell_type": "code",
   "execution_count": 101,
   "id": "28aa86d8",
   "metadata": {},
   "outputs": [
    {
     "name": "stdout",
     "output_type": "stream",
     "text": [
      "original df:    A  B\n",
      "0  1  a\n",
      "1  2  b\n",
      "2  3  c\n",
      "3  4  d\n",
      "4  5  e\n",
      "shuffled df: [5 4 3 1 2]\n"
     ]
    }
   ],
   "source": [
    "df=pd.DataFrame({\n",
    "    'A':[1,2,3,4,5],\n",
    "    'B':['a','b','c','d','e']\n",
    "})\n",
    "\n",
    "np.random.seed(42)\n",
    "shuffle_df=df.iloc[np.random.permutation(df.index)]\n",
    "print('original df:',df)\n",
    "print('shuffled df:',shuffle_arr)"
   ]
  },
  {
   "cell_type": "markdown",
   "id": "0c140559",
   "metadata": {},
   "source": [
    "### Dummy Variable"
   ]
  },
  {
   "cell_type": "code",
   "execution_count": 104,
   "id": "108a1308",
   "metadata": {},
   "outputs": [
    {
     "name": "stdout",
     "output_type": "stream",
     "text": [
      "  City  Category_A  Category_B  Category_C\n",
      "0   KL        True       False       False\n",
      "1  SGR       False        True       False\n",
      "2  TRG       False       False        True\n",
      "3  PHG        True       False       False\n"
     ]
    }
   ],
   "source": [
    "df=pd.DataFrame({\n",
    "    'City':['KL','SGR','TRG','PHG'],\n",
    "    'Category':['A','B','C','A']\n",
    "})\n",
    "df_dummy=pd.get_dummies(df,columns=['Category'],drop_first=False)\n",
    "print(df_dummy)"
   ]
  },
  {
   "cell_type": "code",
   "execution_count": 103,
   "id": "bb6cdbd2",
   "metadata": {},
   "outputs": [
    {
     "data": {
      "text/html": [
       "<div>\n",
       "<style scoped>\n",
       "    .dataframe tbody tr th:only-of-type {\n",
       "        vertical-align: middle;\n",
       "    }\n",
       "\n",
       "    .dataframe tbody tr th {\n",
       "        vertical-align: top;\n",
       "    }\n",
       "\n",
       "    .dataframe thead th {\n",
       "        text-align: right;\n",
       "    }\n",
       "</style>\n",
       "<table border=\"1\" class=\"dataframe\">\n",
       "  <thead>\n",
       "    <tr style=\"text-align: right;\">\n",
       "      <th></th>\n",
       "      <th>City</th>\n",
       "      <th>Category</th>\n",
       "    </tr>\n",
       "  </thead>\n",
       "  <tbody>\n",
       "    <tr>\n",
       "      <th>0</th>\n",
       "      <td>KL</td>\n",
       "      <td>A</td>\n",
       "    </tr>\n",
       "    <tr>\n",
       "      <th>1</th>\n",
       "      <td>SGR</td>\n",
       "      <td>B</td>\n",
       "    </tr>\n",
       "    <tr>\n",
       "      <th>2</th>\n",
       "      <td>TRG</td>\n",
       "      <td>C</td>\n",
       "    </tr>\n",
       "    <tr>\n",
       "      <th>3</th>\n",
       "      <td>PHG</td>\n",
       "      <td>A</td>\n",
       "    </tr>\n",
       "  </tbody>\n",
       "</table>\n",
       "</div>"
      ],
      "text/plain": [
       "  City Category\n",
       "0   KL        A\n",
       "1  SGR        B\n",
       "2  TRG        C\n",
       "3  PHG        A"
      ]
     },
     "execution_count": 103,
     "metadata": {},
     "output_type": "execute_result"
    }
   ],
   "source": [
    "df"
   ]
  },
  {
   "cell_type": "markdown",
   "id": "73f923b2",
   "metadata": {},
   "source": [
    "### String Manipulation"
   ]
  },
  {
   "cell_type": "code",
   "execution_count": 105,
   "id": "dbf08e5a",
   "metadata": {},
   "outputs": [
    {
     "name": "stdout",
     "output_type": "stream",
     "text": [
      "PYTHON IS FUN!\n"
     ]
    }
   ],
   "source": [
    "text='Python is FUN!'\n",
    "\n",
    "# convert to lowercase\n",
    "print(text.upper())"
   ]
  },
  {
   "cell_type": "code",
   "execution_count": 111,
   "id": "0943ec2e",
   "metadata": {},
   "outputs": [
    {
     "name": "stdout",
     "output_type": "stream",
     "text": [
      "True\n"
     ]
    }
   ],
   "source": [
    "# string validation\n",
    "text='12345'\n",
    "\n",
    "print(text.isdigit())"
   ]
  },
  {
   "cell_type": "code",
   "execution_count": 113,
   "id": "385b17c0",
   "metadata": {},
   "outputs": [
    {
     "name": "stdout",
     "output_type": "stream",
     "text": [
      "Hello Worlds!\n"
     ]
    }
   ],
   "source": [
    "text='Hello Worlds!'\n",
    "print(text.strip()) #remove whitespace"
   ]
  },
  {
   "cell_type": "code",
   "execution_count": 115,
   "id": "5babc493",
   "metadata": {},
   "outputs": [
    {
     "name": "stdout",
     "output_type": "stream",
     "text": [
      "-1\n"
     ]
    }
   ],
   "source": [
    "text='Hello Python!'\n",
    "print(text.find('r')) # -1 meaning it is not found"
   ]
  },
  {
   "cell_type": "code",
   "execution_count": 117,
   "id": "3fcabe12",
   "metadata": {},
   "outputs": [
    {
     "name": "stdout",
     "output_type": "stream",
     "text": [
      "True\n"
     ]
    }
   ],
   "source": [
    "text='Hello Python!'\n",
    "print(text.startswith('H'))"
   ]
  },
  {
   "cell_type": "code",
   "execution_count": 118,
   "id": "bc768b85",
   "metadata": {},
   "outputs": [
    {
     "name": "stdout",
     "output_type": "stream",
     "text": [
      "I love R\n"
     ]
    }
   ],
   "source": [
    "text='I love Python'\n",
    "print(text.replace('Python','R'))"
   ]
  },
  {
   "cell_type": "code",
   "execution_count": 121,
   "id": "577914bb",
   "metadata": {},
   "outputs": [
    {
     "name": "stdout",
     "output_type": "stream",
     "text": [
      "['apple', 'banana', 'cherry']\n",
      "apple&banana&cherry\n"
     ]
    }
   ],
   "source": [
    "text='apple,banana,cherry'\n",
    "fruit=text.split(',')\n",
    "print(fruit)\n",
    "\n",
    "print('&'.join(fruit))"
   ]
  },
  {
   "cell_type": "code",
   "execution_count": 122,
   "id": "543b3349",
   "metadata": {},
   "outputs": [
    {
     "data": {
      "text/html": [
       "<div>\n",
       "<style scoped>\n",
       "    .dataframe tbody tr th:only-of-type {\n",
       "        vertical-align: middle;\n",
       "    }\n",
       "\n",
       "    .dataframe tbody tr th {\n",
       "        vertical-align: top;\n",
       "    }\n",
       "\n",
       "    .dataframe thead th {\n",
       "        text-align: right;\n",
       "    }\n",
       "</style>\n",
       "<table border=\"1\" class=\"dataframe\">\n",
       "  <thead>\n",
       "    <tr style=\"text-align: right;\">\n",
       "      <th></th>\n",
       "      <th>Name</th>\n",
       "      <th>Comment</th>\n",
       "    </tr>\n",
       "  </thead>\n",
       "  <tbody>\n",
       "    <tr>\n",
       "      <th>0</th>\n",
       "      <td>Ali</td>\n",
       "      <td>I hate Python</td>\n",
       "    </tr>\n",
       "    <tr>\n",
       "      <th>1</th>\n",
       "      <td>Abu</td>\n",
       "      <td>Python is boring</td>\n",
       "    </tr>\n",
       "    <tr>\n",
       "      <th>2</th>\n",
       "      <td>Siti</td>\n",
       "      <td>I find R is easier</td>\n",
       "    </tr>\n",
       "    <tr>\n",
       "      <th>3</th>\n",
       "      <td>AHMAD</td>\n",
       "      <td>I just HATE both</td>\n",
       "    </tr>\n",
       "  </tbody>\n",
       "</table>\n",
       "</div>"
      ],
      "text/plain": [
       "    Name             Comment\n",
       "0    Ali       I hate Python\n",
       "1    Abu    Python is boring\n",
       "2   Siti  I find R is easier\n",
       "3  AHMAD    I just HATE both"
      ]
     },
     "execution_count": 122,
     "metadata": {},
     "output_type": "execute_result"
    }
   ],
   "source": [
    "df=pd.DataFrame({\n",
    "    'Name':['Ali','Abu','Siti','AHMAD'],\n",
    "    'Comment':['I hate Python','Python is boring','I find R is easier','I just HATE both']    \n",
    "})\n",
    "df"
   ]
  },
  {
   "cell_type": "code",
   "execution_count": 124,
   "id": "4515010d",
   "metadata": {},
   "outputs": [
    {
     "data": {
      "text/html": [
       "<div>\n",
       "<style scoped>\n",
       "    .dataframe tbody tr th:only-of-type {\n",
       "        vertical-align: middle;\n",
       "    }\n",
       "\n",
       "    .dataframe tbody tr th {\n",
       "        vertical-align: top;\n",
       "    }\n",
       "\n",
       "    .dataframe thead th {\n",
       "        text-align: right;\n",
       "    }\n",
       "</style>\n",
       "<table border=\"1\" class=\"dataframe\">\n",
       "  <thead>\n",
       "    <tr style=\"text-align: right;\">\n",
       "      <th></th>\n",
       "      <th>Name</th>\n",
       "      <th>Comment</th>\n",
       "    </tr>\n",
       "  </thead>\n",
       "  <tbody>\n",
       "    <tr>\n",
       "      <th>0</th>\n",
       "      <td>ali</td>\n",
       "      <td>I hate Python</td>\n",
       "    </tr>\n",
       "    <tr>\n",
       "      <th>1</th>\n",
       "      <td>abu</td>\n",
       "      <td>Python is boring</td>\n",
       "    </tr>\n",
       "    <tr>\n",
       "      <th>2</th>\n",
       "      <td>siti</td>\n",
       "      <td>I find R is easier</td>\n",
       "    </tr>\n",
       "    <tr>\n",
       "      <th>3</th>\n",
       "      <td>ahmad</td>\n",
       "      <td>I just HATE both</td>\n",
       "    </tr>\n",
       "  </tbody>\n",
       "</table>\n",
       "</div>"
      ],
      "text/plain": [
       "    Name             Comment\n",
       "0    ali       I hate Python\n",
       "1    abu    Python is boring\n",
       "2   siti  I find R is easier\n",
       "3  ahmad    I just HATE both"
      ]
     },
     "execution_count": 124,
     "metadata": {},
     "output_type": "execute_result"
    }
   ],
   "source": [
    "df['Name']=df['Name'].str.lower()\n",
    "df"
   ]
  },
  {
   "cell_type": "code",
   "execution_count": 125,
   "id": "48f0982f",
   "metadata": {},
   "outputs": [
    {
     "data": {
      "text/plain": [
       "0    False\n",
       "1    False\n",
       "2    False\n",
       "3    False\n",
       "Name: Comment, dtype: bool"
      ]
     },
     "execution_count": 125,
     "metadata": {},
     "output_type": "execute_result"
    }
   ],
   "source": [
    "df['Comment'].str.isdigit()"
   ]
  },
  {
   "cell_type": "code",
   "execution_count": 127,
   "id": "d4de7600",
   "metadata": {},
   "outputs": [
    {
     "name": "stdout",
     "output_type": "stream",
     "text": [
      "    Name               Comment\n",
      "0    Ali         I hate Python\n",
      "1    Abu     Python is boring \n",
      "2   Siti  I find R is easier  \n",
      "3  AHMAD      I just HATE both\n",
      "    Name             Comment\n",
      "0    Ali       I hate Python\n",
      "1    Abu    Python is boring\n",
      "2   Siti  I find R is easier\n",
      "3  AHMAD    I just HATE both\n"
     ]
    }
   ],
   "source": [
    "df=pd.DataFrame({\n",
    "    'Name':['Ali','Abu','Siti','AHMAD'],\n",
    "    'Comment':['I hate Python','Python is boring ','I find R is easier  ','I just HATE both']    \n",
    "})\n",
    "print(df)\n",
    "df['Comment']=df['Comment'].str.strip()\n",
    "print(df)"
   ]
  },
  {
   "cell_type": "markdown",
   "id": "5e311b6b",
   "metadata": {},
   "source": [
    "### Regular Expressions"
   ]
  },
  {
   "cell_type": "code",
   "execution_count": 132,
   "id": "d5f65ebd",
   "metadata": {},
   "outputs": [
    {
     "name": "stdout",
     "output_type": "stream",
     "text": [
      "['John:25']\n"
     ]
    }
   ],
   "source": [
    "text=\"John:25, Alice-30, Bob-35\"\n",
    "\n",
    "import re\n",
    "outfind=re.findall(r'\\w+:\\d+',text)\n",
    "print(outfind)"
   ]
  },
  {
   "cell_type": "code",
   "execution_count": 134,
   "id": "407a1136",
   "metadata": {},
   "outputs": [
    {
     "name": "stdout",
     "output_type": "stream",
     "text": [
      "['C++']\n"
     ]
    }
   ],
   "source": [
    "text=\"Do you like C++ or C#\"\n",
    "\n",
    "import re\n",
    "outfind=re.findall(r'C\\+\\+',text)\n",
    "print(outfind)"
   ]
  },
  {
   "cell_type": "code",
   "execution_count": 135,
   "id": "fcec608d",
   "metadata": {},
   "outputs": [
    {
     "name": "stdout",
     "output_type": "stream",
     "text": [
      "['100', '50']\n"
     ]
    }
   ],
   "source": [
    "text=\"There are 100 apples and 50 mangoes in this basket\"\n",
    "\n",
    "import re\n",
    "outfind=re.findall(r'\\d+',text)\n",
    "print(outfind)"
   ]
  },
  {
   "cell_type": "code",
   "execution_count": 138,
   "id": "3aee1f9a",
   "metadata": {},
   "outputs": [
    {
     "data": {
      "text/html": [
       "<div>\n",
       "<style scoped>\n",
       "    .dataframe tbody tr th:only-of-type {\n",
       "        vertical-align: middle;\n",
       "    }\n",
       "\n",
       "    .dataframe tbody tr th {\n",
       "        vertical-align: top;\n",
       "    }\n",
       "\n",
       "    .dataframe thead th {\n",
       "        text-align: right;\n",
       "    }\n",
       "</style>\n",
       "<table border=\"1\" class=\"dataframe\">\n",
       "  <thead>\n",
       "    <tr style=\"text-align: right;\">\n",
       "      <th></th>\n",
       "      <th>No</th>\n",
       "      <th>Name</th>\n",
       "      <th>sink Table</th>\n",
       "      <th>dishwasher</th>\n",
       "      <th>no Of mugs/plates</th>\n",
       "      <th>Note</th>\n",
       "    </tr>\n",
       "  </thead>\n",
       "  <tbody>\n",
       "    <tr>\n",
       "      <th>0</th>\n",
       "      <td>1</td>\n",
       "      <td>Ali</td>\n",
       "      <td>sink only</td>\n",
       "      <td>no</td>\n",
       "      <td>9</td>\n",
       "      <td>-</td>\n",
       "    </tr>\n",
       "    <tr>\n",
       "      <th>1</th>\n",
       "      <td>2</td>\n",
       "      <td>Johan</td>\n",
       "      <td>sink and table</td>\n",
       "      <td>YES!</td>\n",
       "      <td>2-3</td>\n",
       "      <td>all looking GOOD!</td>\n",
       "    </tr>\n",
       "    <tr>\n",
       "      <th>2</th>\n",
       "      <td>3</td>\n",
       "      <td>Daus</td>\n",
       "      <td>sink,table</td>\n",
       "      <td>Yes</td>\n",
       "      <td>8</td>\n",
       "      <td>NaN</td>\n",
       "    </tr>\n",
       "    <tr>\n",
       "      <th>3</th>\n",
       "      <td>4</td>\n",
       "      <td>George</td>\n",
       "      <td>NaN</td>\n",
       "      <td>NaN</td>\n",
       "      <td>0</td>\n",
       "      <td>All of us at workshop</td>\n",
       "    </tr>\n",
       "    <tr>\n",
       "      <th>4</th>\n",
       "      <td>5</td>\n",
       "      <td>Amelia</td>\n",
       "      <td>just the table</td>\n",
       "      <td>yes</td>\n",
       "      <td>around 10</td>\n",
       "      <td>NaN</td>\n",
       "    </tr>\n",
       "    <tr>\n",
       "      <th>5</th>\n",
       "      <td>6</td>\n",
       "      <td>Ahmad</td>\n",
       "      <td>both</td>\n",
       "      <td>NO</td>\n",
       "      <td>6</td>\n",
       "      <td>-</td>\n",
       "    </tr>\n",
       "    <tr>\n",
       "      <th>6</th>\n",
       "      <td>6</td>\n",
       "      <td>Ahmad</td>\n",
       "      <td>both</td>\n",
       "      <td>NO</td>\n",
       "      <td>6</td>\n",
       "      <td>-</td>\n",
       "    </tr>\n",
       "    <tr>\n",
       "      <th>7</th>\n",
       "      <td>7</td>\n",
       "      <td>Ava</td>\n",
       "      <td>didn't need doing</td>\n",
       "      <td>no.</td>\n",
       "      <td>4</td>\n",
       "      <td>not messy</td>\n",
       "    </tr>\n",
       "    <tr>\n",
       "      <th>8</th>\n",
       "      <td>8</td>\n",
       "      <td>Harry</td>\n",
       "      <td>just the sink</td>\n",
       "      <td>no</td>\n",
       "      <td>3</td>\n",
       "      <td>NaN</td>\n",
       "    </tr>\n",
       "    <tr>\n",
       "      <th>9</th>\n",
       "      <td>9</td>\n",
       "      <td>Cindy</td>\n",
       "      <td>sink &amp; table</td>\n",
       "      <td>YES</td>\n",
       "      <td>6-9</td>\n",
       "      <td>can't remember them</td>\n",
       "    </tr>\n",
       "    <tr>\n",
       "      <th>10</th>\n",
       "      <td>10</td>\n",
       "      <td>Ariel</td>\n",
       "      <td>table only</td>\n",
       "      <td>no</td>\n",
       "      <td>2</td>\n",
       "      <td>-</td>\n",
       "    </tr>\n",
       "  </tbody>\n",
       "</table>\n",
       "</div>"
      ],
      "text/plain": [
       "    No     Name         sink Table dishwasher no Of mugs/plates  \\\n",
       "0    1      Ali          sink only         no                 9   \n",
       "1    2    Johan     sink and table       YES!               2-3   \n",
       "2    3     Daus         sink,table        Yes                 8   \n",
       "3    4   George                NaN        NaN                 0   \n",
       "4    5  Amelia      just the table        yes         around 10   \n",
       "5    6    Ahmad               both         NO                 6   \n",
       "6    6    Ahmad               both         NO                 6   \n",
       "7    7      Ava  didn't need doing        no.                 4   \n",
       "8    8    Harry      just the sink         no                 3   \n",
       "9    9    Cindy       sink & table        YES               6-9   \n",
       "10  10    Ariel         table only         no                 2   \n",
       "\n",
       "                     Note  \n",
       "0                       -  \n",
       "1       all looking GOOD!  \n",
       "2                     NaN  \n",
       "3   All of us at workshop  \n",
       "4                     NaN  \n",
       "5                       -  \n",
       "6                       -  \n",
       "7               not messy  \n",
       "8                     NaN  \n",
       "9     can't remember them  \n",
       "10                      -  "
      ]
     },
     "execution_count": 138,
     "metadata": {},
     "output_type": "execute_result"
    }
   ],
   "source": [
    "# read data from directory\n",
    "\n",
    "df=pd.read_csv('sample_data_cleaning.csv',skiprows=4)\n",
    "df"
   ]
  },
  {
   "cell_type": "code",
   "execution_count": null,
   "id": "10aad24a",
   "metadata": {},
   "outputs": [],
   "source": [
    "df=pd.read_csv('sample_data_cleaning.csv',skiprows=4,na_values==['-','NaN'])\n",
    "df_columns=df.column.str.lower()\n",
    "df=df.drop_duplicates()\n",
    "df['dishwasher']=df['dishwasher'].str.lower()\n",
    "df['dishwasher']=df['dishwasher'].str.replace(r'^\\w\\s',regex=True)"
   ]
  }
 ],
 "metadata": {
  "kernelspec": {
   "display_name": "Python 3 (ipykernel)",
   "language": "python",
   "name": "python3"
  },
  "language_info": {
   "codemirror_mode": {
    "name": "ipython",
    "version": 3
   },
   "file_extension": ".py",
   "mimetype": "text/x-python",
   "name": "python",
   "nbconvert_exporter": "python",
   "pygments_lexer": "ipython3",
   "version": "3.12.4"
  }
 },
 "nbformat": 4,
 "nbformat_minor": 5
}
