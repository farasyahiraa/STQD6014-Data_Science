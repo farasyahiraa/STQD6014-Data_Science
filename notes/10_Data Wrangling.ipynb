{
 "cells": [
  {
   "cell_type": "code",
   "execution_count": 18,
   "id": "e2ac28a3",
   "metadata": {},
   "outputs": [],
   "source": [
    "import numpy as np\n",
    "import pandas as pd\n",
    "import os # for directory\n",
    "import re # for expression"
   ]
  },
  {
   "cell_type": "code",
   "execution_count": 5,
   "id": "8097b3cb",
   "metadata": {},
   "outputs": [
    {
     "data": {
      "text/plain": [
       "'C:\\\\Users\\\\PC 16\\\\Desktop\\\\NB\\\\data science'"
      ]
     },
     "execution_count": 5,
     "metadata": {},
     "output_type": "execute_result"
    }
   ],
   "source": [
    "os.getcwd()"
   ]
  },
  {
   "cell_type": "code",
   "execution_count": 8,
   "id": "790f003a",
   "metadata": {},
   "outputs": [
    {
     "name": "stdout",
     "output_type": "stream",
     "text": [
      "                  #Cleaning schedule. Start 7/8/2023. Unnamed: 1  \\\n",
      "0   #sink_table: whether they wiped the sink or table        NaN   \n",
      "1   #diswasher: whether the dishwasher was full at...        NaN   \n",
      "2   #no_of mugs/plates: the number of mugs or plat...        NaN   \n",
      "3                                                  No       Name   \n",
      "4                                                   1        Ali   \n",
      "5                                                   2      Johan   \n",
      "6                                                   3       Daus   \n",
      "7                                                   4     George   \n",
      "8                                                   5    Amelia    \n",
      "9                                                   6      Ahmad   \n",
      "10                                                  6      Ahmad   \n",
      "11                                                  7        Ava   \n",
      "12                                                  8      Harry   \n",
      "13                                                  9      Cindy   \n",
      "14                                                 10      Ariel   \n",
      "\n",
      "           Unnamed: 2  Unnamed: 3         Unnamed: 4             Unnamed: 5  \n",
      "0                 NaN         NaN                NaN                    NaN  \n",
      "1                 NaN         NaN                NaN                    NaN  \n",
      "2                 NaN         NaN                NaN                    NaN  \n",
      "3          sink Table  dishwasher  no Of mugs/plates                   Note  \n",
      "4           sink only          no                  9                      -  \n",
      "5      sink and table        YES!                2-3      all looking GOOD!  \n",
      "6          sink,table         Yes                  8                    NaN  \n",
      "7                 NaN         NaN                  0  All of us at workshop  \n",
      "8      just the table         yes          around 10                    NaN  \n",
      "9                both          NO                  6                      -  \n",
      "10               both          NO                  6                      -  \n",
      "11  didn't need doing         no.                  4              not messy  \n",
      "12      just the sink          no                  3                    NaN  \n",
      "13       sink & table         YES                6-9    can't remember them  \n",
      "14         table only          no                  2                      -  \n"
     ]
    }
   ],
   "source": [
    "df=pd.read_csv('clean.csv')\n",
    "print(df)"
   ]
  },
  {
   "cell_type": "code",
   "execution_count": 10,
   "id": "d4b10b81",
   "metadata": {},
   "outputs": [
    {
     "name": "stdout",
     "output_type": "stream",
     "text": [
      "    No     Name         sink Table dishwasher no Of mugs/plates  \\\n",
      "0    1      Ali          sink only         no                 9   \n",
      "1    2    Johan     sink and table       YES!               2-3   \n",
      "2    3     Daus         sink,table        Yes                 8   \n",
      "3    4   George                NaN        NaN                 0   \n",
      "4    5  Amelia      just the table        yes         around 10   \n",
      "5    6    Ahmad               both         NO                 6   \n",
      "6    6    Ahmad               both         NO                 6   \n",
      "7    7      Ava  didn't need doing        no.                 4   \n",
      "8    8    Harry      just the sink         no                 3   \n",
      "9    9    Cindy       sink & table        YES               6-9   \n",
      "10  10    Ariel         table only         no                 2   \n",
      "\n",
      "                     Note  \n",
      "0                     NaN  \n",
      "1       all looking GOOD!  \n",
      "2                     NaN  \n",
      "3   All of us at workshop  \n",
      "4                     NaN  \n",
      "5                     NaN  \n",
      "6                     NaN  \n",
      "7               not messy  \n",
      "8                     NaN  \n",
      "9     can't remember them  \n",
      "10                    NaN  \n"
     ]
    }
   ],
   "source": [
    "df=pd.read_csv('clean.csv', skiprows=4, na_values=['-'])\n",
    "print(df)"
   ]
  },
  {
   "cell_type": "code",
   "execution_count": 11,
   "id": "e44e0c25",
   "metadata": {},
   "outputs": [
    {
     "name": "stdout",
     "output_type": "stream",
     "text": [
      "    no     name         sink table dishwasher no of mugs/plates  \\\n",
      "0    1      Ali          sink only         no                 9   \n",
      "1    2    Johan     sink and table       YES!               2-3   \n",
      "2    3     Daus         sink,table        Yes                 8   \n",
      "3    4   George                NaN        NaN                 0   \n",
      "4    5  Amelia      just the table        yes         around 10   \n",
      "5    6    Ahmad               both         NO                 6   \n",
      "6    6    Ahmad               both         NO                 6   \n",
      "7    7      Ava  didn't need doing        no.                 4   \n",
      "8    8    Harry      just the sink         no                 3   \n",
      "9    9    Cindy       sink & table        YES               6-9   \n",
      "10  10    Ariel         table only         no                 2   \n",
      "\n",
      "                     note  \n",
      "0                     NaN  \n",
      "1       all looking GOOD!  \n",
      "2                     NaN  \n",
      "3   All of us at workshop  \n",
      "4                     NaN  \n",
      "5                     NaN  \n",
      "6                     NaN  \n",
      "7               not messy  \n",
      "8                     NaN  \n",
      "9     can't remember them  \n",
      "10                    NaN  \n"
     ]
    }
   ],
   "source": [
    "df.columns=df.columns.str.lower() #make all lowercase\n",
    "print(df)"
   ]
  },
  {
   "cell_type": "code",
   "execution_count": 12,
   "id": "33959464",
   "metadata": {},
   "outputs": [
    {
     "name": "stdout",
     "output_type": "stream",
     "text": [
      "    no     name         sink table dishwasher no of mugs/plates  \\\n",
      "0    1      Ali          sink only         no                 9   \n",
      "1    2    Johan     sink and table       YES!               2-3   \n",
      "2    3     Daus         sink,table        Yes                 8   \n",
      "3    4   George                NaN        NaN                 0   \n",
      "4    5  Amelia      just the table        yes         around 10   \n",
      "5    6    Ahmad               both         NO                 6   \n",
      "7    7      Ava  didn't need doing        no.                 4   \n",
      "8    8    Harry      just the sink         no                 3   \n",
      "9    9    Cindy       sink & table        YES               6-9   \n",
      "10  10    Ariel         table only         no                 2   \n",
      "\n",
      "                     note  \n",
      "0                     NaN  \n",
      "1       all looking GOOD!  \n",
      "2                     NaN  \n",
      "3   All of us at workshop  \n",
      "4                     NaN  \n",
      "5                     NaN  \n",
      "7               not messy  \n",
      "8                     NaN  \n",
      "9     can't remember them  \n",
      "10                    NaN  \n"
     ]
    }
   ],
   "source": [
    "df=df.drop_duplicates()\n",
    "print(df)"
   ]
  },
  {
   "cell_type": "code",
   "execution_count": 13,
   "id": "64d88314",
   "metadata": {},
   "outputs": [
    {
     "name": "stdout",
     "output_type": "stream",
     "text": [
      "   index  no     name         sink table dishwasher no of mugs/plates  \\\n",
      "0      0   1      Ali          sink only         no                 9   \n",
      "1      1   2    Johan     sink and table       YES!               2-3   \n",
      "2      2   3     Daus         sink,table        Yes                 8   \n",
      "3      3   4   George                NaN        NaN                 0   \n",
      "4      4   5  Amelia      just the table        yes         around 10   \n",
      "5      5   6    Ahmad               both         NO                 6   \n",
      "6      7   7      Ava  didn't need doing        no.                 4   \n",
      "7      8   8    Harry      just the sink         no                 3   \n",
      "8      9   9    Cindy       sink & table        YES               6-9   \n",
      "9     10  10    Ariel         table only         no                 2   \n",
      "\n",
      "                    note  \n",
      "0                    NaN  \n",
      "1      all looking GOOD!  \n",
      "2                    NaN  \n",
      "3  All of us at workshop  \n",
      "4                    NaN  \n",
      "5                    NaN  \n",
      "6              not messy  \n",
      "7                    NaN  \n",
      "8    can't remember them  \n",
      "9                    NaN  \n"
     ]
    }
   ],
   "source": [
    "df=df.drop_duplicates()\n",
    "print(df.reset_index())  #reset or df=df.drop_duplicates().reset_index()"
   ]
  },
  {
   "cell_type": "code",
   "execution_count": 14,
   "id": "74bb7166",
   "metadata": {},
   "outputs": [
    {
     "data": {
      "text/plain": [
       "0        Ali\n",
       "1      Johan\n",
       "2       Daus\n",
       "3     George\n",
       "4     Amelia\n",
       "5      Ahmad\n",
       "7        Ava\n",
       "8      Harry\n",
       "9      Cindy\n",
       "10     Ariel\n",
       "Name: name, dtype: object"
      ]
     },
     "execution_count": 14,
     "metadata": {},
     "output_type": "execute_result"
    }
   ],
   "source": [
    "#output in series\n",
    "df['name'].str.strip()"
   ]
  },
  {
   "cell_type": "code",
   "execution_count": 15,
   "id": "fe8f3b6f",
   "metadata": {},
   "outputs": [
    {
     "name": "stdout",
     "output_type": "stream",
     "text": [
      "    no    name         sink table dishwasher no of mugs/plates  \\\n",
      "0    1     Ali          sink only         no                 9   \n",
      "1    2   Johan     sink and table       YES!               2-3   \n",
      "2    3    Daus         sink,table        Yes                 8   \n",
      "3    4  George                NaN        NaN                 0   \n",
      "4    5  Amelia     just the table        yes         around 10   \n",
      "5    6   Ahmad               both         NO                 6   \n",
      "7    7     Ava  didn't need doing        no.                 4   \n",
      "8    8   Harry      just the sink         no                 3   \n",
      "9    9   Cindy       sink & table        YES               6-9   \n",
      "10  10   Ariel         table only         no                 2   \n",
      "\n",
      "                     note  \n",
      "0                     NaN  \n",
      "1       all looking GOOD!  \n",
      "2                     NaN  \n",
      "3   All of us at workshop  \n",
      "4                     NaN  \n",
      "5                     NaN  \n",
      "7               not messy  \n",
      "8                     NaN  \n",
      "9     can't remember them  \n",
      "10                    NaN  \n"
     ]
    }
   ],
   "source": [
    "df['name']=df['name'].str.strip() ##replacing white space in original data\n",
    "print(df)                             "
   ]
  },
  {
   "cell_type": "code",
   "execution_count": 17,
   "id": "e45f4a97",
   "metadata": {},
   "outputs": [
    {
     "name": "stdout",
     "output_type": "stream",
     "text": [
      "    no    name         sink table dishwasher no of mugs/plates  \\\n",
      "0    1     Ali          sink only         no                 9   \n",
      "1    2   Johan     sink and table       YES!               2-3   \n",
      "2    3    Daus         sink,table        Yes                 8   \n",
      "3    4  George                NaN        NaN                 0   \n",
      "4    5  Amelia     just the table        yes         around 10   \n",
      "5    6   Ahmad               both         NO                 6   \n",
      "7    7     Ava  didn't need doing        no.                 4   \n",
      "8    8   Harry      just the sink         no                 3   \n",
      "9    9   Cindy       sink & table        YES               6-9   \n",
      "10  10   Ariel         table only         no                 2   \n",
      "\n",
      "                     note  \n",
      "0                     NaN  \n",
      "1       all looking GOOD!  \n",
      "2                     NaN  \n",
      "3   All of us at workshop  \n",
      "4                     NaN  \n",
      "5                     NaN  \n",
      "7               not messy  \n",
      "8                     NaN  \n",
      "9     can't remember them  \n",
      "10                    NaN  \n"
     ]
    }
   ],
   "source": [
    "df=df.map(lambda x:x.strip() if isinstance(x,str) else x) #remove whitespace if data is string with condition\n",
    "print(df)"
   ]
  },
  {
   "cell_type": "code",
   "execution_count": 20,
   "id": "c7ae4348",
   "metadata": {},
   "outputs": [
    {
     "name": "stdout",
     "output_type": "stream",
     "text": [
      "    no    name         sink table dishwasher no of mugs/plates  \\\n",
      "0    1     Ali          sink only         no                 9   \n",
      "1    2   Johan     sink and table        YES               2-3   \n",
      "2    3    Daus         sink,table        Yes                 8   \n",
      "3    4  George                NaN        NaN                 0   \n",
      "4    5  Amelia     just the table        yes         around 10   \n",
      "5    6   Ahmad               both         NO                 6   \n",
      "7    7     Ava  didn't need doing         no                 4   \n",
      "8    8   Harry      just the sink         no                 3   \n",
      "9    9   Cindy       sink & table        YES               6-9   \n",
      "10  10   Ariel         table only         no                 2   \n",
      "\n",
      "                     note  \n",
      "0                     NaN  \n",
      "1       all looking GOOD!  \n",
      "2                     NaN  \n",
      "3   All of us at workshop  \n",
      "4                     NaN  \n",
      "5                     NaN  \n",
      "7               not messy  \n",
      "8                     NaN  \n",
      "9     can't remember them  \n",
      "10                    NaN  \n"
     ]
    }
   ],
   "source": [
    "#import re\n",
    "df['dishwasher']=df['dishwasher'].str.replace(r'[^\\w\\s]','',regex=True) \n",
    "print(df)"
   ]
  },
  {
   "cell_type": "code",
   "execution_count": 22,
   "id": "fedd7577",
   "metadata": {},
   "outputs": [],
   "source": [
    "df['dishwasher']=df['dishwasher'].str.lower()"
   ]
  },
  {
   "cell_type": "code",
   "execution_count": 23,
   "id": "b8b19018",
   "metadata": {},
   "outputs": [
    {
     "name": "stdout",
     "output_type": "stream",
     "text": [
      "    no    name         sink table dishwasher no of mugs/plates  \\\n",
      "0    1     Ali          sink only         no                 9   \n",
      "1    2   Johan     sink and table        yes               2-3   \n",
      "2    3    Daus         sink,table        yes                 8   \n",
      "3    4  George                NaN        NaN                 0   \n",
      "4    5  Amelia     just the table        yes                10   \n",
      "5    6   Ahmad               both         no                 6   \n",
      "7    7     Ava  didn't need doing         no                 4   \n",
      "8    8   Harry      just the sink         no                 3   \n",
      "9    9   Cindy       sink & table        yes               6-9   \n",
      "10  10   Ariel         table only         no                 2   \n",
      "\n",
      "                     note  \n",
      "0                     NaN  \n",
      "1       all looking GOOD!  \n",
      "2                     NaN  \n",
      "3   All of us at workshop  \n",
      "4                     NaN  \n",
      "5                     NaN  \n",
      "7               not messy  \n",
      "8                     NaN  \n",
      "9     can't remember them  \n",
      "10                    NaN  \n"
     ]
    }
   ],
   "source": [
    "#remove all character in dataset\n",
    "df['no of mugs/plates']=df['no of mugs/plates'].str.replace(r'[^\\d-]','',regex=True)\n",
    "print(df)"
   ]
  },
  {
   "cell_type": "code",
   "execution_count": 28,
   "id": "a885bb1f",
   "metadata": {},
   "outputs": [
    {
     "name": "stdout",
     "output_type": "stream",
     "text": [
      "    no    name         sink table dishwasher no of mugs/plates  \\\n",
      "0    1     Ali          sink only         no                 9   \n",
      "1    2   Johan     sink and table        yes               2-3   \n",
      "2    3    Daus         sink,table        yes                 8   \n",
      "3    4  George                NaN        NaN                 0   \n",
      "4    5  Amelia     just the table        yes                10   \n",
      "5    6   Ahmad               both         no                 6   \n",
      "7    7     Ava  didn't need doing         no                 4   \n",
      "8    8   Harry      just the sink         no                 3   \n",
      "9    9   Cindy       sink & table        yes               6-9   \n",
      "10  10   Ariel         table only         no                 2   \n",
      "\n",
      "                     note   sink  table  \n",
      "0                     NaN   True  False  \n",
      "1       all looking GOOD!   True   True  \n",
      "2                     NaN   True   True  \n",
      "3   All of us at workshop    NaN    NaN  \n",
      "4                     NaN  False   True  \n",
      "5                     NaN   True   True  \n",
      "7               not messy  False  False  \n",
      "8                     NaN   True  False  \n",
      "9     can't remember them   True   True  \n",
      "10                    NaN  False   True  \n"
     ]
    }
   ],
   "source": [
    "df['sink']=df['sink table'].str.contains('sink|both')#check first true/false bfr save it to original data df[]=df[]\n",
    "df['table']=df['sink table'].str.contains('table|both')\n",
    "print(df)"
   ]
  },
  {
   "cell_type": "code",
   "execution_count": 29,
   "id": "0a60ee28",
   "metadata": {},
   "outputs": [
    {
     "name": "stdout",
     "output_type": "stream",
     "text": [
      "      name   sink  table no of mugs/plates                   note\n",
      "0      Ali   True  False                 9                    NaN\n",
      "1    Johan   True   True               2-3      all looking GOOD!\n",
      "2     Daus   True   True                 8                    NaN\n",
      "3   George    NaN    NaN                 0  All of us at workshop\n",
      "4   Amelia  False   True                10                    NaN\n",
      "5    Ahmad   True   True                 6                    NaN\n",
      "7      Ava  False  False                 4              not messy\n",
      "8    Harry   True  False                 3                    NaN\n",
      "9    Cindy   True   True               6-9    can't remember them\n",
      "10   Ariel  False   True                 2                    NaN\n"
     ]
    }
   ],
   "source": [
    "# output in dataframe\n",
    "df_reduced=df[['name','sink','table','no of mugs/plates','note']]\n",
    "print(df_reduced)"
   ]
  },
  {
   "cell_type": "markdown",
   "id": "a4e57b96",
   "metadata": {},
   "source": [
    "### Hierarchical Index"
   ]
  },
  {
   "cell_type": "code",
   "execution_count": 33,
   "id": "8e1f4451",
   "metadata": {},
   "outputs": [
    {
     "name": "stdout",
     "output_type": "stream",
     "text": [
      "                 Metric1   Metric2\n",
      "Group Subgroup                    \n",
      "G1    A         0.496714 -0.138264\n",
      "      B         0.647689  1.523030\n",
      "G2    A        -0.234153 -0.234137\n",
      "      B         1.579213  0.767435\n"
     ]
    }
   ],
   "source": [
    "#array\n",
    "group=['G1','G1','G2','G2']\n",
    "subgroup=['A','B','A','B']\n",
    "\n",
    "#recreating hie index from array\n",
    "sa_index=pd.MultiIndex.from_arrays([group,subgroup],names=['Group','Subgroup'])\n",
    "\n",
    "np.random.seed(42)\n",
    "data=pd.DataFrame(np.random.randn(4,2),columns=['Metric1', 'Metric2'],index=m_index)\n",
    "print(data)"
   ]
  },
  {
   "cell_type": "code",
   "execution_count": 32,
   "id": "e164f8de",
   "metadata": {},
   "outputs": [
    {
     "name": "stdout",
     "output_type": "stream",
     "text": [
      "                 Metric1   Metric2\n",
      "Group Subgroup                    \n",
      "G1    A         0.496714 -0.138264\n",
      "      B         0.647689  1.523030\n",
      "G2    A        -0.234153 -0.234137\n",
      "      B         1.579213  0.767435\n"
     ]
    }
   ],
   "source": [
    "#tuples\n",
    "m_index=pd.MultiIndex.from_tuples([('G1','A'),\n",
    "                                   ('G1','B'),\n",
    "                                  ('G2','A'),\n",
    "                                  ('G2','B')],names=['Group','Subgroup'])\n",
    "                                 \n",
    "\n",
    "np.random.seed(42)\n",
    "data=pd.DataFrame(np.random.randn(4,2),columns=['Metric1', 'Metric2'],index=m_index)\n",
    "print(data)"
   ]
  },
  {
   "cell_type": "code",
   "execution_count": 37,
   "id": "132342ae",
   "metadata": {},
   "outputs": [
    {
     "name": "stdout",
     "output_type": "stream",
     "text": [
      "                Metric1  Metric2\n",
      "Group Subgroup                  \n",
      "G1    A             1.0      5.0\n",
      "      B             2.0      6.0\n",
      "G2    A             3.0      7.0\n",
      "      B             4.0      8.0\n"
     ]
    }
   ],
   "source": [
    "#manually\n",
    "data=pd.DataFrame({\n",
    "    'Group':['G1','G1','G2','G2'],\n",
    "    'Subgroup':['A','B','A','B'],\n",
    "    'Metric1':[1.0,2.0,3.0,4.0],\n",
    "    'Metric2':[5.0,6.0,7.0,8.0]\n",
    "})\n",
    "\n",
    "data=data.set_index(['Group','Subgroup'])\n",
    "print(data)"
   ]
  },
  {
   "cell_type": "code",
   "execution_count": 40,
   "id": "f9621586",
   "metadata": {},
   "outputs": [
    {
     "name": "stdout",
     "output_type": "stream",
     "text": [
      "Metric1    1.0\n",
      "Metric2    5.0\n",
      "Name: (G1, A), dtype: float64\n"
     ]
    }
   ],
   "source": [
    "print(data.loc[('G1','A')]) # to see items in both G1 and A"
   ]
  },
  {
   "cell_type": "code",
   "execution_count": 41,
   "id": "4ac724a0",
   "metadata": {},
   "outputs": [
    {
     "name": "stdout",
     "output_type": "stream",
     "text": [
      "Metric1    1.0\n",
      "Metric2    5.0\n",
      "Name: (G1, A), dtype: float64\n"
     ]
    }
   ],
   "source": [
    "print(data.iloc[0,:])"
   ]
  },
  {
   "cell_type": "code",
   "execution_count": 42,
   "id": "44aa9183",
   "metadata": {},
   "outputs": [
    {
     "name": "stdout",
     "output_type": "stream",
     "text": [
      "  Group Subgroup  Metric1  Metric2\n",
      "0    G1        A      1.0      5.0\n",
      "1    G1        B      2.0      6.0\n",
      "2    G2        A      3.0      7.0\n",
      "3    G2        B      4.0      8.0\n"
     ]
    }
   ],
   "source": [
    "print(data.reset_index())"
   ]
  },
  {
   "cell_type": "markdown",
   "id": "800f0d2f",
   "metadata": {},
   "source": [
    "### Long vs Wide"
   ]
  },
  {
   "cell_type": "code",
   "execution_count": 43,
   "id": "83b8ad3d",
   "metadata": {},
   "outputs": [
    {
     "name": "stdout",
     "output_type": "stream",
     "text": [
      "  Student  Math_Score  Science_Score  English_Score\n",
      "0     Ali          80             75             89\n",
      "1    Siti          78             82             83\n"
     ]
    }
   ],
   "source": [
    "# Wide (each row typically represents a unique subject, and multiple columns represent different variables)\n",
    "data={\n",
    "    'Student':['Ali','Siti'],\n",
    "    'Math_Score':[80,78],\n",
    "    'Science_Score':[75,82],\n",
    "    'English_Score':[89,83]\n",
    "}\n",
    "df_wide=pd.DataFrame(data)\n",
    "print(df_wide)"
   ]
  },
  {
   "cell_type": "code",
   "execution_count": 44,
   "id": "11ef5e29",
   "metadata": {},
   "outputs": [
    {
     "name": "stdout",
     "output_type": "stream",
     "text": [
      "  Student  Subject  Score\n",
      "0     Ali     Math     80\n",
      "1     Ali  Science     75\n",
      "2     Ali  English     89\n",
      "3    Siti     Math     78\n",
      "4    Siti  Science     82\n",
      "5    Siti  English     83\n"
     ]
    }
   ],
   "source": [
    "# Long (each subject has multiple rows, with one column representing the variable type)\n",
    "data1={\n",
    "    'Student':['Ali','Ali','Ali','Siti','Siti','Siti'],\n",
    "    'Subject':['Math','Science','English','Math','Science','English'],\n",
    "    'Score':[80,75,89,78,82,83],\n",
    "}\n",
    "df_long=pd.DataFrame(data1)\n",
    "print(df_long)"
   ]
  },
  {
   "cell_type": "code",
   "execution_count": 45,
   "id": "dc7caa10",
   "metadata": {},
   "outputs": [
    {
     "data": {
      "text/html": [
       "<div>\n",
       "<style scoped>\n",
       "    .dataframe tbody tr th:only-of-type {\n",
       "        vertical-align: middle;\n",
       "    }\n",
       "\n",
       "    .dataframe tbody tr th {\n",
       "        vertical-align: top;\n",
       "    }\n",
       "\n",
       "    .dataframe thead tr th {\n",
       "        text-align: left;\n",
       "    }\n",
       "\n",
       "    .dataframe thead tr:last-of-type th {\n",
       "        text-align: right;\n",
       "    }\n",
       "</style>\n",
       "<table border=\"1\" class=\"dataframe\">\n",
       "  <thead>\n",
       "    <tr>\n",
       "      <th></th>\n",
       "      <th colspan=\"3\" halign=\"left\">Score</th>\n",
       "    </tr>\n",
       "    <tr>\n",
       "      <th>Subject</th>\n",
       "      <th>English</th>\n",
       "      <th>Math</th>\n",
       "      <th>Science</th>\n",
       "    </tr>\n",
       "    <tr>\n",
       "      <th>Student</th>\n",
       "      <th></th>\n",
       "      <th></th>\n",
       "      <th></th>\n",
       "    </tr>\n",
       "  </thead>\n",
       "  <tbody>\n",
       "    <tr>\n",
       "      <th>Ali</th>\n",
       "      <td>89</td>\n",
       "      <td>80</td>\n",
       "      <td>75</td>\n",
       "    </tr>\n",
       "    <tr>\n",
       "      <th>Siti</th>\n",
       "      <td>83</td>\n",
       "      <td>78</td>\n",
       "      <td>82</td>\n",
       "    </tr>\n",
       "  </tbody>\n",
       "</table>\n",
       "</div>"
      ],
      "text/plain": [
       "          Score             \n",
       "Subject English Math Science\n",
       "Student                     \n",
       "Ali          89   80      75\n",
       "Siti         83   78      82"
      ]
     },
     "execution_count": 45,
     "metadata": {},
     "output_type": "execute_result"
    }
   ],
   "source": [
    "df_long.set_index(['Student','Subject']).unstack()"
   ]
  },
  {
   "cell_type": "code",
   "execution_count": 46,
   "id": "7780d4d2",
   "metadata": {},
   "outputs": [
    {
     "data": {
      "text/html": [
       "<div>\n",
       "<style scoped>\n",
       "    .dataframe tbody tr th:only-of-type {\n",
       "        vertical-align: middle;\n",
       "    }\n",
       "\n",
       "    .dataframe tbody tr th {\n",
       "        vertical-align: top;\n",
       "    }\n",
       "\n",
       "    .dataframe thead th {\n",
       "        text-align: right;\n",
       "    }\n",
       "</style>\n",
       "<table border=\"1\" class=\"dataframe\">\n",
       "  <thead>\n",
       "    <tr style=\"text-align: right;\">\n",
       "      <th>Subject</th>\n",
       "      <th>English</th>\n",
       "      <th>Math</th>\n",
       "      <th>Science</th>\n",
       "    </tr>\n",
       "    <tr>\n",
       "      <th>Student</th>\n",
       "      <th></th>\n",
       "      <th></th>\n",
       "      <th></th>\n",
       "    </tr>\n",
       "  </thead>\n",
       "  <tbody>\n",
       "    <tr>\n",
       "      <th>Ali</th>\n",
       "      <td>89</td>\n",
       "      <td>80</td>\n",
       "      <td>75</td>\n",
       "    </tr>\n",
       "    <tr>\n",
       "      <th>Siti</th>\n",
       "      <td>83</td>\n",
       "      <td>78</td>\n",
       "      <td>82</td>\n",
       "    </tr>\n",
       "  </tbody>\n",
       "</table>\n",
       "</div>"
      ],
      "text/plain": [
       "Subject  English  Math  Science\n",
       "Student                        \n",
       "Ali           89    80       75\n",
       "Siti          83    78       82"
      ]
     },
     "execution_count": 46,
     "metadata": {},
     "output_type": "execute_result"
    }
   ],
   "source": [
    "df_long.pivot(index='Student',columns='Subject', values='Score')"
   ]
  },
  {
   "cell_type": "code",
   "execution_count": 48,
   "id": "22bbcdb6",
   "metadata": {},
   "outputs": [
    {
     "data": {
      "text/html": [
       "<div>\n",
       "<style scoped>\n",
       "    .dataframe tbody tr th:only-of-type {\n",
       "        vertical-align: middle;\n",
       "    }\n",
       "\n",
       "    .dataframe tbody tr th {\n",
       "        vertical-align: top;\n",
       "    }\n",
       "\n",
       "    .dataframe thead th {\n",
       "        text-align: right;\n",
       "    }\n",
       "</style>\n",
       "<table border=\"1\" class=\"dataframe\">\n",
       "  <thead>\n",
       "    <tr style=\"text-align: right;\">\n",
       "      <th></th>\n",
       "      <th>Student</th>\n",
       "      <th>Subject</th>\n",
       "      <th>Score</th>\n",
       "    </tr>\n",
       "  </thead>\n",
       "  <tbody>\n",
       "    <tr>\n",
       "      <th>0</th>\n",
       "      <td>Ali</td>\n",
       "      <td>Math_Score</td>\n",
       "      <td>80</td>\n",
       "    </tr>\n",
       "    <tr>\n",
       "      <th>1</th>\n",
       "      <td>Siti</td>\n",
       "      <td>Math_Score</td>\n",
       "      <td>78</td>\n",
       "    </tr>\n",
       "    <tr>\n",
       "      <th>2</th>\n",
       "      <td>Ali</td>\n",
       "      <td>Science_Score</td>\n",
       "      <td>75</td>\n",
       "    </tr>\n",
       "    <tr>\n",
       "      <th>3</th>\n",
       "      <td>Siti</td>\n",
       "      <td>Science_Score</td>\n",
       "      <td>82</td>\n",
       "    </tr>\n",
       "    <tr>\n",
       "      <th>4</th>\n",
       "      <td>Ali</td>\n",
       "      <td>English_Score</td>\n",
       "      <td>89</td>\n",
       "    </tr>\n",
       "    <tr>\n",
       "      <th>5</th>\n",
       "      <td>Siti</td>\n",
       "      <td>English_Score</td>\n",
       "      <td>83</td>\n",
       "    </tr>\n",
       "  </tbody>\n",
       "</table>\n",
       "</div>"
      ],
      "text/plain": [
       "  Student        Subject  Score\n",
       "0     Ali     Math_Score     80\n",
       "1    Siti     Math_Score     78\n",
       "2     Ali  Science_Score     75\n",
       "3    Siti  Science_Score     82\n",
       "4     Ali  English_Score     89\n",
       "5    Siti  English_Score     83"
      ]
     },
     "execution_count": 48,
     "metadata": {},
     "output_type": "execute_result"
    }
   ],
   "source": [
    "pd.melt(df_wide,id_vars=['Student'],value_vars=['Math_Score', 'Science_Score', 'English_Score'],var_name='Subject',value_name='Score')"
   ]
  },
  {
   "cell_type": "code",
   "execution_count": 50,
   "id": "903253a7",
   "metadata": {},
   "outputs": [
    {
     "data": {
      "text/plain": [
       "Student               \n",
       "Ali      Math_Score       80\n",
       "         Science_Score    75\n",
       "         English_Score    89\n",
       "Siti     Math_Score       78\n",
       "         Science_Score    82\n",
       "         English_Score    83\n",
       "dtype: int64"
      ]
     },
     "execution_count": 50,
     "metadata": {},
     "output_type": "execute_result"
    }
   ],
   "source": [
    "df_wide.set_index(['Student']).stack()"
   ]
  },
  {
   "cell_type": "code",
   "execution_count": 49,
   "id": "bfc9b33a",
   "metadata": {},
   "outputs": [
    {
     "name": "stdout",
     "output_type": "stream",
     "text": [
      "                 Metric1   Metric2   Metric3   Metric4\n",
      "Group Subgroup                                        \n",
      "G1    A         0.496714 -0.138264  0.647689  1.523030\n",
      "      B        -0.234153 -0.234137  1.579213  0.767435\n",
      "G2    A        -0.469474  0.542560 -0.463418 -0.465730\n",
      "      B         0.241962 -1.913280 -1.724918 -0.562288\n"
     ]
    }
   ],
   "source": [
    "#recreating hie to index\n",
    "m_index=pd.MultiIndex.from_tuples([('G1','A'),\n",
    "                                   ('G1','B'),\n",
    "                                  ('G2','A'),\n",
    "                                  ('G2','B')],names=['Group','Subgroup'])\n",
    "\n",
    "np.random.seed(42)\n",
    "data=pd.DataFrame(np.random.randn(4,4),columns=['Metric1', 'Metric2','Metric3', 'Metric4'],index=m_index)\n",
    "print(data)"
   ]
  },
  {
   "cell_type": "code",
   "execution_count": 51,
   "id": "e54a021b",
   "metadata": {},
   "outputs": [
    {
     "data": {
      "text/html": [
       "<div>\n",
       "<style scoped>\n",
       "    .dataframe tbody tr th:only-of-type {\n",
       "        vertical-align: middle;\n",
       "    }\n",
       "\n",
       "    .dataframe tbody tr th {\n",
       "        vertical-align: top;\n",
       "    }\n",
       "\n",
       "    .dataframe thead th {\n",
       "        text-align: right;\n",
       "    }\n",
       "</style>\n",
       "<table border=\"1\" class=\"dataframe\">\n",
       "  <thead>\n",
       "    <tr style=\"text-align: right;\">\n",
       "      <th></th>\n",
       "      <th>Group</th>\n",
       "      <th>Subgroup</th>\n",
       "      <th>Metric1</th>\n",
       "      <th>Metric2</th>\n",
       "      <th>Metric3</th>\n",
       "      <th>Metric4</th>\n",
       "    </tr>\n",
       "  </thead>\n",
       "  <tbody>\n",
       "    <tr>\n",
       "      <th>0</th>\n",
       "      <td>G1</td>\n",
       "      <td>A</td>\n",
       "      <td>0.496714</td>\n",
       "      <td>-0.138264</td>\n",
       "      <td>0.647689</td>\n",
       "      <td>1.523030</td>\n",
       "    </tr>\n",
       "    <tr>\n",
       "      <th>1</th>\n",
       "      <td>G1</td>\n",
       "      <td>B</td>\n",
       "      <td>-0.234153</td>\n",
       "      <td>-0.234137</td>\n",
       "      <td>1.579213</td>\n",
       "      <td>0.767435</td>\n",
       "    </tr>\n",
       "    <tr>\n",
       "      <th>2</th>\n",
       "      <td>G2</td>\n",
       "      <td>A</td>\n",
       "      <td>-0.469474</td>\n",
       "      <td>0.542560</td>\n",
       "      <td>-0.463418</td>\n",
       "      <td>-0.465730</td>\n",
       "    </tr>\n",
       "    <tr>\n",
       "      <th>3</th>\n",
       "      <td>G2</td>\n",
       "      <td>B</td>\n",
       "      <td>0.241962</td>\n",
       "      <td>-1.913280</td>\n",
       "      <td>-1.724918</td>\n",
       "      <td>-0.562288</td>\n",
       "    </tr>\n",
       "  </tbody>\n",
       "</table>\n",
       "</div>"
      ],
      "text/plain": [
       "  Group Subgroup   Metric1   Metric2   Metric3   Metric4\n",
       "0    G1        A  0.496714 -0.138264  0.647689  1.523030\n",
       "1    G1        B -0.234153 -0.234137  1.579213  0.767435\n",
       "2    G2        A -0.469474  0.542560 -0.463418 -0.465730\n",
       "3    G2        B  0.241962 -1.913280 -1.724918 -0.562288"
      ]
     },
     "execution_count": 51,
     "metadata": {},
     "output_type": "execute_result"
    }
   ],
   "source": [
    "# with reset\n",
    "\n",
    "data.reset_index()"
   ]
  },
  {
   "cell_type": "code",
   "execution_count": 53,
   "id": "d8620ef8",
   "metadata": {},
   "outputs": [
    {
     "data": {
      "text/html": [
       "<div>\n",
       "<style scoped>\n",
       "    .dataframe tbody tr th:only-of-type {\n",
       "        vertical-align: middle;\n",
       "    }\n",
       "\n",
       "    .dataframe tbody tr th {\n",
       "        vertical-align: top;\n",
       "    }\n",
       "\n",
       "    .dataframe thead th {\n",
       "        text-align: right;\n",
       "    }\n",
       "</style>\n",
       "<table border=\"1\" class=\"dataframe\">\n",
       "  <thead>\n",
       "    <tr style=\"text-align: right;\">\n",
       "      <th></th>\n",
       "      <th>Group</th>\n",
       "      <th>Subgroup</th>\n",
       "      <th>Metric</th>\n",
       "      <th>Value</th>\n",
       "    </tr>\n",
       "  </thead>\n",
       "  <tbody>\n",
       "    <tr>\n",
       "      <th>0</th>\n",
       "      <td>G1</td>\n",
       "      <td>A</td>\n",
       "      <td>Metric1</td>\n",
       "      <td>0.496714</td>\n",
       "    </tr>\n",
       "    <tr>\n",
       "      <th>1</th>\n",
       "      <td>G1</td>\n",
       "      <td>B</td>\n",
       "      <td>Metric1</td>\n",
       "      <td>-0.234153</td>\n",
       "    </tr>\n",
       "    <tr>\n",
       "      <th>2</th>\n",
       "      <td>G2</td>\n",
       "      <td>A</td>\n",
       "      <td>Metric1</td>\n",
       "      <td>-0.469474</td>\n",
       "    </tr>\n",
       "    <tr>\n",
       "      <th>3</th>\n",
       "      <td>G2</td>\n",
       "      <td>B</td>\n",
       "      <td>Metric1</td>\n",
       "      <td>0.241962</td>\n",
       "    </tr>\n",
       "    <tr>\n",
       "      <th>4</th>\n",
       "      <td>G1</td>\n",
       "      <td>A</td>\n",
       "      <td>Metric2</td>\n",
       "      <td>-0.138264</td>\n",
       "    </tr>\n",
       "    <tr>\n",
       "      <th>5</th>\n",
       "      <td>G1</td>\n",
       "      <td>B</td>\n",
       "      <td>Metric2</td>\n",
       "      <td>-0.234137</td>\n",
       "    </tr>\n",
       "    <tr>\n",
       "      <th>6</th>\n",
       "      <td>G2</td>\n",
       "      <td>A</td>\n",
       "      <td>Metric2</td>\n",
       "      <td>0.542560</td>\n",
       "    </tr>\n",
       "    <tr>\n",
       "      <th>7</th>\n",
       "      <td>G2</td>\n",
       "      <td>B</td>\n",
       "      <td>Metric2</td>\n",
       "      <td>-1.913280</td>\n",
       "    </tr>\n",
       "    <tr>\n",
       "      <th>8</th>\n",
       "      <td>G1</td>\n",
       "      <td>A</td>\n",
       "      <td>Metric3</td>\n",
       "      <td>0.647689</td>\n",
       "    </tr>\n",
       "    <tr>\n",
       "      <th>9</th>\n",
       "      <td>G1</td>\n",
       "      <td>B</td>\n",
       "      <td>Metric3</td>\n",
       "      <td>1.579213</td>\n",
       "    </tr>\n",
       "    <tr>\n",
       "      <th>10</th>\n",
       "      <td>G2</td>\n",
       "      <td>A</td>\n",
       "      <td>Metric3</td>\n",
       "      <td>-0.463418</td>\n",
       "    </tr>\n",
       "    <tr>\n",
       "      <th>11</th>\n",
       "      <td>G2</td>\n",
       "      <td>B</td>\n",
       "      <td>Metric3</td>\n",
       "      <td>-1.724918</td>\n",
       "    </tr>\n",
       "    <tr>\n",
       "      <th>12</th>\n",
       "      <td>G1</td>\n",
       "      <td>A</td>\n",
       "      <td>Metric4</td>\n",
       "      <td>1.523030</td>\n",
       "    </tr>\n",
       "    <tr>\n",
       "      <th>13</th>\n",
       "      <td>G1</td>\n",
       "      <td>B</td>\n",
       "      <td>Metric4</td>\n",
       "      <td>0.767435</td>\n",
       "    </tr>\n",
       "    <tr>\n",
       "      <th>14</th>\n",
       "      <td>G2</td>\n",
       "      <td>A</td>\n",
       "      <td>Metric4</td>\n",
       "      <td>-0.465730</td>\n",
       "    </tr>\n",
       "    <tr>\n",
       "      <th>15</th>\n",
       "      <td>G2</td>\n",
       "      <td>B</td>\n",
       "      <td>Metric4</td>\n",
       "      <td>-0.562288</td>\n",
       "    </tr>\n",
       "  </tbody>\n",
       "</table>\n",
       "</div>"
      ],
      "text/plain": [
       "   Group Subgroup   Metric     Value\n",
       "0     G1        A  Metric1  0.496714\n",
       "1     G1        B  Metric1 -0.234153\n",
       "2     G2        A  Metric1 -0.469474\n",
       "3     G2        B  Metric1  0.241962\n",
       "4     G1        A  Metric2 -0.138264\n",
       "5     G1        B  Metric2 -0.234137\n",
       "6     G2        A  Metric2  0.542560\n",
       "7     G2        B  Metric2 -1.913280\n",
       "8     G1        A  Metric3  0.647689\n",
       "9     G1        B  Metric3  1.579213\n",
       "10    G2        A  Metric3 -0.463418\n",
       "11    G2        B  Metric3 -1.724918\n",
       "12    G1        A  Metric4  1.523030\n",
       "13    G1        B  Metric4  0.767435\n",
       "14    G2        A  Metric4 -0.465730\n",
       "15    G2        B  Metric4 -0.562288"
      ]
     },
     "execution_count": 53,
     "metadata": {},
     "output_type": "execute_result"
    }
   ],
   "source": [
    "#1 (melt cannot hie data)\n",
    "data.reset_index().melt(id_vars=['Group','Subgroup'],var_name='Metric',value_name='Value')"
   ]
  },
  {
   "cell_type": "code",
   "execution_count": 54,
   "id": "29485678",
   "metadata": {},
   "outputs": [
    {
     "data": {
      "text/html": [
       "<div>\n",
       "<style scoped>\n",
       "    .dataframe tbody tr th:only-of-type {\n",
       "        vertical-align: middle;\n",
       "    }\n",
       "\n",
       "    .dataframe tbody tr th {\n",
       "        vertical-align: top;\n",
       "    }\n",
       "\n",
       "    .dataframe thead th {\n",
       "        text-align: right;\n",
       "    }\n",
       "</style>\n",
       "<table border=\"1\" class=\"dataframe\">\n",
       "  <thead>\n",
       "    <tr style=\"text-align: right;\">\n",
       "      <th></th>\n",
       "      <th>Group</th>\n",
       "      <th>Subgroup</th>\n",
       "      <th>Metric</th>\n",
       "      <th>Value</th>\n",
       "    </tr>\n",
       "  </thead>\n",
       "  <tbody>\n",
       "    <tr>\n",
       "      <th>0</th>\n",
       "      <td>G1</td>\n",
       "      <td>A</td>\n",
       "      <td>Metric1</td>\n",
       "      <td>0.496714</td>\n",
       "    </tr>\n",
       "    <tr>\n",
       "      <th>1</th>\n",
       "      <td>G1</td>\n",
       "      <td>B</td>\n",
       "      <td>Metric1</td>\n",
       "      <td>-0.234153</td>\n",
       "    </tr>\n",
       "    <tr>\n",
       "      <th>2</th>\n",
       "      <td>G2</td>\n",
       "      <td>A</td>\n",
       "      <td>Metric1</td>\n",
       "      <td>-0.469474</td>\n",
       "    </tr>\n",
       "    <tr>\n",
       "      <th>3</th>\n",
       "      <td>G2</td>\n",
       "      <td>B</td>\n",
       "      <td>Metric1</td>\n",
       "      <td>0.241962</td>\n",
       "    </tr>\n",
       "    <tr>\n",
       "      <th>4</th>\n",
       "      <td>G1</td>\n",
       "      <td>A</td>\n",
       "      <td>Metric2</td>\n",
       "      <td>-0.138264</td>\n",
       "    </tr>\n",
       "    <tr>\n",
       "      <th>5</th>\n",
       "      <td>G1</td>\n",
       "      <td>B</td>\n",
       "      <td>Metric2</td>\n",
       "      <td>-0.234137</td>\n",
       "    </tr>\n",
       "    <tr>\n",
       "      <th>6</th>\n",
       "      <td>G2</td>\n",
       "      <td>A</td>\n",
       "      <td>Metric2</td>\n",
       "      <td>0.542560</td>\n",
       "    </tr>\n",
       "    <tr>\n",
       "      <th>7</th>\n",
       "      <td>G2</td>\n",
       "      <td>B</td>\n",
       "      <td>Metric2</td>\n",
       "      <td>-1.913280</td>\n",
       "    </tr>\n",
       "    <tr>\n",
       "      <th>8</th>\n",
       "      <td>G1</td>\n",
       "      <td>A</td>\n",
       "      <td>Metric3</td>\n",
       "      <td>0.647689</td>\n",
       "    </tr>\n",
       "    <tr>\n",
       "      <th>9</th>\n",
       "      <td>G1</td>\n",
       "      <td>B</td>\n",
       "      <td>Metric3</td>\n",
       "      <td>1.579213</td>\n",
       "    </tr>\n",
       "    <tr>\n",
       "      <th>10</th>\n",
       "      <td>G2</td>\n",
       "      <td>A</td>\n",
       "      <td>Metric3</td>\n",
       "      <td>-0.463418</td>\n",
       "    </tr>\n",
       "    <tr>\n",
       "      <th>11</th>\n",
       "      <td>G2</td>\n",
       "      <td>B</td>\n",
       "      <td>Metric3</td>\n",
       "      <td>-1.724918</td>\n",
       "    </tr>\n",
       "    <tr>\n",
       "      <th>12</th>\n",
       "      <td>G1</td>\n",
       "      <td>A</td>\n",
       "      <td>Metric4</td>\n",
       "      <td>1.523030</td>\n",
       "    </tr>\n",
       "    <tr>\n",
       "      <th>13</th>\n",
       "      <td>G1</td>\n",
       "      <td>B</td>\n",
       "      <td>Metric4</td>\n",
       "      <td>0.767435</td>\n",
       "    </tr>\n",
       "    <tr>\n",
       "      <th>14</th>\n",
       "      <td>G2</td>\n",
       "      <td>A</td>\n",
       "      <td>Metric4</td>\n",
       "      <td>-0.465730</td>\n",
       "    </tr>\n",
       "    <tr>\n",
       "      <th>15</th>\n",
       "      <td>G2</td>\n",
       "      <td>B</td>\n",
       "      <td>Metric4</td>\n",
       "      <td>-0.562288</td>\n",
       "    </tr>\n",
       "  </tbody>\n",
       "</table>\n",
       "</div>"
      ],
      "text/plain": [
       "   Group Subgroup   Metric     Value\n",
       "0     G1        A  Metric1  0.496714\n",
       "1     G1        B  Metric1 -0.234153\n",
       "2     G2        A  Metric1 -0.469474\n",
       "3     G2        B  Metric1  0.241962\n",
       "4     G1        A  Metric2 -0.138264\n",
       "5     G1        B  Metric2 -0.234137\n",
       "6     G2        A  Metric2  0.542560\n",
       "7     G2        B  Metric2 -1.913280\n",
       "8     G1        A  Metric3  0.647689\n",
       "9     G1        B  Metric3  1.579213\n",
       "10    G2        A  Metric3 -0.463418\n",
       "11    G2        B  Metric3 -1.724918\n",
       "12    G1        A  Metric4  1.523030\n",
       "13    G1        B  Metric4  0.767435\n",
       "14    G2        A  Metric4 -0.465730\n",
       "15    G2        B  Metric4 -0.562288"
      ]
     },
     "execution_count": 54,
     "metadata": {},
     "output_type": "execute_result"
    }
   ],
   "source": [
    "#2\n",
    "pd.melt(data.reset_index(),id_vars=['Group','Subgroup'],var_name='Metric',value_name='Value')"
   ]
  },
  {
   "cell_type": "code",
   "execution_count": 56,
   "id": "4c42e8ba",
   "metadata": {},
   "outputs": [
    {
     "data": {
      "text/html": [
       "<div>\n",
       "<style scoped>\n",
       "    .dataframe tbody tr th:only-of-type {\n",
       "        vertical-align: middle;\n",
       "    }\n",
       "\n",
       "    .dataframe tbody tr th {\n",
       "        vertical-align: top;\n",
       "    }\n",
       "\n",
       "    .dataframe thead th {\n",
       "        text-align: right;\n",
       "    }\n",
       "</style>\n",
       "<table border=\"1\" class=\"dataframe\">\n",
       "  <thead>\n",
       "    <tr style=\"text-align: right;\">\n",
       "      <th></th>\n",
       "      <th>Group</th>\n",
       "      <th>Subgroup</th>\n",
       "      <th>level_2</th>\n",
       "      <th>0</th>\n",
       "    </tr>\n",
       "  </thead>\n",
       "  <tbody>\n",
       "    <tr>\n",
       "      <th>0</th>\n",
       "      <td>G1</td>\n",
       "      <td>A</td>\n",
       "      <td>Metric1</td>\n",
       "      <td>0.496714</td>\n",
       "    </tr>\n",
       "    <tr>\n",
       "      <th>1</th>\n",
       "      <td>G1</td>\n",
       "      <td>A</td>\n",
       "      <td>Metric2</td>\n",
       "      <td>-0.138264</td>\n",
       "    </tr>\n",
       "    <tr>\n",
       "      <th>2</th>\n",
       "      <td>G1</td>\n",
       "      <td>A</td>\n",
       "      <td>Metric3</td>\n",
       "      <td>0.647689</td>\n",
       "    </tr>\n",
       "    <tr>\n",
       "      <th>3</th>\n",
       "      <td>G1</td>\n",
       "      <td>A</td>\n",
       "      <td>Metric4</td>\n",
       "      <td>1.523030</td>\n",
       "    </tr>\n",
       "    <tr>\n",
       "      <th>4</th>\n",
       "      <td>G1</td>\n",
       "      <td>B</td>\n",
       "      <td>Metric1</td>\n",
       "      <td>-0.234153</td>\n",
       "    </tr>\n",
       "    <tr>\n",
       "      <th>5</th>\n",
       "      <td>G1</td>\n",
       "      <td>B</td>\n",
       "      <td>Metric2</td>\n",
       "      <td>-0.234137</td>\n",
       "    </tr>\n",
       "    <tr>\n",
       "      <th>6</th>\n",
       "      <td>G1</td>\n",
       "      <td>B</td>\n",
       "      <td>Metric3</td>\n",
       "      <td>1.579213</td>\n",
       "    </tr>\n",
       "    <tr>\n",
       "      <th>7</th>\n",
       "      <td>G1</td>\n",
       "      <td>B</td>\n",
       "      <td>Metric4</td>\n",
       "      <td>0.767435</td>\n",
       "    </tr>\n",
       "    <tr>\n",
       "      <th>8</th>\n",
       "      <td>G2</td>\n",
       "      <td>A</td>\n",
       "      <td>Metric1</td>\n",
       "      <td>-0.469474</td>\n",
       "    </tr>\n",
       "    <tr>\n",
       "      <th>9</th>\n",
       "      <td>G2</td>\n",
       "      <td>A</td>\n",
       "      <td>Metric2</td>\n",
       "      <td>0.542560</td>\n",
       "    </tr>\n",
       "    <tr>\n",
       "      <th>10</th>\n",
       "      <td>G2</td>\n",
       "      <td>A</td>\n",
       "      <td>Metric3</td>\n",
       "      <td>-0.463418</td>\n",
       "    </tr>\n",
       "    <tr>\n",
       "      <th>11</th>\n",
       "      <td>G2</td>\n",
       "      <td>A</td>\n",
       "      <td>Metric4</td>\n",
       "      <td>-0.465730</td>\n",
       "    </tr>\n",
       "    <tr>\n",
       "      <th>12</th>\n",
       "      <td>G2</td>\n",
       "      <td>B</td>\n",
       "      <td>Metric1</td>\n",
       "      <td>0.241962</td>\n",
       "    </tr>\n",
       "    <tr>\n",
       "      <th>13</th>\n",
       "      <td>G2</td>\n",
       "      <td>B</td>\n",
       "      <td>Metric2</td>\n",
       "      <td>-1.913280</td>\n",
       "    </tr>\n",
       "    <tr>\n",
       "      <th>14</th>\n",
       "      <td>G2</td>\n",
       "      <td>B</td>\n",
       "      <td>Metric3</td>\n",
       "      <td>-1.724918</td>\n",
       "    </tr>\n",
       "    <tr>\n",
       "      <th>15</th>\n",
       "      <td>G2</td>\n",
       "      <td>B</td>\n",
       "      <td>Metric4</td>\n",
       "      <td>-0.562288</td>\n",
       "    </tr>\n",
       "  </tbody>\n",
       "</table>\n",
       "</div>"
      ],
      "text/plain": [
       "   Group Subgroup  level_2         0\n",
       "0     G1        A  Metric1  0.496714\n",
       "1     G1        A  Metric2 -0.138264\n",
       "2     G1        A  Metric3  0.647689\n",
       "3     G1        A  Metric4  1.523030\n",
       "4     G1        B  Metric1 -0.234153\n",
       "5     G1        B  Metric2 -0.234137\n",
       "6     G1        B  Metric3  1.579213\n",
       "7     G1        B  Metric4  0.767435\n",
       "8     G2        A  Metric1 -0.469474\n",
       "9     G2        A  Metric2  0.542560\n",
       "10    G2        A  Metric3 -0.463418\n",
       "11    G2        A  Metric4 -0.465730\n",
       "12    G2        B  Metric1  0.241962\n",
       "13    G2        B  Metric2 -1.913280\n",
       "14    G2        B  Metric3 -1.724918\n",
       "15    G2        B  Metric4 -0.562288"
      ]
     },
     "execution_count": 56,
     "metadata": {},
     "output_type": "execute_result"
    }
   ],
   "source": [
    "# with stack\n",
    "data.stack().reset_index()"
   ]
  },
  {
   "cell_type": "code",
   "execution_count": 57,
   "id": "57ae1450",
   "metadata": {},
   "outputs": [
    {
     "name": "stdout",
     "output_type": "stream",
     "text": [
      "Group  Subgroup         \n",
      "G1     A         Metric1    0.496714\n",
      "                 Metric2   -0.138264\n",
      "                 Metric3    0.647689\n",
      "                 Metric4    1.523030\n",
      "       B         Metric1   -0.234153\n",
      "                 Metric2   -0.234137\n",
      "                 Metric3    1.579213\n",
      "                 Metric4    0.767435\n",
      "G2     A         Metric1   -0.469474\n",
      "                 Metric2    0.542560\n",
      "                 Metric3   -0.463418\n",
      "                 Metric4   -0.465730\n",
      "       B         Metric1    0.241962\n",
      "                 Metric2   -1.913280\n",
      "                 Metric3   -1.724918\n",
      "                 Metric4   -0.562288\n",
      "dtype: float64\n"
     ]
    }
   ],
   "source": [
    "long_data=data.stack()\n",
    "print(long_data)"
   ]
  },
  {
   "cell_type": "code",
   "execution_count": 58,
   "id": "44e3ec25",
   "metadata": {},
   "outputs": [
    {
     "data": {
      "text/html": [
       "<div>\n",
       "<style scoped>\n",
       "    .dataframe tbody tr th:only-of-type {\n",
       "        vertical-align: middle;\n",
       "    }\n",
       "\n",
       "    .dataframe tbody tr th {\n",
       "        vertical-align: top;\n",
       "    }\n",
       "\n",
       "    .dataframe thead th {\n",
       "        text-align: right;\n",
       "    }\n",
       "</style>\n",
       "<table border=\"1\" class=\"dataframe\">\n",
       "  <thead>\n",
       "    <tr style=\"text-align: right;\">\n",
       "      <th></th>\n",
       "      <th></th>\n",
       "      <th>Metric1</th>\n",
       "      <th>Metric2</th>\n",
       "      <th>Metric3</th>\n",
       "      <th>Metric4</th>\n",
       "    </tr>\n",
       "    <tr>\n",
       "      <th>Group</th>\n",
       "      <th>Subgroup</th>\n",
       "      <th></th>\n",
       "      <th></th>\n",
       "      <th></th>\n",
       "      <th></th>\n",
       "    </tr>\n",
       "  </thead>\n",
       "  <tbody>\n",
       "    <tr>\n",
       "      <th rowspan=\"2\" valign=\"top\">G1</th>\n",
       "      <th>A</th>\n",
       "      <td>0.496714</td>\n",
       "      <td>-0.138264</td>\n",
       "      <td>0.647689</td>\n",
       "      <td>1.523030</td>\n",
       "    </tr>\n",
       "    <tr>\n",
       "      <th>B</th>\n",
       "      <td>-0.234153</td>\n",
       "      <td>-0.234137</td>\n",
       "      <td>1.579213</td>\n",
       "      <td>0.767435</td>\n",
       "    </tr>\n",
       "    <tr>\n",
       "      <th rowspan=\"2\" valign=\"top\">G2</th>\n",
       "      <th>A</th>\n",
       "      <td>-0.469474</td>\n",
       "      <td>0.542560</td>\n",
       "      <td>-0.463418</td>\n",
       "      <td>-0.465730</td>\n",
       "    </tr>\n",
       "    <tr>\n",
       "      <th>B</th>\n",
       "      <td>0.241962</td>\n",
       "      <td>-1.913280</td>\n",
       "      <td>-1.724918</td>\n",
       "      <td>-0.562288</td>\n",
       "    </tr>\n",
       "  </tbody>\n",
       "</table>\n",
       "</div>"
      ],
      "text/plain": [
       "                 Metric1   Metric2   Metric3   Metric4\n",
       "Group Subgroup                                        \n",
       "G1    A         0.496714 -0.138264  0.647689  1.523030\n",
       "      B        -0.234153 -0.234137  1.579213  0.767435\n",
       "G2    A        -0.469474  0.542560 -0.463418 -0.465730\n",
       "      B         0.241962 -1.913280 -1.724918 -0.562288"
      ]
     },
     "execution_count": 58,
     "metadata": {},
     "output_type": "execute_result"
    }
   ],
   "source": [
    "long_data.unstack()"
   ]
  },
  {
   "cell_type": "code",
   "execution_count": 59,
   "id": "6f57246a",
   "metadata": {},
   "outputs": [
    {
     "data": {
      "text/html": [
       "<div>\n",
       "<style scoped>\n",
       "    .dataframe tbody tr th:only-of-type {\n",
       "        vertical-align: middle;\n",
       "    }\n",
       "\n",
       "    .dataframe tbody tr th {\n",
       "        vertical-align: top;\n",
       "    }\n",
       "\n",
       "    .dataframe thead th {\n",
       "        text-align: right;\n",
       "    }\n",
       "</style>\n",
       "<table border=\"1\" class=\"dataframe\">\n",
       "  <thead>\n",
       "    <tr style=\"text-align: right;\">\n",
       "      <th></th>\n",
       "      <th>Group</th>\n",
       "      <th>Subgroup</th>\n",
       "      <th>level_2</th>\n",
       "      <th>0</th>\n",
       "    </tr>\n",
       "  </thead>\n",
       "  <tbody>\n",
       "    <tr>\n",
       "      <th>0</th>\n",
       "      <td>G1</td>\n",
       "      <td>A</td>\n",
       "      <td>Metric1</td>\n",
       "      <td>0.496714</td>\n",
       "    </tr>\n",
       "    <tr>\n",
       "      <th>1</th>\n",
       "      <td>G1</td>\n",
       "      <td>A</td>\n",
       "      <td>Metric2</td>\n",
       "      <td>-0.138264</td>\n",
       "    </tr>\n",
       "    <tr>\n",
       "      <th>2</th>\n",
       "      <td>G1</td>\n",
       "      <td>A</td>\n",
       "      <td>Metric3</td>\n",
       "      <td>0.647689</td>\n",
       "    </tr>\n",
       "    <tr>\n",
       "      <th>3</th>\n",
       "      <td>G1</td>\n",
       "      <td>A</td>\n",
       "      <td>Metric4</td>\n",
       "      <td>1.523030</td>\n",
       "    </tr>\n",
       "    <tr>\n",
       "      <th>4</th>\n",
       "      <td>G1</td>\n",
       "      <td>B</td>\n",
       "      <td>Metric1</td>\n",
       "      <td>-0.234153</td>\n",
       "    </tr>\n",
       "    <tr>\n",
       "      <th>5</th>\n",
       "      <td>G1</td>\n",
       "      <td>B</td>\n",
       "      <td>Metric2</td>\n",
       "      <td>-0.234137</td>\n",
       "    </tr>\n",
       "    <tr>\n",
       "      <th>6</th>\n",
       "      <td>G1</td>\n",
       "      <td>B</td>\n",
       "      <td>Metric3</td>\n",
       "      <td>1.579213</td>\n",
       "    </tr>\n",
       "    <tr>\n",
       "      <th>7</th>\n",
       "      <td>G1</td>\n",
       "      <td>B</td>\n",
       "      <td>Metric4</td>\n",
       "      <td>0.767435</td>\n",
       "    </tr>\n",
       "    <tr>\n",
       "      <th>8</th>\n",
       "      <td>G2</td>\n",
       "      <td>A</td>\n",
       "      <td>Metric1</td>\n",
       "      <td>-0.469474</td>\n",
       "    </tr>\n",
       "    <tr>\n",
       "      <th>9</th>\n",
       "      <td>G2</td>\n",
       "      <td>A</td>\n",
       "      <td>Metric2</td>\n",
       "      <td>0.542560</td>\n",
       "    </tr>\n",
       "    <tr>\n",
       "      <th>10</th>\n",
       "      <td>G2</td>\n",
       "      <td>A</td>\n",
       "      <td>Metric3</td>\n",
       "      <td>-0.463418</td>\n",
       "    </tr>\n",
       "    <tr>\n",
       "      <th>11</th>\n",
       "      <td>G2</td>\n",
       "      <td>A</td>\n",
       "      <td>Metric4</td>\n",
       "      <td>-0.465730</td>\n",
       "    </tr>\n",
       "    <tr>\n",
       "      <th>12</th>\n",
       "      <td>G2</td>\n",
       "      <td>B</td>\n",
       "      <td>Metric1</td>\n",
       "      <td>0.241962</td>\n",
       "    </tr>\n",
       "    <tr>\n",
       "      <th>13</th>\n",
       "      <td>G2</td>\n",
       "      <td>B</td>\n",
       "      <td>Metric2</td>\n",
       "      <td>-1.913280</td>\n",
       "    </tr>\n",
       "    <tr>\n",
       "      <th>14</th>\n",
       "      <td>G2</td>\n",
       "      <td>B</td>\n",
       "      <td>Metric3</td>\n",
       "      <td>-1.724918</td>\n",
       "    </tr>\n",
       "    <tr>\n",
       "      <th>15</th>\n",
       "      <td>G2</td>\n",
       "      <td>B</td>\n",
       "      <td>Metric4</td>\n",
       "      <td>-0.562288</td>\n",
       "    </tr>\n",
       "  </tbody>\n",
       "</table>\n",
       "</div>"
      ],
      "text/plain": [
       "   Group Subgroup  level_2         0\n",
       "0     G1        A  Metric1  0.496714\n",
       "1     G1        A  Metric2 -0.138264\n",
       "2     G1        A  Metric3  0.647689\n",
       "3     G1        A  Metric4  1.523030\n",
       "4     G1        B  Metric1 -0.234153\n",
       "5     G1        B  Metric2 -0.234137\n",
       "6     G1        B  Metric3  1.579213\n",
       "7     G1        B  Metric4  0.767435\n",
       "8     G2        A  Metric1 -0.469474\n",
       "9     G2        A  Metric2  0.542560\n",
       "10    G2        A  Metric3 -0.463418\n",
       "11    G2        A  Metric4 -0.465730\n",
       "12    G2        B  Metric1  0.241962\n",
       "13    G2        B  Metric2 -1.913280\n",
       "14    G2        B  Metric3 -1.724918\n",
       "15    G2        B  Metric4 -0.562288"
      ]
     },
     "execution_count": 59,
     "metadata": {},
     "output_type": "execute_result"
    }
   ],
   "source": [
    "long_data.reset_index()"
   ]
  },
  {
   "cell_type": "code",
   "execution_count": 61,
   "id": "62130374",
   "metadata": {},
   "outputs": [
    {
     "data": {
      "text/html": [
       "<div>\n",
       "<style scoped>\n",
       "    .dataframe tbody tr th:only-of-type {\n",
       "        vertical-align: middle;\n",
       "    }\n",
       "\n",
       "    .dataframe tbody tr th {\n",
       "        vertical-align: top;\n",
       "    }\n",
       "\n",
       "    .dataframe thead th {\n",
       "        text-align: right;\n",
       "    }\n",
       "</style>\n",
       "<table border=\"1\" class=\"dataframe\">\n",
       "  <thead>\n",
       "    <tr style=\"text-align: right;\">\n",
       "      <th></th>\n",
       "      <th>level_2</th>\n",
       "      <th>Metric1</th>\n",
       "      <th>Metric2</th>\n",
       "      <th>Metric3</th>\n",
       "      <th>Metric4</th>\n",
       "    </tr>\n",
       "    <tr>\n",
       "      <th>Group</th>\n",
       "      <th>Subgroup</th>\n",
       "      <th></th>\n",
       "      <th></th>\n",
       "      <th></th>\n",
       "      <th></th>\n",
       "    </tr>\n",
       "  </thead>\n",
       "  <tbody>\n",
       "    <tr>\n",
       "      <th rowspan=\"2\" valign=\"top\">G1</th>\n",
       "      <th>A</th>\n",
       "      <td>0.496714</td>\n",
       "      <td>-0.138264</td>\n",
       "      <td>0.647689</td>\n",
       "      <td>1.523030</td>\n",
       "    </tr>\n",
       "    <tr>\n",
       "      <th>B</th>\n",
       "      <td>-0.234153</td>\n",
       "      <td>-0.234137</td>\n",
       "      <td>1.579213</td>\n",
       "      <td>0.767435</td>\n",
       "    </tr>\n",
       "    <tr>\n",
       "      <th rowspan=\"2\" valign=\"top\">G2</th>\n",
       "      <th>A</th>\n",
       "      <td>-0.469474</td>\n",
       "      <td>0.542560</td>\n",
       "      <td>-0.463418</td>\n",
       "      <td>-0.465730</td>\n",
       "    </tr>\n",
       "    <tr>\n",
       "      <th>B</th>\n",
       "      <td>0.241962</td>\n",
       "      <td>-1.913280</td>\n",
       "      <td>-1.724918</td>\n",
       "      <td>-0.562288</td>\n",
       "    </tr>\n",
       "  </tbody>\n",
       "</table>\n",
       "</div>"
      ],
      "text/plain": [
       "level_2          Metric1   Metric2   Metric3   Metric4\n",
       "Group Subgroup                                        \n",
       "G1    A         0.496714 -0.138264  0.647689  1.523030\n",
       "      B        -0.234153 -0.234137  1.579213  0.767435\n",
       "G2    A        -0.469474  0.542560 -0.463418 -0.465730\n",
       "      B         0.241962 -1.913280 -1.724918 -0.562288"
      ]
     },
     "execution_count": 61,
     "metadata": {},
     "output_type": "execute_result"
    }
   ],
   "source": [
    "long_data.reset_index().pivot(index=['Group','Subgroup'],columns='level_2',values=0)"
   ]
  },
  {
   "cell_type": "markdown",
   "id": "dfd43800",
   "metadata": {},
   "source": [
    "### Merging Datasets"
   ]
  },
  {
   "cell_type": "code",
   "execution_count": 62,
   "id": "0492c7d9",
   "metadata": {},
   "outputs": [
    {
     "name": "stdout",
     "output_type": "stream",
     "text": [
      "  key  value1\n",
      "0   A       1\n",
      "1   B       2\n",
      "2   C       3\n",
      "  key  value2\n",
      "0   A       4\n",
      "1   B       5\n",
      "2   D       6\n"
     ]
    }
   ],
   "source": [
    "# using simple data\n",
    "df1=pd.DataFrame({'key':['A','B','C'], 'value1':[1,2,3]})\n",
    "print(df1)\n",
    "df2=pd.DataFrame({'key':['A','B','D'], 'value2':[4,5,6]})\n",
    "print(df2)"
   ]
  },
  {
   "cell_type": "code",
   "execution_count": 63,
   "id": "5b11fd49",
   "metadata": {},
   "outputs": [
    {
     "data": {
      "text/html": [
       "<div>\n",
       "<style scoped>\n",
       "    .dataframe tbody tr th:only-of-type {\n",
       "        vertical-align: middle;\n",
       "    }\n",
       "\n",
       "    .dataframe tbody tr th {\n",
       "        vertical-align: top;\n",
       "    }\n",
       "\n",
       "    .dataframe thead th {\n",
       "        text-align: right;\n",
       "    }\n",
       "</style>\n",
       "<table border=\"1\" class=\"dataframe\">\n",
       "  <thead>\n",
       "    <tr style=\"text-align: right;\">\n",
       "      <th></th>\n",
       "      <th>key</th>\n",
       "      <th>value1</th>\n",
       "      <th>value2</th>\n",
       "    </tr>\n",
       "  </thead>\n",
       "  <tbody>\n",
       "    <tr>\n",
       "      <th>0</th>\n",
       "      <td>A</td>\n",
       "      <td>1.0</td>\n",
       "      <td>4.0</td>\n",
       "    </tr>\n",
       "    <tr>\n",
       "      <th>1</th>\n",
       "      <td>B</td>\n",
       "      <td>2.0</td>\n",
       "      <td>5.0</td>\n",
       "    </tr>\n",
       "    <tr>\n",
       "      <th>2</th>\n",
       "      <td>C</td>\n",
       "      <td>3.0</td>\n",
       "      <td>NaN</td>\n",
       "    </tr>\n",
       "    <tr>\n",
       "      <th>3</th>\n",
       "      <td>D</td>\n",
       "      <td>NaN</td>\n",
       "      <td>6.0</td>\n",
       "    </tr>\n",
       "  </tbody>\n",
       "</table>\n",
       "</div>"
      ],
      "text/plain": [
       "  key  value1  value2\n",
       "0   A     1.0     4.0\n",
       "1   B     2.0     5.0\n",
       "2   C     3.0     NaN\n",
       "3   D     NaN     6.0"
      ]
     },
     "execution_count": 63,
     "metadata": {},
     "output_type": "execute_result"
    }
   ],
   "source": [
    "pd.merge(df1,df2,on='key',how='outer') #all"
   ]
  },
  {
   "cell_type": "code",
   "execution_count": 64,
   "id": "996e0898",
   "metadata": {},
   "outputs": [
    {
     "data": {
      "text/html": [
       "<div>\n",
       "<style scoped>\n",
       "    .dataframe tbody tr th:only-of-type {\n",
       "        vertical-align: middle;\n",
       "    }\n",
       "\n",
       "    .dataframe tbody tr th {\n",
       "        vertical-align: top;\n",
       "    }\n",
       "\n",
       "    .dataframe thead th {\n",
       "        text-align: right;\n",
       "    }\n",
       "</style>\n",
       "<table border=\"1\" class=\"dataframe\">\n",
       "  <thead>\n",
       "    <tr style=\"text-align: right;\">\n",
       "      <th></th>\n",
       "      <th>key</th>\n",
       "      <th>value1</th>\n",
       "      <th>value2</th>\n",
       "    </tr>\n",
       "  </thead>\n",
       "  <tbody>\n",
       "    <tr>\n",
       "      <th>0</th>\n",
       "      <td>A</td>\n",
       "      <td>1</td>\n",
       "      <td>4</td>\n",
       "    </tr>\n",
       "    <tr>\n",
       "      <th>1</th>\n",
       "      <td>B</td>\n",
       "      <td>2</td>\n",
       "      <td>5</td>\n",
       "    </tr>\n",
       "  </tbody>\n",
       "</table>\n",
       "</div>"
      ],
      "text/plain": [
       "  key  value1  value2\n",
       "0   A       1       4\n",
       "1   B       2       5"
      ]
     },
     "execution_count": 64,
     "metadata": {},
     "output_type": "execute_result"
    }
   ],
   "source": [
    "pd.merge(df1,df2,on='key',how='inner') #intersect"
   ]
  },
  {
   "cell_type": "code",
   "execution_count": 65,
   "id": "109e5c5f",
   "metadata": {},
   "outputs": [
    {
     "data": {
      "text/html": [
       "<div>\n",
       "<style scoped>\n",
       "    .dataframe tbody tr th:only-of-type {\n",
       "        vertical-align: middle;\n",
       "    }\n",
       "\n",
       "    .dataframe tbody tr th {\n",
       "        vertical-align: top;\n",
       "    }\n",
       "\n",
       "    .dataframe thead th {\n",
       "        text-align: right;\n",
       "    }\n",
       "</style>\n",
       "<table border=\"1\" class=\"dataframe\">\n",
       "  <thead>\n",
       "    <tr style=\"text-align: right;\">\n",
       "      <th></th>\n",
       "      <th>key</th>\n",
       "      <th>value1</th>\n",
       "      <th>value2</th>\n",
       "    </tr>\n",
       "  </thead>\n",
       "  <tbody>\n",
       "    <tr>\n",
       "      <th>0</th>\n",
       "      <td>A</td>\n",
       "      <td>1</td>\n",
       "      <td>4.0</td>\n",
       "    </tr>\n",
       "    <tr>\n",
       "      <th>1</th>\n",
       "      <td>B</td>\n",
       "      <td>2</td>\n",
       "      <td>5.0</td>\n",
       "    </tr>\n",
       "    <tr>\n",
       "      <th>2</th>\n",
       "      <td>C</td>\n",
       "      <td>3</td>\n",
       "      <td>NaN</td>\n",
       "    </tr>\n",
       "  </tbody>\n",
       "</table>\n",
       "</div>"
      ],
      "text/plain": [
       "  key  value1  value2\n",
       "0   A       1     4.0\n",
       "1   B       2     5.0\n",
       "2   C       3     NaN"
      ]
     },
     "execution_count": 65,
     "metadata": {},
     "output_type": "execute_result"
    }
   ],
   "source": [
    "pd.merge(df1,df2,on='key',how='left') #all left"
   ]
  },
  {
   "cell_type": "code",
   "execution_count": 66,
   "id": "e980931d",
   "metadata": {},
   "outputs": [
    {
     "data": {
      "text/html": [
       "<div>\n",
       "<style scoped>\n",
       "    .dataframe tbody tr th:only-of-type {\n",
       "        vertical-align: middle;\n",
       "    }\n",
       "\n",
       "    .dataframe tbody tr th {\n",
       "        vertical-align: top;\n",
       "    }\n",
       "\n",
       "    .dataframe thead th {\n",
       "        text-align: right;\n",
       "    }\n",
       "</style>\n",
       "<table border=\"1\" class=\"dataframe\">\n",
       "  <thead>\n",
       "    <tr style=\"text-align: right;\">\n",
       "      <th></th>\n",
       "      <th>key</th>\n",
       "      <th>value1</th>\n",
       "      <th>value2</th>\n",
       "    </tr>\n",
       "  </thead>\n",
       "  <tbody>\n",
       "    <tr>\n",
       "      <th>0</th>\n",
       "      <td>A</td>\n",
       "      <td>1.0</td>\n",
       "      <td>4</td>\n",
       "    </tr>\n",
       "    <tr>\n",
       "      <th>1</th>\n",
       "      <td>B</td>\n",
       "      <td>2.0</td>\n",
       "      <td>5</td>\n",
       "    </tr>\n",
       "    <tr>\n",
       "      <th>2</th>\n",
       "      <td>D</td>\n",
       "      <td>NaN</td>\n",
       "      <td>6</td>\n",
       "    </tr>\n",
       "  </tbody>\n",
       "</table>\n",
       "</div>"
      ],
      "text/plain": [
       "  key  value1  value2\n",
       "0   A     1.0       4\n",
       "1   B     2.0       5\n",
       "2   D     NaN       6"
      ]
     },
     "execution_count": 66,
     "metadata": {},
     "output_type": "execute_result"
    }
   ],
   "source": [
    "pd.merge(df1,df2,on='key',how='right') #all right"
   ]
  },
  {
   "cell_type": "code",
   "execution_count": 68,
   "id": "5564d577",
   "metadata": {},
   "outputs": [
    {
     "data": {
      "text/html": [
       "<div>\n",
       "<style scoped>\n",
       "    .dataframe tbody tr th:only-of-type {\n",
       "        vertical-align: middle;\n",
       "    }\n",
       "\n",
       "    .dataframe tbody tr th {\n",
       "        vertical-align: top;\n",
       "    }\n",
       "\n",
       "    .dataframe thead th {\n",
       "        text-align: right;\n",
       "    }\n",
       "</style>\n",
       "<table border=\"1\" class=\"dataframe\">\n",
       "  <thead>\n",
       "    <tr style=\"text-align: right;\">\n",
       "      <th></th>\n",
       "      <th>key1</th>\n",
       "      <th>value1</th>\n",
       "      <th>key2</th>\n",
       "      <th>value2</th>\n",
       "    </tr>\n",
       "  </thead>\n",
       "  <tbody>\n",
       "    <tr>\n",
       "      <th>0</th>\n",
       "      <td>A</td>\n",
       "      <td>1</td>\n",
       "      <td>A</td>\n",
       "      <td>4</td>\n",
       "    </tr>\n",
       "    <tr>\n",
       "      <th>1</th>\n",
       "      <td>B</td>\n",
       "      <td>2</td>\n",
       "      <td>B</td>\n",
       "      <td>5</td>\n",
       "    </tr>\n",
       "  </tbody>\n",
       "</table>\n",
       "</div>"
      ],
      "text/plain": [
       "  key1  value1 key2  value2\n",
       "0    A       1    A       4\n",
       "1    B       2    B       5"
      ]
     },
     "execution_count": 68,
     "metadata": {},
     "output_type": "execute_result"
    }
   ],
   "source": [
    "df1=pd.DataFrame({'key1':['A','B','C'], 'value1':[1,2,3]})\n",
    "df2=pd.DataFrame({'key2':['A','B','D'], 'value2':[4,5,6]})\n",
    "pd.merge(df1,df2,left_on='key1',right_on='key2',how='inner') "
   ]
  },
  {
   "cell_type": "code",
   "execution_count": 69,
   "id": "7027bbef",
   "metadata": {},
   "outputs": [
    {
     "name": "stdout",
     "output_type": "stream",
     "text": [
      "            Value1\n",
      "key subkey        \n",
      "A   1            1\n",
      "B   2            2\n",
      "            Value2\n",
      "key subkey        \n",
      "A   1            3\n",
      "C   2            4\n"
     ]
    }
   ],
   "source": [
    "# using hie data\n",
    "df1=pd.DataFrame({'Value1':[1,2]}, index=pd.MultiIndex.from_tuples([('A','1'),('B','2')],names=['key','subkey']))\n",
    "df2=pd.DataFrame({'Value2':[3,4]}, index=pd.MultiIndex.from_tuples([('A','1'),('C','2')],names=['key','subkey']))\n",
    "print(df1)\n",
    "print(df2)"
   ]
  },
  {
   "cell_type": "code",
   "execution_count": 72,
   "id": "76d49d94",
   "metadata": {},
   "outputs": [
    {
     "data": {
      "text/html": [
       "<div>\n",
       "<style scoped>\n",
       "    .dataframe tbody tr th:only-of-type {\n",
       "        vertical-align: middle;\n",
       "    }\n",
       "\n",
       "    .dataframe tbody tr th {\n",
       "        vertical-align: top;\n",
       "    }\n",
       "\n",
       "    .dataframe thead th {\n",
       "        text-align: right;\n",
       "    }\n",
       "</style>\n",
       "<table border=\"1\" class=\"dataframe\">\n",
       "  <thead>\n",
       "    <tr style=\"text-align: right;\">\n",
       "      <th></th>\n",
       "      <th></th>\n",
       "      <th>Value1</th>\n",
       "      <th>Value2</th>\n",
       "    </tr>\n",
       "    <tr>\n",
       "      <th>key</th>\n",
       "      <th>subkey</th>\n",
       "      <th></th>\n",
       "      <th></th>\n",
       "    </tr>\n",
       "  </thead>\n",
       "  <tbody>\n",
       "    <tr>\n",
       "      <th>A</th>\n",
       "      <th>1</th>\n",
       "      <td>1.0</td>\n",
       "      <td>3.0</td>\n",
       "    </tr>\n",
       "    <tr>\n",
       "      <th>B</th>\n",
       "      <th>2</th>\n",
       "      <td>2.0</td>\n",
       "      <td>NaN</td>\n",
       "    </tr>\n",
       "    <tr>\n",
       "      <th>C</th>\n",
       "      <th>2</th>\n",
       "      <td>NaN</td>\n",
       "      <td>4.0</td>\n",
       "    </tr>\n",
       "  </tbody>\n",
       "</table>\n",
       "</div>"
      ],
      "text/plain": [
       "            Value1  Value2\n",
       "key subkey                \n",
       "A   1          1.0     3.0\n",
       "B   2          2.0     NaN\n",
       "C   2          NaN     4.0"
      ]
     },
     "execution_count": 72,
     "metadata": {},
     "output_type": "execute_result"
    }
   ],
   "source": [
    "pd.merge(df1,df2,on=['key','subkey'], how='outer')"
   ]
  },
  {
   "cell_type": "code",
   "execution_count": 80,
   "id": "109b9536",
   "metadata": {},
   "outputs": [
    {
     "name": "stdout",
     "output_type": "stream",
     "text": [
      "                      Value1\n",
      "level1 level2 level3        \n",
      "X      A      1            1\n",
      "Y      B      1            2\n",
      "              2            3\n",
      "                      Value2\n",
      "level1 level2 level3        \n",
      "Y      A      1            4\n",
      "       B      2            5\n",
      "Z      B      3            6\n"
     ]
    }
   ],
   "source": [
    "df1=pd.DataFrame({'Value1':[1,2,3]}, index=pd.MultiIndex.from_tuples([('X','A','1'),('Y','B','1'),('Y','B','2')],names=['level1','level2','level3']))\n",
    "df2=pd.DataFrame({'Value2':[4,5,6]}, index=pd.MultiIndex.from_tuples([('Y','A','1'),('Y','B','2'),('Z','B','3')],names=['level1','level2','level3']))\n",
    "print(df1)\n",
    "print(df2)"
   ]
  },
  {
   "cell_type": "code",
   "execution_count": 81,
   "id": "3d784a6a",
   "metadata": {},
   "outputs": [
    {
     "data": {
      "text/html": [
       "<div>\n",
       "<style scoped>\n",
       "    .dataframe tbody tr th:only-of-type {\n",
       "        vertical-align: middle;\n",
       "    }\n",
       "\n",
       "    .dataframe tbody tr th {\n",
       "        vertical-align: top;\n",
       "    }\n",
       "\n",
       "    .dataframe thead th {\n",
       "        text-align: right;\n",
       "    }\n",
       "</style>\n",
       "<table border=\"1\" class=\"dataframe\">\n",
       "  <thead>\n",
       "    <tr style=\"text-align: right;\">\n",
       "      <th></th>\n",
       "      <th></th>\n",
       "      <th></th>\n",
       "      <th>Value1</th>\n",
       "      <th>Value2</th>\n",
       "    </tr>\n",
       "    <tr>\n",
       "      <th>level1</th>\n",
       "      <th>level2</th>\n",
       "      <th>level3</th>\n",
       "      <th></th>\n",
       "      <th></th>\n",
       "    </tr>\n",
       "  </thead>\n",
       "  <tbody>\n",
       "    <tr>\n",
       "      <th>X</th>\n",
       "      <th>A</th>\n",
       "      <th>1</th>\n",
       "      <td>1.0</td>\n",
       "      <td>NaN</td>\n",
       "    </tr>\n",
       "    <tr>\n",
       "      <th rowspan=\"3\" valign=\"top\">Y</th>\n",
       "      <th rowspan=\"2\" valign=\"top\">B</th>\n",
       "      <th>1</th>\n",
       "      <td>2.0</td>\n",
       "      <td>NaN</td>\n",
       "    </tr>\n",
       "    <tr>\n",
       "      <th>2</th>\n",
       "      <td>3.0</td>\n",
       "      <td>5.0</td>\n",
       "    </tr>\n",
       "    <tr>\n",
       "      <th>A</th>\n",
       "      <th>1</th>\n",
       "      <td>NaN</td>\n",
       "      <td>4.0</td>\n",
       "    </tr>\n",
       "    <tr>\n",
       "      <th>Z</th>\n",
       "      <th>B</th>\n",
       "      <th>3</th>\n",
       "      <td>NaN</td>\n",
       "      <td>6.0</td>\n",
       "    </tr>\n",
       "  </tbody>\n",
       "</table>\n",
       "</div>"
      ],
      "text/plain": [
       "                      Value1  Value2\n",
       "level1 level2 level3                \n",
       "X      A      1          1.0     NaN\n",
       "Y      B      1          2.0     NaN\n",
       "              2          3.0     5.0\n",
       "       A      1          NaN     4.0\n",
       "Z      B      3          NaN     6.0"
      ]
     },
     "execution_count": 81,
     "metadata": {},
     "output_type": "execute_result"
    }
   ],
   "source": [
    "pd.merge(df1,df2,on=['level1','level2','level3'],how='outer')"
   ]
  },
  {
   "cell_type": "code",
   "execution_count": 83,
   "id": "480643c0",
   "metadata": {},
   "outputs": [
    {
     "name": "stdout",
     "output_type": "stream",
     "text": [
      "   A  B\n",
      "0  1  3\n",
      "1  2  4\n",
      "   A  B\n",
      "0  5  7\n",
      "1  6  8\n",
      "   A  B  A  B\n",
      "0  1  3  5  7\n",
      "1  2  4  6  8\n"
     ]
    }
   ],
   "source": [
    "df1=pd.DataFrame({'A':[1,2],'B':[3,4]})\n",
    "df2=pd.DataFrame({'A':[5,6],'B':[7,8]})\n",
    "print(df1)\n",
    "print(df2)\n",
    "\n",
    "print(pd.concat([df1,df2],axis=1))"
   ]
  },
  {
   "cell_type": "code",
   "execution_count": 87,
   "id": "cc14ecce",
   "metadata": {},
   "outputs": [
    {
     "name": "stdout",
     "output_type": "stream",
     "text": [
      "            Value1\n",
      "key subkey        \n",
      "A   1            1\n",
      "B   2            2\n",
      "            Value2\n",
      "key subkey        \n",
      "A   1            3\n",
      "C   2            4\n",
      "            Value1  Value2\n",
      "key subkey                \n",
      "A   1            1       3\n"
     ]
    }
   ],
   "source": [
    "df1=pd.DataFrame({'Value1':[1,2]}, index=pd.MultiIndex.from_tuples([('A','1'),('B','2')],names=['key','subkey']))\n",
    "df2=pd.DataFrame({'Value2':[3,4]}, index=pd.MultiIndex.from_tuples([('A','1'),('C','2')],names=['key','subkey']))\n",
    "print(df1)\n",
    "print(df2)\n",
    "\n",
    "print(pd.concat([df1,df2],axis=1,join='inner')) # default is join=outer"
   ]
  },
  {
   "cell_type": "code",
   "execution_count": 88,
   "id": "6b7e38ce",
   "metadata": {},
   "outputs": [
    {
     "name": "stdout",
     "output_type": "stream",
     "text": [
      "                      Value1\n",
      "level1 level2 level3        \n",
      "X      A      1            1\n",
      "Y      B      1            2\n",
      "              2            3\n",
      "                      Value2\n",
      "level1 level2 level3        \n",
      "Y      A      1            4\n",
      "       B      2            5\n",
      "Z      B      3            6\n",
      "                      Value1  Value2\n",
      "level1 level2 level3                \n",
      "X      A      1          1.0     NaN\n",
      "Y      B      1          2.0     NaN\n",
      "              2          3.0     5.0\n",
      "       A      1          NaN     4.0\n",
      "Z      B      3          NaN     6.0\n"
     ]
    }
   ],
   "source": [
    "df1=pd.DataFrame({'Value1':[1,2,3]}, index=pd.MultiIndex.from_tuples([('X','A','1'),('Y','B','1'),('Y','B','2')],names=['level1','level2','level3']))\n",
    "df2=pd.DataFrame({'Value2':[4,5,6]}, index=pd.MultiIndex.from_tuples([('Y','A','1'),('Y','B','2'),('Z','B','3')],names=['level1','level2','level3']))\n",
    "print(df1)\n",
    "print(df2)\n",
    "\n",
    "print(pd.concat([df1,df2],axis=1))"
   ]
  },
  {
   "cell_type": "code",
   "execution_count": 120,
   "id": "e4f9d5b0",
   "metadata": {},
   "outputs": [
    {
     "name": "stdout",
     "output_type": "stream",
     "text": [
      "      id  grade    status        type first name  last name  salary\n",
      "0  10212     41    active   permanent        ali      smith    2200\n",
      "1  10213     41    active   permanent       john        doe    2300\n",
      "2  10214     44    active   permanent     sheryl  armstrong    3600\n",
      "3  10215     42    active   permanent      haily     bailey    2500\n",
      "4  10216     48    active    contract    jackson      green    5200\n",
      "5  10217     54    active   permanent     martin     parker    5200\n",
      "6  10218     41  inactive   contract        rose     taylor    2600\n",
      "7  10219     52    active    contract     wilson       wood    6600\n",
      "8  10220     42    active   permanent   mitchell        lee    2500\n",
      "      id  grade    status        type            name  salary\n",
      "0  10221     41    active   permanent  lawrence lloyd    2420\n",
      "1  10222     41  inactive   permanent     james moore    2530\n",
      "2  10223     44    active   permanent   amelia phills    3960\n",
      "3  10224     42    active   permanent     sally price    2750\n",
      "4  10225     48    active    contract   amanda taylor    5720\n",
      "5  10226     54    active   permanent    robert scort    5720\n",
      "6  10227     41    active   contract      rose taylor    2860\n",
      "7  10228     52    active    contract     thomas will    7260\n",
      "8  10229     42    active   permanent    nicole white    2750\n"
     ]
    }
   ],
   "source": [
    "emp1=pd.read_csv('emp1.csv', skiprows=1)\n",
    "print(emp1)\n",
    "emp2=pd.read_csv('emp2.csv', skiprows=2)\n",
    "print(emp2)"
   ]
  },
  {
   "cell_type": "code",
   "execution_count": 97,
   "id": "9624375a",
   "metadata": {},
   "outputs": [
    {
     "data": {
      "text/plain": [
       "Index(['id', 'grade', 'status', 'type', 'first name', 'last name', 'salary'], dtype='object')"
      ]
     },
     "execution_count": 97,
     "metadata": {},
     "output_type": "execute_result"
    }
   ],
   "source": [
    "emp1.columns"
   ]
  },
  {
   "cell_type": "code",
   "execution_count": 121,
   "id": "965fded4",
   "metadata": {},
   "outputs": [
    {
     "name": "stdout",
     "output_type": "stream",
     "text": [
      "      id  grade    status        type first name  last name  salary(MYR)\n",
      "0  10212     41    active   permanent        ali      smith         2200\n",
      "1  10213     41    active   permanent       john        doe         2300\n",
      "2  10214     44    active   permanent     sheryl  armstrong         3600\n",
      "3  10215     42    active   permanent      haily     bailey         2500\n",
      "4  10216     48    active    contract    jackson      green         5200\n",
      "5  10217     54    active   permanent     martin     parker         5200\n",
      "6  10218     41  inactive   contract        rose     taylor         2600\n",
      "7  10219     52    active    contract     wilson       wood         6600\n",
      "8  10220     42    active   permanent   mitchell        lee         2500\n"
     ]
    }
   ],
   "source": [
    "#rename column salary\n",
    "emp1=emp1.rename(columns={emp1.columns[6]:'salary(MYR)'})\n",
    "print(emp1)"
   ]
  },
  {
   "cell_type": "code",
   "execution_count": 100,
   "id": "fe30b85c",
   "metadata": {},
   "outputs": [
    {
     "data": {
      "text/plain": [
       "Index(['id', 'grade', 'status', 'type', 'name', 'salary'], dtype='object')"
      ]
     },
     "execution_count": 100,
     "metadata": {},
     "output_type": "execute_result"
    }
   ],
   "source": [
    "emp2.columns"
   ]
  },
  {
   "cell_type": "code",
   "execution_count": 122,
   "id": "ec44197b",
   "metadata": {},
   "outputs": [
    {
     "name": "stdout",
     "output_type": "stream",
     "text": [
      "      id  grade    status        type            name  salary(USD)\n",
      "0  10221     41    active   permanent  lawrence lloyd         2420\n",
      "1  10222     41  inactive   permanent     james moore         2530\n",
      "2  10223     44    active   permanent   amelia phills         3960\n",
      "3  10224     42    active   permanent     sally price         2750\n",
      "4  10225     48    active    contract   amanda taylor         5720\n",
      "5  10226     54    active   permanent    robert scort         5720\n",
      "6  10227     41    active   contract      rose taylor         2860\n",
      "7  10228     52    active    contract     thomas will         7260\n",
      "8  10229     42    active   permanent    nicole white         2750\n"
     ]
    }
   ],
   "source": [
    "emp2=emp2.rename(columns={emp2.columns[5]:'salary(USD)'})\n",
    "print(emp2)"
   ]
  },
  {
   "cell_type": "code",
   "execution_count": 123,
   "id": "6304a0f0",
   "metadata": {},
   "outputs": [
    {
     "name": "stdout",
     "output_type": "stream",
     "text": [
      "      id  grade    status       type first name  last name  salary(MYR)\n",
      "0  10212     41    active  permanent        ali      smith         2200\n",
      "1  10213     41    active  permanent       john        doe         2300\n",
      "2  10214     44    active  permanent     sheryl  armstrong         3600\n",
      "3  10215     42    active  permanent      haily     bailey         2500\n",
      "4  10216     48    active   contract    jackson      green         5200\n",
      "5  10217     54    active  permanent     martin     parker         5200\n",
      "6  10218     41  inactive   contract       rose     taylor         2600\n",
      "7  10219     52    active   contract     wilson       wood         6600\n",
      "8  10220     42    active  permanent   mitchell        lee         2500\n"
     ]
    }
   ],
   "source": [
    "#remove whitespace to all using map\n",
    "emp1=emp1.map(lambda x: x.strip() if isinstance(x,str) else x)\n",
    "print(emp1)"
   ]
  },
  {
   "cell_type": "code",
   "execution_count": 124,
   "id": "4d6707da",
   "metadata": {},
   "outputs": [
    {
     "name": "stdout",
     "output_type": "stream",
     "text": [
      "      id  grade    status       type            name  salary(USD)\n",
      "0  10221     41    active  permanent  lawrence lloyd         2420\n",
      "1  10222     41  inactive  permanent     james moore         2530\n",
      "2  10223     44    active  permanent   amelia phills         3960\n",
      "3  10224     42    active  permanent     sally price         2750\n",
      "4  10225     48    active   contract   amanda taylor         5720\n",
      "5  10226     54    active  permanent    robert scort         5720\n",
      "6  10227     41    active   contract     rose taylor         2860\n",
      "7  10228     52    active   contract     thomas will         7260\n",
      "8  10229     42    active  permanent    nicole white         2750\n"
     ]
    }
   ],
   "source": [
    "emp2=emp2.map(lambda x: x.strip() if isinstance(x,str) else x)\n",
    "print(emp2)"
   ]
  },
  {
   "cell_type": "code",
   "execution_count": 125,
   "id": "2b2b9dc2",
   "metadata": {},
   "outputs": [
    {
     "name": "stdout",
     "output_type": "stream",
     "text": [
      "      id  grade    status       type first name  last name  salary(MYR)  \\\n",
      "0  10212     41    active  permanent        ali      smith         2200   \n",
      "1  10213     41    active  permanent       john        doe         2300   \n",
      "2  10214     44    active  permanent     sheryl  armstrong         3600   \n",
      "3  10215     42    active  permanent      haily     bailey         2500   \n",
      "4  10216     48    active   contract    jackson      green         5200   \n",
      "5  10217     54    active  permanent     martin     parker         5200   \n",
      "6  10218     41  inactive   contract       rose     taylor         2600   \n",
      "7  10219     52    active   contract     wilson       wood         6600   \n",
      "8  10220     42    active  permanent   mitchell        lee         2500   \n",
      "\n",
      "                 name  \n",
      "0       ali last name  \n",
      "1      john last name  \n",
      "2    sheryl last name  \n",
      "3     haily last name  \n",
      "4   jackson last name  \n",
      "5    martin last name  \n",
      "6      rose last name  \n",
      "7    wilson last name  \n",
      "8  mitchell last name  \n"
     ]
    }
   ],
   "source": [
    "#combine column first name and last name\n",
    "emp1['name']=emp1['first name']+' '+ ['last name']\n",
    "print(emp1)"
   ]
  },
  {
   "cell_type": "code",
   "execution_count": 127,
   "id": "9c813949",
   "metadata": {},
   "outputs": [
    {
     "name": "stdout",
     "output_type": "stream",
     "text": [
      "      id  grade    status       type  salary(MYR)                name\n",
      "0  10212     41    active  permanent         2200       ali last name\n",
      "1  10213     41    active  permanent         2300      john last name\n",
      "2  10214     44    active  permanent         3600    sheryl last name\n",
      "3  10215     42    active  permanent         2500     haily last name\n",
      "4  10216     48    active   contract         5200   jackson last name\n",
      "5  10217     54    active  permanent         5200    martin last name\n",
      "6  10218     41  inactive   contract         2600      rose last name\n",
      "7  10219     52    active   contract         6600    wilson last name\n",
      "8  10220     42    active  permanent         2500  mitchell last name\n"
     ]
    }
   ],
   "source": [
    "#drop column first name and last name\n",
    "emp1=emp1.drop(columns=['first name','last name'])\n",
    "print(emp1)\n",
    "\n",
    "#or\n",
    "#emp1.drop(columns=['first name','last name'],inplace=True)\n",
    "#print(emp1)          "
   ]
  },
  {
   "cell_type": "code",
   "execution_count": 128,
   "id": "16e47266",
   "metadata": {},
   "outputs": [
    {
     "data": {
      "text/html": [
       "<div>\n",
       "<style scoped>\n",
       "    .dataframe tbody tr th:only-of-type {\n",
       "        vertical-align: middle;\n",
       "    }\n",
       "\n",
       "    .dataframe tbody tr th {\n",
       "        vertical-align: top;\n",
       "    }\n",
       "\n",
       "    .dataframe thead th {\n",
       "        text-align: right;\n",
       "    }\n",
       "</style>\n",
       "<table border=\"1\" class=\"dataframe\">\n",
       "  <thead>\n",
       "    <tr style=\"text-align: right;\">\n",
       "      <th></th>\n",
       "      <th>id</th>\n",
       "      <th>grade</th>\n",
       "      <th>status</th>\n",
       "      <th>type</th>\n",
       "      <th>salary(MYR)</th>\n",
       "      <th>name</th>\n",
       "      <th>salary(USD)</th>\n",
       "    </tr>\n",
       "  </thead>\n",
       "  <tbody>\n",
       "    <tr>\n",
       "      <th>0</th>\n",
       "      <td>10212</td>\n",
       "      <td>41</td>\n",
       "      <td>active</td>\n",
       "      <td>permanent</td>\n",
       "      <td>2200.0</td>\n",
       "      <td>ali last name</td>\n",
       "      <td>NaN</td>\n",
       "    </tr>\n",
       "    <tr>\n",
       "      <th>1</th>\n",
       "      <td>10213</td>\n",
       "      <td>41</td>\n",
       "      <td>active</td>\n",
       "      <td>permanent</td>\n",
       "      <td>2300.0</td>\n",
       "      <td>john last name</td>\n",
       "      <td>NaN</td>\n",
       "    </tr>\n",
       "    <tr>\n",
       "      <th>2</th>\n",
       "      <td>10214</td>\n",
       "      <td>44</td>\n",
       "      <td>active</td>\n",
       "      <td>permanent</td>\n",
       "      <td>3600.0</td>\n",
       "      <td>sheryl last name</td>\n",
       "      <td>NaN</td>\n",
       "    </tr>\n",
       "    <tr>\n",
       "      <th>3</th>\n",
       "      <td>10215</td>\n",
       "      <td>42</td>\n",
       "      <td>active</td>\n",
       "      <td>permanent</td>\n",
       "      <td>2500.0</td>\n",
       "      <td>haily last name</td>\n",
       "      <td>NaN</td>\n",
       "    </tr>\n",
       "    <tr>\n",
       "      <th>4</th>\n",
       "      <td>10216</td>\n",
       "      <td>48</td>\n",
       "      <td>active</td>\n",
       "      <td>contract</td>\n",
       "      <td>5200.0</td>\n",
       "      <td>jackson last name</td>\n",
       "      <td>NaN</td>\n",
       "    </tr>\n",
       "  </tbody>\n",
       "</table>\n",
       "</div>"
      ],
      "text/plain": [
       "      id  grade  status       type  salary(MYR)               name  \\\n",
       "0  10212     41  active  permanent       2200.0      ali last name   \n",
       "1  10213     41  active  permanent       2300.0     john last name   \n",
       "2  10214     44  active  permanent       3600.0   sheryl last name   \n",
       "3  10215     42  active  permanent       2500.0    haily last name   \n",
       "4  10216     48  active   contract       5200.0  jackson last name   \n",
       "\n",
       "   salary(USD)  \n",
       "0          NaN  \n",
       "1          NaN  \n",
       "2          NaN  \n",
       "3          NaN  \n",
       "4          NaN  "
      ]
     },
     "execution_count": 128,
     "metadata": {},
     "output_type": "execute_result"
    }
   ],
   "source": [
    "joindata=pd.merge(emp1,emp2, how='outer')\n",
    "joindata.head()"
   ]
  },
  {
   "cell_type": "code",
   "execution_count": 129,
   "id": "f81d7b3b",
   "metadata": {},
   "outputs": [
    {
     "data": {
      "text/plain": [
       "0      True\n",
       "1      True\n",
       "2      True\n",
       "3      True\n",
       "4      True\n",
       "5      True\n",
       "6     False\n",
       "7      True\n",
       "8      True\n",
       "9      True\n",
       "10    False\n",
       "11     True\n",
       "12     True\n",
       "13     True\n",
       "14     True\n",
       "15     True\n",
       "16     True\n",
       "17     True\n",
       "Name: status, dtype: bool"
      ]
     },
     "execution_count": 129,
     "metadata": {},
     "output_type": "execute_result"
    }
   ],
   "source": [
    "joindata['status']=='active'"
   ]
  },
  {
   "cell_type": "code",
   "execution_count": 130,
   "id": "9867ea92",
   "metadata": {},
   "outputs": [
    {
     "data": {
      "text/html": [
       "<div>\n",
       "<style scoped>\n",
       "    .dataframe tbody tr th:only-of-type {\n",
       "        vertical-align: middle;\n",
       "    }\n",
       "\n",
       "    .dataframe tbody tr th {\n",
       "        vertical-align: top;\n",
       "    }\n",
       "\n",
       "    .dataframe thead th {\n",
       "        text-align: right;\n",
       "    }\n",
       "</style>\n",
       "<table border=\"1\" class=\"dataframe\">\n",
       "  <thead>\n",
       "    <tr style=\"text-align: right;\">\n",
       "      <th></th>\n",
       "      <th>index</th>\n",
       "      <th>id</th>\n",
       "      <th>grade</th>\n",
       "      <th>status</th>\n",
       "      <th>type</th>\n",
       "      <th>salary(MYR)</th>\n",
       "      <th>name</th>\n",
       "      <th>salary(USD)</th>\n",
       "    </tr>\n",
       "  </thead>\n",
       "  <tbody>\n",
       "    <tr>\n",
       "      <th>0</th>\n",
       "      <td>0</td>\n",
       "      <td>10212</td>\n",
       "      <td>41</td>\n",
       "      <td>active</td>\n",
       "      <td>permanent</td>\n",
       "      <td>2200.0</td>\n",
       "      <td>ali last name</td>\n",
       "      <td>NaN</td>\n",
       "    </tr>\n",
       "    <tr>\n",
       "      <th>1</th>\n",
       "      <td>1</td>\n",
       "      <td>10213</td>\n",
       "      <td>41</td>\n",
       "      <td>active</td>\n",
       "      <td>permanent</td>\n",
       "      <td>2300.0</td>\n",
       "      <td>john last name</td>\n",
       "      <td>NaN</td>\n",
       "    </tr>\n",
       "    <tr>\n",
       "      <th>2</th>\n",
       "      <td>2</td>\n",
       "      <td>10214</td>\n",
       "      <td>44</td>\n",
       "      <td>active</td>\n",
       "      <td>permanent</td>\n",
       "      <td>3600.0</td>\n",
       "      <td>sheryl last name</td>\n",
       "      <td>NaN</td>\n",
       "    </tr>\n",
       "    <tr>\n",
       "      <th>3</th>\n",
       "      <td>3</td>\n",
       "      <td>10215</td>\n",
       "      <td>42</td>\n",
       "      <td>active</td>\n",
       "      <td>permanent</td>\n",
       "      <td>2500.0</td>\n",
       "      <td>haily last name</td>\n",
       "      <td>NaN</td>\n",
       "    </tr>\n",
       "    <tr>\n",
       "      <th>4</th>\n",
       "      <td>4</td>\n",
       "      <td>10216</td>\n",
       "      <td>48</td>\n",
       "      <td>active</td>\n",
       "      <td>contract</td>\n",
       "      <td>5200.0</td>\n",
       "      <td>jackson last name</td>\n",
       "      <td>NaN</td>\n",
       "    </tr>\n",
       "    <tr>\n",
       "      <th>5</th>\n",
       "      <td>5</td>\n",
       "      <td>10217</td>\n",
       "      <td>54</td>\n",
       "      <td>active</td>\n",
       "      <td>permanent</td>\n",
       "      <td>5200.0</td>\n",
       "      <td>martin last name</td>\n",
       "      <td>NaN</td>\n",
       "    </tr>\n",
       "    <tr>\n",
       "      <th>6</th>\n",
       "      <td>7</td>\n",
       "      <td>10219</td>\n",
       "      <td>52</td>\n",
       "      <td>active</td>\n",
       "      <td>contract</td>\n",
       "      <td>6600.0</td>\n",
       "      <td>wilson last name</td>\n",
       "      <td>NaN</td>\n",
       "    </tr>\n",
       "    <tr>\n",
       "      <th>7</th>\n",
       "      <td>8</td>\n",
       "      <td>10220</td>\n",
       "      <td>42</td>\n",
       "      <td>active</td>\n",
       "      <td>permanent</td>\n",
       "      <td>2500.0</td>\n",
       "      <td>mitchell last name</td>\n",
       "      <td>NaN</td>\n",
       "    </tr>\n",
       "    <tr>\n",
       "      <th>8</th>\n",
       "      <td>9</td>\n",
       "      <td>10221</td>\n",
       "      <td>41</td>\n",
       "      <td>active</td>\n",
       "      <td>permanent</td>\n",
       "      <td>NaN</td>\n",
       "      <td>lawrence lloyd</td>\n",
       "      <td>2420.0</td>\n",
       "    </tr>\n",
       "    <tr>\n",
       "      <th>9</th>\n",
       "      <td>11</td>\n",
       "      <td>10223</td>\n",
       "      <td>44</td>\n",
       "      <td>active</td>\n",
       "      <td>permanent</td>\n",
       "      <td>NaN</td>\n",
       "      <td>amelia phills</td>\n",
       "      <td>3960.0</td>\n",
       "    </tr>\n",
       "    <tr>\n",
       "      <th>10</th>\n",
       "      <td>12</td>\n",
       "      <td>10224</td>\n",
       "      <td>42</td>\n",
       "      <td>active</td>\n",
       "      <td>permanent</td>\n",
       "      <td>NaN</td>\n",
       "      <td>sally price</td>\n",
       "      <td>2750.0</td>\n",
       "    </tr>\n",
       "    <tr>\n",
       "      <th>11</th>\n",
       "      <td>13</td>\n",
       "      <td>10225</td>\n",
       "      <td>48</td>\n",
       "      <td>active</td>\n",
       "      <td>contract</td>\n",
       "      <td>NaN</td>\n",
       "      <td>amanda taylor</td>\n",
       "      <td>5720.0</td>\n",
       "    </tr>\n",
       "    <tr>\n",
       "      <th>12</th>\n",
       "      <td>14</td>\n",
       "      <td>10226</td>\n",
       "      <td>54</td>\n",
       "      <td>active</td>\n",
       "      <td>permanent</td>\n",
       "      <td>NaN</td>\n",
       "      <td>robert scort</td>\n",
       "      <td>5720.0</td>\n",
       "    </tr>\n",
       "    <tr>\n",
       "      <th>13</th>\n",
       "      <td>15</td>\n",
       "      <td>10227</td>\n",
       "      <td>41</td>\n",
       "      <td>active</td>\n",
       "      <td>contract</td>\n",
       "      <td>NaN</td>\n",
       "      <td>rose taylor</td>\n",
       "      <td>2860.0</td>\n",
       "    </tr>\n",
       "    <tr>\n",
       "      <th>14</th>\n",
       "      <td>16</td>\n",
       "      <td>10228</td>\n",
       "      <td>52</td>\n",
       "      <td>active</td>\n",
       "      <td>contract</td>\n",
       "      <td>NaN</td>\n",
       "      <td>thomas will</td>\n",
       "      <td>7260.0</td>\n",
       "    </tr>\n",
       "    <tr>\n",
       "      <th>15</th>\n",
       "      <td>17</td>\n",
       "      <td>10229</td>\n",
       "      <td>42</td>\n",
       "      <td>active</td>\n",
       "      <td>permanent</td>\n",
       "      <td>NaN</td>\n",
       "      <td>nicole white</td>\n",
       "      <td>2750.0</td>\n",
       "    </tr>\n",
       "  </tbody>\n",
       "</table>\n",
       "</div>"
      ],
      "text/plain": [
       "    index     id  grade  status       type  salary(MYR)                name  \\\n",
       "0       0  10212     41  active  permanent       2200.0       ali last name   \n",
       "1       1  10213     41  active  permanent       2300.0      john last name   \n",
       "2       2  10214     44  active  permanent       3600.0    sheryl last name   \n",
       "3       3  10215     42  active  permanent       2500.0     haily last name   \n",
       "4       4  10216     48  active   contract       5200.0   jackson last name   \n",
       "5       5  10217     54  active  permanent       5200.0    martin last name   \n",
       "6       7  10219     52  active   contract       6600.0    wilson last name   \n",
       "7       8  10220     42  active  permanent       2500.0  mitchell last name   \n",
       "8       9  10221     41  active  permanent          NaN      lawrence lloyd   \n",
       "9      11  10223     44  active  permanent          NaN       amelia phills   \n",
       "10     12  10224     42  active  permanent          NaN         sally price   \n",
       "11     13  10225     48  active   contract          NaN       amanda taylor   \n",
       "12     14  10226     54  active  permanent          NaN        robert scort   \n",
       "13     15  10227     41  active   contract          NaN         rose taylor   \n",
       "14     16  10228     52  active   contract          NaN         thomas will   \n",
       "15     17  10229     42  active  permanent          NaN        nicole white   \n",
       "\n",
       "    salary(USD)  \n",
       "0           NaN  \n",
       "1           NaN  \n",
       "2           NaN  \n",
       "3           NaN  \n",
       "4           NaN  \n",
       "5           NaN  \n",
       "6           NaN  \n",
       "7           NaN  \n",
       "8        2420.0  \n",
       "9        3960.0  \n",
       "10       2750.0  \n",
       "11       5720.0  \n",
       "12       5720.0  \n",
       "13       2860.0  \n",
       "14       7260.0  \n",
       "15       2750.0  "
      ]
     },
     "execution_count": 130,
     "metadata": {},
     "output_type": "execute_result"
    }
   ],
   "source": [
    "joindata[joindata['status']=='active'].reset_index()"
   ]
  },
  {
   "cell_type": "code",
   "execution_count": 136,
   "id": "cfcee97f",
   "metadata": {},
   "outputs": [
    {
     "data": {
      "text/plain": [
       "2600.0"
      ]
     },
     "execution_count": 136,
     "metadata": {},
     "output_type": "execute_result"
    }
   ],
   "source": [
    "#1. fifth largest salary in MYR in form of number(using sort). hint:2750.0 \n",
    "\n",
    "#using index\n",
    "q1=joindata['salary(MYR)'].sort_values(ascending=False).reset_index()\n",
    "q1['salary(MYR)'][4]\n",
    "\n",
    "#using iloc\n",
    "#q1=joindata['salary(MYR)'].sort_values(ascending=False).iloc[4]"
   ]
  },
  {
   "cell_type": "code",
   "execution_count": 140,
   "id": "dbb4a9c0",
   "metadata": {},
   "outputs": [
    {
     "name": "stdout",
     "output_type": "stream",
     "text": [
      "16    7260.0\n",
      "13    5720.0\n",
      "14    5720.0\n",
      "11    3960.0\n",
      "15    2860.0\n",
      "12    2750.0\n",
      "17    2750.0\n",
      "10    2530.0\n",
      "9     2420.0\n",
      "0        NaN\n",
      "1        NaN\n",
      "2        NaN\n",
      "3        NaN\n",
      "4        NaN\n",
      "5        NaN\n",
      "6        NaN\n",
      "7        NaN\n",
      "8        NaN\n",
      "Name: salary(USD), dtype: float64\n"
     ]
    }
   ],
   "source": [
    "#2. who has the highest salary in USD in form of strring. hint:nicole white\n",
    "q2=joindata['salary(USD)'].idxmax()\n",
    "print(q2)"
   ]
  },
  {
   "cell_type": "code",
   "execution_count": 143,
   "id": "11d58b19",
   "metadata": {},
   "outputs": [
    {
     "data": {
      "text/plain": [
       "'thomas will'"
      ]
     },
     "execution_count": 143,
     "metadata": {},
     "output_type": "execute_result"
    }
   ],
   "source": [
    "joindata.loc[joindata['salary(USD)'].idxmax(),'name']"
   ]
  },
  {
   "cell_type": "code",
   "execution_count": null,
   "id": "736344bf",
   "metadata": {},
   "outputs": [],
   "source": []
  }
 ],
 "metadata": {
  "kernelspec": {
   "display_name": "Python 3 (ipykernel)",
   "language": "python",
   "name": "python3"
  },
  "language_info": {
   "codemirror_mode": {
    "name": "ipython",
    "version": 3
   },
   "file_extension": ".py",
   "mimetype": "text/x-python",
   "name": "python",
   "nbconvert_exporter": "python",
   "pygments_lexer": "ipython3",
   "version": "3.12.4"
  }
 },
 "nbformat": 4,
 "nbformat_minor": 5
}
