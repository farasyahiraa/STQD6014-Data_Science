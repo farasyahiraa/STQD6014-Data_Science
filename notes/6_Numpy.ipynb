{
 "cells": [
  {
   "cell_type": "markdown",
   "id": "f8422009-86dd-42d4-8563-30282028503d",
   "metadata": {},
   "source": [
    "## NumPy"
   ]
  },
  {
   "cell_type": "code",
   "execution_count": 11,
   "id": "505122e6-c013-4aef-b9c5-de9b60bd280b",
   "metadata": {},
   "outputs": [],
   "source": [
    "#run import first (#can put any name, but prefer np)\n",
    "import numpy as np      "
   ]
  },
  {
   "cell_type": "markdown",
   "id": "71974481-c32e-46a0-9f2d-dedbe7a5d2bd",
   "metadata": {},
   "source": [
    "## 1. Creating arrays & attributes"
   ]
  },
  {
   "cell_type": "markdown",
   "id": "c0f2c105-760d-4ce4-a7cb-c5f0fa617c33",
   "metadata": {},
   "source": [
    "## creating arrays"
   ]
  },
  {
   "cell_type": "code",
   "execution_count": null,
   "id": "2a2947d7-59cb-446d-ba77-8a97b48d6f4e",
   "metadata": {},
   "outputs": [],
   "source": [
    "#np.zeros()\n",
    "#np.ones()\n",
    "#np.arange()\n",
    "#np.linspace()"
   ]
  },
  {
   "cell_type": "code",
   "execution_count": 9,
   "id": "0ed90e58-c17e-41ab-b665-dbe6c55a590d",
   "metadata": {},
   "outputs": [
    {
     "data": {
      "text/plain": [
       "array([[0., 0., 0.],\n",
       "       [0., 0., 0.]])"
      ]
     },
     "execution_count": 9,
     "metadata": {},
     "output_type": "execute_result"
    }
   ],
   "source": [
    "#np.zeros() - an array filled with zeros\n",
    "#2 rows,3columns\n",
    "np.zeros((2,3)) #The outer brackets define the function call.\n",
    "                #The inner brackets define the shape of the array as a tuple."
   ]
  },
  {
   "cell_type": "code",
   "execution_count": 11,
   "id": "c42b8884-eea9-4eb7-be5a-9d595cd98adb",
   "metadata": {},
   "outputs": [
    {
     "data": {
      "text/plain": [
       "array([[1., 1., 1.],\n",
       "       [1., 1., 1.]])"
      ]
     },
     "execution_count": 11,
     "metadata": {},
     "output_type": "execute_result"
    }
   ],
   "source": [
    "#np.ones() - an array filled with ones\n",
    "#2 rows, 3 cols\n",
    "np.ones((2,3))"
   ]
  },
  {
   "cell_type": "code",
   "execution_count": 13,
   "id": "e08f54c4-8f27-419d-a515-3f59061491ba",
   "metadata": {},
   "outputs": [
    {
     "data": {
      "text/plain": [
       "array([0, 2, 4, 6, 8])"
      ]
     },
     "execution_count": 13,
     "metadata": {},
     "output_type": "execute_result"
    }
   ],
   "source": [
    "#np.arrange(start,stop,step) - array of evenly spaced values in a given range\n",
    "np.arange(0,10,2)"
   ]
  },
  {
   "cell_type": "code",
   "execution_count": 27,
   "id": "a97f13a0-7c75-4eba-af2a-cf30df67d1c1",
   "metadata": {},
   "outputs": [
    {
     "data": {
      "text/plain": [
       "array([0.  , 0.25, 0.5 , 0.75, 1.  ])"
      ]
     },
     "execution_count": 27,
     "metadata": {},
     "output_type": "execute_result"
    }
   ],
   "source": [
    "#np.linspace(start,stop,num) - array of evenly spaced values of specified interval\n",
    "np.linspace(0,1,5)"
   ]
  },
  {
   "cell_type": "markdown",
   "id": "b5923e6a-1b58-47a0-8958-30d4e75e2980",
   "metadata": {},
   "source": [
    "## array attribute"
   ]
  },
  {
   "cell_type": "code",
   "execution_count": 28,
   "id": "2a20f926-6499-4de3-a531-d55057793f04",
   "metadata": {},
   "outputs": [
    {
     "name": "stdout",
     "output_type": "stream",
     "text": [
      "(3,)\n",
      "3\n",
      "int32\n"
     ]
    }
   ],
   "source": [
    "#ndarray.shape - dimension of the array\n",
    "#ndarray.size - total num of elements\n",
    "#ndarray.dtype - data type of the array\n",
    "\n",
    "list=[1,2,3,]   #ndarray\n",
    "x=np.array(list)\n",
    "\n",
    "print(x.shape)\n",
    "print(x.size)\n",
    "print(x.dtype)"
   ]
  },
  {
   "cell_type": "code",
   "execution_count": 32,
   "id": "642ee5e5-af16-4830-915e-620a0570df1f",
   "metadata": {},
   "outputs": [
    {
     "data": {
      "text/plain": [
       "array([1, 2, 3])"
      ]
     },
     "execution_count": 32,
     "metadata": {},
     "output_type": "execute_result"
    }
   ],
   "source": [
    "#Ex1:\n",
    "list=[1,2,3]\n",
    "x=np.array(list)\n",
    "x"
   ]
  },
  {
   "cell_type": "code",
   "execution_count": 13,
   "id": "0f986802-fc6a-47d0-bc62-989bb53b1769",
   "metadata": {},
   "outputs": [
    {
     "data": {
      "text/plain": [
       "(3,)"
      ]
     },
     "execution_count": 13,
     "metadata": {},
     "output_type": "execute_result"
    }
   ],
   "source": [
    "x.shape"
   ]
  },
  {
   "cell_type": "code",
   "execution_count": 14,
   "id": "ef70443d-87f3-4cd9-b993-42f79ccfca75",
   "metadata": {},
   "outputs": [
    {
     "data": {
      "text/plain": [
       "3"
      ]
     },
     "execution_count": 14,
     "metadata": {},
     "output_type": "execute_result"
    }
   ],
   "source": [
    "x.size"
   ]
  },
  {
   "cell_type": "code",
   "execution_count": 16,
   "id": "420d54cb-598b-4b9e-bd68-ac2dbe1d5c6a",
   "metadata": {},
   "outputs": [
    {
     "data": {
      "text/plain": [
       "dtype('int32')"
      ]
     },
     "execution_count": 16,
     "metadata": {},
     "output_type": "execute_result"
    }
   ],
   "source": [
    "x.dtype"
   ]
  },
  {
   "cell_type": "code",
   "execution_count": 34,
   "id": "6081eb04-4ccc-4543-97b0-ed3283cfe1d8",
   "metadata": {},
   "outputs": [
    {
     "data": {
      "text/plain": [
       "array([1.5, 2. , 3. ])"
      ]
     },
     "execution_count": 34,
     "metadata": {},
     "output_type": "execute_result"
    }
   ],
   "source": [
    "#Ex2:\n",
    "list=[1.5,2,3]\n",
    "x=np.array(list)\n",
    "x"
   ]
  },
  {
   "cell_type": "code",
   "execution_count": 36,
   "id": "b658c1ce-4968-487a-9d07-27c52cf28d2c",
   "metadata": {},
   "outputs": [
    {
     "name": "stdout",
     "output_type": "stream",
     "text": [
      "[1 2]\n"
     ]
    }
   ],
   "source": [
    "list=[1,2]\n",
    "print(np.array(list))"
   ]
  },
  {
   "cell_type": "code",
   "execution_count": 38,
   "id": "53641723-2e35-4e9e-bb4f-1967e8e83f0d",
   "metadata": {},
   "outputs": [
    {
     "data": {
      "text/plain": [
       "dtype('float64')"
      ]
     },
     "execution_count": 38,
     "metadata": {},
     "output_type": "execute_result"
    }
   ],
   "source": [
    "x.dtype        #float refer to number with decimal places"
   ]
  },
  {
   "cell_type": "code",
   "execution_count": 40,
   "id": "e418a059-19d0-41fa-8ad2-c80cadfbc0fd",
   "metadata": {},
   "outputs": [
    {
     "data": {
      "text/plain": [
       "array([[1, 2, 3],\n",
       "       [4, 5, 6]])"
      ]
     },
     "execution_count": 40,
     "metadata": {},
     "output_type": "execute_result"
    }
   ],
   "source": [
    "#Create 2D arrays-use from list of lists\n",
    "#Ex1:\n",
    "list2=[1,2,3],[4,5,6]       #has 2 rows, separated by comma\n",
    "b=np.array(list2)\n",
    "b"
   ]
  },
  {
   "cell_type": "code",
   "execution_count": 44,
   "id": "1e641847-186f-4dfe-9e3e-f69328b076c4",
   "metadata": {},
   "outputs": [
    {
     "name": "stdout",
     "output_type": "stream",
     "text": [
      "(2, 3)\n",
      "6\n",
      "int32\n"
     ]
    }
   ],
   "source": [
    "print(b.shape)\n",
    "print(b.size)\n",
    "print(b.dtype)"
   ]
  },
  {
   "cell_type": "code",
   "execution_count": 27,
   "id": "63fdb863-29d6-4c83-8784-3049840300d0",
   "metadata": {},
   "outputs": [
    {
     "data": {
      "text/plain": [
       "array([[1, 2],\n",
       "       [3, 4],\n",
       "       [5, 6]])"
      ]
     },
     "execution_count": 27,
     "metadata": {},
     "output_type": "execute_result"
    }
   ],
   "source": [
    "#Ex2:\n",
    "c=np.array([[1,2],[3,4],[5,6]])\n",
    "c"
   ]
  },
  {
   "cell_type": "code",
   "execution_count": 29,
   "id": "96b22dc9-f5ea-4ae8-9a3e-b9eb2f1be029",
   "metadata": {},
   "outputs": [
    {
     "data": {
      "text/plain": [
       "(3, 2)"
      ]
     },
     "execution_count": 29,
     "metadata": {},
     "output_type": "execute_result"
    }
   ],
   "source": [
    "c.shape"
   ]
  },
  {
   "cell_type": "code",
   "execution_count": 46,
   "id": "e8ae107d-e3d7-477d-91a2-0df780c5208f",
   "metadata": {},
   "outputs": [
    {
     "data": {
      "text/plain": [
       "array([[[ 1,  2,  3],\n",
       "        [ 4,  5,  6]],\n",
       "\n",
       "       [[ 7,  8,  9],\n",
       "        [10, 11, 12]]])"
      ]
     },
     "execution_count": 46,
     "metadata": {},
     "output_type": "execute_result"
    }
   ],
   "source": [
    "#Create 3D array (2,2,3) (depth, row, column)\n",
    "list3=[[[1,2,3],[4,5,6]],[[7,8,9],[10,11,12]]]\n",
    "d=np.array(list3)\n",
    "d"
   ]
  },
  {
   "cell_type": "code",
   "execution_count": 52,
   "id": "01014f7c-bd14-4a7e-a040-815ef3420a4e",
   "metadata": {},
   "outputs": [
    {
     "name": "stdout",
     "output_type": "stream",
     "text": [
      "(2, 2, 3)\n",
      "12\n",
      "int32\n"
     ]
    }
   ],
   "source": [
    "print(d.shape)\n",
    "print(d.size)\n",
    "print(d.dtype)"
   ]
  },
  {
   "cell_type": "code",
   "execution_count": 56,
   "id": "cc066c73-e4bb-4aa2-b342-ce627d9631f7",
   "metadata": {},
   "outputs": [
    {
     "data": {
      "text/plain": [
       "array([0., 0.])"
      ]
     },
     "execution_count": 56,
     "metadata": {},
     "output_type": "execute_result"
    }
   ],
   "source": [
    "np.zeros(2)"
   ]
  },
  {
   "cell_type": "code",
   "execution_count": 43,
   "id": "46c22d50-4e2b-4be1-9ce7-9b397bf78b0a",
   "metadata": {},
   "outputs": [
    {
     "data": {
      "text/plain": [
       "(2,)"
      ]
     },
     "execution_count": 43,
     "metadata": {},
     "output_type": "execute_result"
    }
   ],
   "source": [
    "np.zeros(2).shape"
   ]
  },
  {
   "cell_type": "code",
   "execution_count": 45,
   "id": "b33f880c-e8c3-46c5-ae80-135e970411f9",
   "metadata": {},
   "outputs": [
    {
     "data": {
      "text/plain": [
       "array([[0., 0., 0.],\n",
       "       [0., 0., 0.]])"
      ]
     },
     "execution_count": 45,
     "metadata": {},
     "output_type": "execute_result"
    }
   ],
   "source": [
    "np.zeros((2,3))   #2d array"
   ]
  },
  {
   "cell_type": "code",
   "execution_count": 47,
   "id": "a72bb3d9-54dd-4d46-986d-edd2f070b441",
   "metadata": {},
   "outputs": [
    {
     "data": {
      "text/plain": [
       "array([[[0., 0., 0.],\n",
       "        [0., 0., 0.]],\n",
       "\n",
       "       [[0., 0., 0.],\n",
       "        [0., 0., 0.]]])"
      ]
     },
     "execution_count": 47,
     "metadata": {},
     "output_type": "execute_result"
    }
   ],
   "source": [
    "np.zeros((2,2,3))   #3d array"
   ]
  },
  {
   "cell_type": "code",
   "execution_count": 49,
   "id": "71622e4f-cd61-4e95-97b6-1e0e3f452ad9",
   "metadata": {},
   "outputs": [
    {
     "data": {
      "text/plain": [
       "array([[1., 1., 1.],\n",
       "       [1., 1., 1.]])"
      ]
     },
     "execution_count": 49,
     "metadata": {},
     "output_type": "execute_result"
    }
   ],
   "source": [
    "np.ones((2,3))"
   ]
  },
  {
   "cell_type": "code",
   "execution_count": 51,
   "id": "4ab5059c-01e7-459c-87d3-81646caad531",
   "metadata": {},
   "outputs": [
    {
     "data": {
      "text/plain": [
       "array([1., 1., 1.])"
      ]
     },
     "execution_count": 51,
     "metadata": {},
     "output_type": "execute_result"
    }
   ],
   "source": [
    "np.ones(3)"
   ]
  },
  {
   "cell_type": "code",
   "execution_count": 62,
   "id": "fef1e92c-5407-4b05-8f00-681a0dfc03d7",
   "metadata": {},
   "outputs": [
    {
     "data": {
      "text/plain": [
       "array([0, 1, 2, 3, 4, 5, 6, 7, 8, 9])"
      ]
     },
     "execution_count": 62,
     "metadata": {},
     "output_type": "execute_result"
    }
   ],
   "source": [
    "#Arrange function, we pass in a start, a stop and a step size\n",
    "#returns evenly spaced\n",
    "np.arange(0,10,1)     #output will follow the step size "
   ]
  },
  {
   "cell_type": "code",
   "execution_count": 64,
   "id": "68f82dba-3dde-4e90-a08f-4e8be2479046",
   "metadata": {},
   "outputs": [
    {
     "data": {
      "text/plain": [
       "array([0, 2, 4, 6, 8])"
      ]
     },
     "execution_count": 64,
     "metadata": {},
     "output_type": "execute_result"
    }
   ],
   "source": [
    "np.arange(0,10,2)"
   ]
  },
  {
   "cell_type": "code",
   "execution_count": 66,
   "id": "e8f4d703-d727-400e-aba3-efc5bb49bcda",
   "metadata": {},
   "outputs": [
    {
     "data": {
      "text/plain": [
       "array([ 0. ,  2.5,  5. ,  7.5, 10. ])"
      ]
     },
     "execution_count": 66,
     "metadata": {},
     "output_type": "execute_result"
    }
   ],
   "source": [
    "#in space,returns a specific number of evenly spaced value\n",
    "np.linspace(0,10,5)     #give 5 elements(according to step size) "
   ]
  },
  {
   "cell_type": "code",
   "execution_count": 68,
   "id": "c257a59c-ad9a-4b07-a9f7-1dd45eaca836",
   "metadata": {},
   "outputs": [
    {
     "data": {
      "text/plain": [
       "array([ 0.        ,  0.52631579,  1.05263158,  1.57894737,  2.10526316,\n",
       "        2.63157895,  3.15789474,  3.68421053,  4.21052632,  4.73684211,\n",
       "        5.26315789,  5.78947368,  6.31578947,  6.84210526,  7.36842105,\n",
       "        7.89473684,  8.42105263,  8.94736842,  9.47368421, 10.        ])"
      ]
     },
     "execution_count": 68,
     "metadata": {},
     "output_type": "execute_result"
    }
   ],
   "source": [
    "np.linspace(0,10,20)     ##give 20 elements(according to step size) "
   ]
  },
  {
   "cell_type": "code",
   "execution_count": 74,
   "id": "ff1452f0-e1e5-4739-a74a-32c86cd56325",
   "metadata": {},
   "outputs": [
    {
     "name": "stdout",
     "output_type": "stream",
     "text": [
      "[ 0.  2.  4.  6.  8. 10.]\n",
      "[[ 0.  2.  4.]\n",
      " [ 6.  8. 10.]]\n"
     ]
    }
   ],
   "source": [
    "d1arr=np.linspace(0,10,6)\n",
    "d2arr=d1arr.reshape(2,3)    #(2x3 matric)=6 steps size, need to follow the step size number\n",
    "print(d1arr)     #original array\n",
    "print(d2arr)     #reshape array"
   ]
  },
  {
   "cell_type": "code",
   "execution_count": 15,
   "id": "9f9355fd-7119-48a7-b7c5-4618d15ee870",
   "metadata": {},
   "outputs": [
    {
     "name": "stdout",
     "output_type": "stream",
     "text": [
      "[ 0.          0.90909091  1.81818182  2.72727273  3.63636364  4.54545455\n",
      "  5.45454545  6.36363636  7.27272727  8.18181818  9.09090909 10.        ]\n",
      "[[[ 0.          0.90909091  1.81818182]\n",
      "  [ 2.72727273  3.63636364  4.54545455]]\n",
      "\n",
      " [[ 5.45454545  6.36363636  7.27272727]\n",
      "  [ 8.18181818  9.09090909 10.        ]]]\n"
     ]
    }
   ],
   "source": [
    "d1arr=np.linspace(0,10,12)\n",
    "d2arr=d1arr.reshape(2,2,3)    \n",
    "print(d1arr)   #it will print the output w/o array text    \n",
    "print(d2arr)   #it will print both output"
   ]
  },
  {
   "cell_type": "code",
   "execution_count": 17,
   "id": "ae0bb516-0b50-441b-99ea-967d610546df",
   "metadata": {},
   "outputs": [
    {
     "data": {
      "text/plain": [
       "array([[[ 0.        ,  0.90909091,  1.81818182],\n",
       "        [ 2.72727273,  3.63636364,  4.54545455]],\n",
       "\n",
       "       [[ 5.45454545,  6.36363636,  7.27272727],\n",
       "        [ 8.18181818,  9.09090909, 10.        ]]])"
      ]
     },
     "execution_count": 17,
     "metadata": {},
     "output_type": "execute_result"
    }
   ],
   "source": [
    "d1arr=np.linspace(0,10,12)\n",
    "d2arr=d1arr.reshape(2,2,3)    \n",
    "d1arr  #it will not shows the output,\n",
    "d2arr  #it will print this part only, if not key in print"
   ]
  },
  {
   "cell_type": "markdown",
   "id": "6d1154cc-c26b-4115-ac1d-12b698542819",
   "metadata": {},
   "source": [
    "## 2. Array Indexing"
   ]
  },
  {
   "cell_type": "code",
   "execution_count": 77,
   "id": "8e631075-6597-4d3a-87e9-a36594d07593",
   "metadata": {},
   "outputs": [],
   "source": [
    "#1D array - one index\n",
    "#2D array - array[row,column]\n",
    "#3D array - array[depth,row,column]\n",
    "#fancy index - pair row & column at the same time"
   ]
  },
  {
   "cell_type": "code",
   "execution_count": 79,
   "id": "55963ccf-5313-44e2-80c0-e49d14e43778",
   "metadata": {},
   "outputs": [
    {
     "data": {
      "text/plain": [
       "30"
      ]
     },
     "execution_count": 79,
     "metadata": {},
     "output_type": "execute_result"
    }
   ],
   "source": [
    "arr_1D=np.array([10,20,30,40,50])\n",
    "arr_1D[2]    #refer to second index"
   ]
  },
  {
   "cell_type": "code",
   "execution_count": 81,
   "id": "27ff00a3-1b1e-4e43-bbbd-14b5c63d6b5e",
   "metadata": {},
   "outputs": [
    {
     "data": {
      "text/plain": [
       "5"
      ]
     },
     "execution_count": 81,
     "metadata": {},
     "output_type": "execute_result"
    }
   ],
   "source": [
    "#2D array of 3x3\n",
    "arr_2D=np.array([[1,2,3],[4,5,6],[7,8,9]])\n",
    "arr_2D[1,1]    "
   ]
  },
  {
   "cell_type": "code",
   "execution_count": 85,
   "id": "95dd2ab7-44fb-40e5-ba2f-d631052da11f",
   "metadata": {},
   "outputs": [
    {
     "data": {
      "text/plain": [
       "array([2, 5, 8])"
      ]
     },
     "execution_count": 85,
     "metadata": {},
     "output_type": "execute_result"
    }
   ],
   "source": [
    "arr_2D=np.array([[1,2,3],[4,5,6],[7,8,9]])\n",
    "arr_2D[:,1]    #include all row, but retain only column 1"
   ]
  },
  {
   "cell_type": "code",
   "execution_count": 87,
   "id": "bc07805e-f75e-480b-8edf-f206e5c681aa",
   "metadata": {},
   "outputs": [
    {
     "data": {
      "text/plain": [
       "2"
      ]
     },
     "execution_count": 87,
     "metadata": {},
     "output_type": "execute_result"
    }
   ],
   "source": [
    "arr_2D=np.array([[1,2,3],[4,5,6],[7,8,9]])\n",
    "arr_2D[0,1] "
   ]
  },
  {
   "cell_type": "code",
   "execution_count": 89,
   "id": "5a3412c8-ddfe-4bfc-9a86-594c5e340ee2",
   "metadata": {},
   "outputs": [
    {
     "name": "stdout",
     "output_type": "stream",
     "text": [
      "[[[ 1  2  3]\n",
      "  [ 4  5  6]\n",
      "  [ 7  8  9]]\n",
      "\n",
      " [[10 11 12]\n",
      "  [13 14 15]\n",
      "  [16 17 18]]]\n"
     ]
    }
   ],
   "source": [
    "#3d array 2x3x3\n",
    "arr_3D=np.array([[[1,2,3],\n",
    "                 [4,5,6],\n",
    "                 [7,8,9]],\n",
    "               [[10,11,12],\n",
    "                 [13,14,15],\n",
    "                 [16,17,18]]]\n",
    "               )\n",
    "print(arr_3D)"
   ]
  },
  {
   "cell_type": "code",
   "execution_count": 91,
   "id": "c38438e7-943a-4d70-9af0-8ceb861ee2fb",
   "metadata": {},
   "outputs": [
    {
     "name": "stdout",
     "output_type": "stream",
     "text": [
      "13\n"
     ]
    }
   ],
   "source": [
    "arr_3D=np.array([[[1,2,3],\n",
    "                 [4,5,6],\n",
    "                 [7,8,9]],\n",
    "               [[10,11,12],\n",
    "                 [13,14,15],\n",
    "                 [16,17,18]]]\n",
    "               )\n",
    "print(arr_3D[1,1,0])"
   ]
  },
  {
   "cell_type": "code",
   "execution_count": 93,
   "id": "1da8251f-fcd2-49fc-8974-83dec565bd7a",
   "metadata": {},
   "outputs": [
    {
     "name": "stdout",
     "output_type": "stream",
     "text": [
      "[ 2 11]\n"
     ]
    }
   ],
   "source": [
    "arr_3D=np.array([[[1,2,3],\n",
    "                 [4,5,6],\n",
    "                 [7,8,9]],\n",
    "               [[10,11,12],\n",
    "                 [13,14,15],\n",
    "                 [16,17,18]]]\n",
    "               )\n",
    "print(arr_3D[:,0,1])"
   ]
  },
  {
   "cell_type": "code",
   "execution_count": 101,
   "id": "3647bf9e-95f9-45fa-bea5-17f6a9656670",
   "metadata": {},
   "outputs": [
    {
     "name": "stdout",
     "output_type": "stream",
     "text": [
      "30\n",
      "[30 40]\n"
     ]
    }
   ],
   "source": [
    "#fancy indexing\n",
    "arr_1D=np.array([10,20,30,40,50])\n",
    "print(arr_1D[2])\n",
    "print(arr_1D[[2,3]])  "
   ]
  },
  {
   "cell_type": "code",
   "execution_count": 105,
   "id": "42d1d526-c678-4179-a1c8-8df2dac7125a",
   "metadata": {},
   "outputs": [
    {
     "name": "stdout",
     "output_type": "stream",
     "text": [
      "[[1 2 3]\n",
      " [4 5 6]\n",
      " [7 8 9]]\n"
     ]
    },
    {
     "data": {
      "text/plain": [
       "array([2, 9])"
      ]
     },
     "execution_count": 105,
     "metadata": {},
     "output_type": "execute_result"
    }
   ],
   "source": [
    "#2D array of 3x3\n",
    "#fancy index-pair row & column at the same time\n",
    "arr_2D=np.array([[1,2,3],[4,5,6],[7,8,9]])\n",
    "print(arr_2D)\n",
    "rows=[0,2]\n",
    "cols=[1,2]\n",
    "arr_2D[rows,cols]"
   ]
  },
  {
   "cell_type": "code",
   "execution_count": 107,
   "id": "673636b9-05a6-4733-abbc-5db32d66c7bd",
   "metadata": {},
   "outputs": [
    {
     "name": "stdout",
     "output_type": "stream",
     "text": [
      "[[1 2 3]\n",
      " [7 8 9]]\n"
     ]
    },
    {
     "data": {
      "text/plain": [
       "array([2, 9])"
      ]
     },
     "execution_count": 107,
     "metadata": {},
     "output_type": "execute_result"
    }
   ],
   "source": [
    "#2D array of 3x3\n",
    "arr_2D=np.array([[1,2,3],[4,5,6],[7,8,9]])\n",
    "rows=[0,2]\n",
    "cols=[1,2]\n",
    "print(arr_2D[rows,:])\n",
    "arr_2D[rows,cols]"
   ]
  },
  {
   "cell_type": "code",
   "execution_count": 109,
   "id": "e7898aa1-dd54-444f-8700-22678ccfce11",
   "metadata": {},
   "outputs": [
    {
     "data": {
      "text/plain": [
       "array([ 2, 15])"
      ]
     },
     "execution_count": 109,
     "metadata": {},
     "output_type": "execute_result"
    }
   ],
   "source": [
    "arr_3D=np.array([[[1,2,3],\n",
    "                 [4,5,6],\n",
    "                 [7,8,9]],\n",
    "               [[10,11,12],\n",
    "                 [13,14,15],\n",
    "                 [16,17,18]]]\n",
    "               )\n",
    "depth_ind=[0,1]\n",
    "row_ind=[0,1]\n",
    "col_ind=[1,2]\n",
    "arr_3D[depth_ind,row_ind,col_ind]\n",
    "#return 2 elements based on the combination of the corresponding indices"
   ]
  },
  {
   "cell_type": "code",
   "execution_count": 117,
   "id": "d5763969-d1c1-4198-9785-c56b5881a784",
   "metadata": {},
   "outputs": [
    {
     "name": "stdout",
     "output_type": "stream",
     "text": [
      "[[[ 1  2  3]\n",
      "  [ 4  5  6]\n",
      "  [ 7  8  9]]\n",
      "\n",
      " [[10 11 12]\n",
      "  [13 14 15]\n",
      "  [16 17 18]]]\n"
     ]
    },
    {
     "data": {
      "text/plain": [
       "array([ 2, 15])"
      ]
     },
     "execution_count": 117,
     "metadata": {},
     "output_type": "execute_result"
    }
   ],
   "source": [
    "arr_3D=np.array([[[1,2,3],\n",
    "                 [4,5,6],\n",
    "                 [7,8,9]],\n",
    "               [[10,11,12],\n",
    "                 [13,14,15],\n",
    "                 [16,17,18]]]\n",
    "               )\n",
    "depth_ind=[0,1]\n",
    "row_ind=[0,1]\n",
    "col_ind=[1,2]\n",
    "print(arr_3D[depth_ind,:,:])\n",
    "arr_3D[depth_ind,row_ind,col_ind]"
   ]
  },
  {
   "cell_type": "code",
   "execution_count": 111,
   "id": "9ee950b6-cf6d-491f-a7f3-3c1cf50672b5",
   "metadata": {},
   "outputs": [
    {
     "data": {
      "text/plain": [
       "array([False, False, False,  True,  True])"
      ]
     },
     "execution_count": 111,
     "metadata": {},
     "output_type": "execute_result"
    }
   ],
   "source": [
    "arr=np.array([10,20,30,40,50])\n",
    "#create a boolean indexing by applying a conditon\n",
    "cond=arr>30\n",
    "cond   #print the condition of each element"
   ]
  },
  {
   "cell_type": "code",
   "execution_count": 113,
   "id": "31a3823c-b251-4241-8de2-2e4edf9407e3",
   "metadata": {},
   "outputs": [
    {
     "data": {
      "text/plain": [
       "array([40, 50])"
      ]
     },
     "execution_count": 113,
     "metadata": {},
     "output_type": "execute_result"
    }
   ],
   "source": [
    "arr=np.array([10,20,30,40,50])\n",
    "#create a boolean indexing by applying a conditon\n",
    "cond=arr>30\n",
    "arr[cond]#select the element"
   ]
  },
  {
   "cell_type": "code",
   "execution_count": 115,
   "id": "953fda49-ef50-4b8b-8cbc-8336b16bfabd",
   "metadata": {},
   "outputs": [
    {
     "data": {
      "text/plain": [
       "array([False, False,  True,  True, False])"
      ]
     },
     "execution_count": 115,
     "metadata": {},
     "output_type": "execute_result"
    }
   ],
   "source": [
    "#select element greater than 20 and less than 50\n",
    "cond=(arr>20)&(arr<50)\n",
    "cond"
   ]
  },
  {
   "cell_type": "code",
   "execution_count": 117,
   "id": "f087c648-a447-4d90-a2c8-e64607eaeade",
   "metadata": {},
   "outputs": [
    {
     "data": {
      "text/plain": [
       "array([30, 40])"
      ]
     },
     "execution_count": 117,
     "metadata": {},
     "output_type": "execute_result"
    }
   ],
   "source": [
    "arr=np.array([10,20,30,40,50])\n",
    "cond=(arr>20)&(arr<50)\n",
    "arr[cond]"
   ]
  },
  {
   "cell_type": "code",
   "execution_count": 119,
   "id": "0e885710-0901-4c8d-b8cb-4728e4054ba7",
   "metadata": {},
   "outputs": [
    {
     "name": "stdout",
     "output_type": "stream",
     "text": [
      "[3 4]\n",
      "[False False  True  True False]\n"
     ]
    }
   ],
   "source": [
    "arr=np.array([1,2,3,4,5])\n",
    "cond=(arr>2) & (arr<5)\n",
    "print(arr[cond])\n",
    "print(cond)"
   ]
  },
  {
   "cell_type": "code",
   "execution_count": 121,
   "id": "c4321edb-d1a6-4391-8128-7b5bf6e3ca37",
   "metadata": {},
   "outputs": [
    {
     "data": {
      "text/plain": [
       "array([6, 7, 8, 9])"
      ]
     },
     "execution_count": 121,
     "metadata": {},
     "output_type": "execute_result"
    }
   ],
   "source": [
    "arr_2D=np.array([[1,2,3],[4,5,6],[7,8,9]])\n",
    "x=arr_2D>5\n",
    "arr_2D[x]"
   ]
  },
  {
   "cell_type": "code",
   "execution_count": 123,
   "id": "859e092d-e276-4bda-9c05-8433633d7a5e",
   "metadata": {},
   "outputs": [
    {
     "data": {
      "text/plain": [
       "array([6, 7, 8, 9])"
      ]
     },
     "execution_count": 123,
     "metadata": {},
     "output_type": "execute_result"
    }
   ],
   "source": [
    "arr_2D=np.array([[1,2,3],[4,5,6],[7,8,9]])\n",
    "arr_2D[arr_2D>5]"
   ]
  },
  {
   "cell_type": "code",
   "execution_count": 125,
   "id": "9e4fc8c1-bbc1-4c7c-b401-3e49e0e6298b",
   "metadata": {},
   "outputs": [
    {
     "name": "stdout",
     "output_type": "stream",
     "text": [
      "[11 12 13 14 15 16 17 18]\n"
     ]
    }
   ],
   "source": [
    "arr_3D=np.array([[[1,2,3],\n",
    "                 [4,5,6],\n",
    "                 [7,8,9]],\n",
    "               [[10,11,12],\n",
    "                 [13,14,15],\n",
    "                 [16,17,18]]]\n",
    "               )\n",
    "print(arr_3D[arr_3D>10])"
   ]
  },
  {
   "cell_type": "code",
   "execution_count": 132,
   "id": "a77dc44a-a582-45db-a770-1b6bce0968af",
   "metadata": {},
   "outputs": [
    {
     "data": {
      "text/plain": [
       "array([2, 3, 4, 5])"
      ]
     },
     "execution_count": 132,
     "metadata": {},
     "output_type": "execute_result"
    }
   ],
   "source": [
    "arr=np.array([0,1,2,3,4,5,6,7,8,9])\n",
    "#slice from index 2 to 6(exlusive)\n",
    "arr[2:6]"
   ]
  },
  {
   "cell_type": "markdown",
   "id": "58a603bf-6aa4-404d-b904-f76fee0fc5ba",
   "metadata": {},
   "source": [
    "## 3. Array Slicing"
   ]
  },
  {
   "cell_type": "code",
   "execution_count": 130,
   "id": "0d5bbb73-f0e2-4e3e-943f-1edb53fbe284",
   "metadata": {},
   "outputs": [],
   "source": [
    "#Chapter 3;List - [ start : end ]\n",
    "#using : operator\n",
    "#general syntax for slicing - [start:stop:step size]\n",
    "#multinasinonal slicing - array[start1:stop1:step1, start2:stop2:step2, ...]"
   ]
  },
  {
   "cell_type": "code",
   "execution_count": 132,
   "id": "04b6170b-4996-410b-90ad-f89338876daf",
   "metadata": {},
   "outputs": [
    {
     "name": "stdout",
     "output_type": "stream",
     "text": [
      "[20 30 40]\n",
      "[10 30 50]\n",
      "[50 40 30 20 10]\n"
     ]
    }
   ],
   "source": [
    "#Example for 1D \n",
    "#[start:stop:step size]\n",
    "arr=np.array([10,20,30,40,50])\n",
    "\n",
    "#basic slicing\n",
    "print(arr[1:4])    #index 1 until 3\n",
    "#slice with step\n",
    "print(arr[::2])    #every 2nd element-refer to index 0,2,4,...\n",
    "#reverse slicing\n",
    "print(arr[::-1])   #reverse order"
   ]
  },
  {
   "cell_type": "code",
   "execution_count": 87,
   "id": "7125894f-1b59-42d6-b457-9fa558cf6853",
   "metadata": {},
   "outputs": [
    {
     "name": "stdout",
     "output_type": "stream",
     "text": [
      "[[2 3]\n",
      " [5 6]]\n",
      "[2 5 8]\n",
      "[4 5 6]\n",
      "[[1 3]\n",
      " [7 9]]\n"
     ]
    }
   ],
   "source": [
    "#Example for 2D\n",
    "#2D array [row,column] - [start:stop:step size] = [start:stop:step size,start:stop:step size]\n",
    "arr_2D=np.array([[1,2,3],\n",
    "                 [4,5,6,],\n",
    "                 [7,8,9]])\n",
    "\n",
    "#extract a sub-array\n",
    "print(arr_2D[0:2,1:3])\n",
    "#select all rows,specific columns\n",
    "print(arr_2D[:,1])\n",
    "#select specific rows,all columns\n",
    "print(arr_2D[1,:])\n",
    "#step slicing\n",
    "print(arr_2D[::2,::2])"
   ]
  },
  {
   "cell_type": "code",
   "execution_count": 89,
   "id": "594857da-3744-474a-83e8-c4cc6249e2fe",
   "metadata": {},
   "outputs": [
    {
     "name": "stdout",
     "output_type": "stream",
     "text": [
      "[[1 2 3]\n",
      " [4 5 6]]\n",
      "[[ 3  6]\n",
      " [ 9 12]]\n"
     ]
    }
   ],
   "source": [
    "#Example for 3D\n",
    "#3D array [depth,row,column] - [start:stop:step size] = [start:stop:step size,start:stop:step size,start:stop:step size]\n",
    "arr_3D=np.array([[[1,2,3],[4,5,6]],\n",
    "               [[7,8,9],[10,11,12]]])\n",
    "\n",
    "#slice 1st layer of the array\n",
    "print(arr_3D[0,:,:])\n",
    "#extract the last column across all layer and rows\n",
    "print(arr_3D[:,:,2])"
   ]
  },
  {
   "cell_type": "code",
   "execution_count": 93,
   "id": "00f6112f-4147-40d4-a656-0c4a29a65ddf",
   "metadata": {},
   "outputs": [
    {
     "name": "stdout",
     "output_type": "stream",
     "text": [
      "[2 3 4 5]\n",
      "[0 1 2 3 4]\n",
      "[3 4 5 6 7 8 9]\n",
      "[0 2 4 6 8]\n",
      "[7 8 9]\n",
      "7\n"
     ]
    }
   ],
   "source": [
    "arr=np.array([0,1,2,3,4,5,6,7,8,9])\n",
    "#slice from index 2 to 6(exlusive)\n",
    "print(arr[2:6])\n",
    "#slice from start to 5(exlusive)\n",
    "print(arr[:5])\n",
    "#slice from index 3(inclusive) to end\n",
    "print(arr[3:])\n",
    "#slice with step size 2\n",
    "print(arr[0:9:2])\n",
    "#slice the last 3 element\n",
    "print(arr[-3:])\n",
    "#slice the element only\n",
    "print(arr[-3])"
   ]
  },
  {
   "cell_type": "code",
   "execution_count": 103,
   "id": "ebb9e55b-879e-4ddf-854e-c71ebdbfcaac",
   "metadata": {},
   "outputs": [
    {
     "name": "stdout",
     "output_type": "stream",
     "text": [
      "[[1 2]\n",
      " [4 5]]\n",
      "[[5 6]\n",
      " [8 9]]\n",
      "[[5 6]\n",
      " [8 9]]\n"
     ]
    }
   ],
   "source": [
    "arr_2D=np.array([[1,2,3],\n",
    "                 [4,5,6],\n",
    "                 [7,8,9]])\n",
    "\n",
    "#slice the first two rows and first two column\n",
    "print(arr_2D[:2,:2])\n",
    "#slice the last two rows and last two column\n",
    "print(arr_2D[-2:,-2:])   #or\n",
    "print(arr_2D[1:3,1:3])"
   ]
  },
  {
   "cell_type": "code",
   "execution_count": 105,
   "id": "34d2718a-dcf9-49d8-8482-6944fb96eb62",
   "metadata": {},
   "outputs": [
    {
     "data": {
      "text/plain": [
       "array([[1, 2],\n",
       "       [4, 5]])"
      ]
     },
     "execution_count": 105,
     "metadata": {},
     "output_type": "execute_result"
    }
   ],
   "source": [
    "arr_2D[0:2,0:2]"
   ]
  },
  {
   "cell_type": "code",
   "execution_count": 119,
   "id": "37d311ce-3c2d-4447-8544-81fce97a2ac2",
   "metadata": {},
   "outputs": [
    {
     "name": "stdout",
     "output_type": "stream",
     "text": [
      "[[[15]\n",
      "  [18]]]\n",
      "[[[15]\n",
      "  [18]]]\n",
      "[[2 3]\n",
      " [5 6]\n",
      " [8 9]]\n",
      "[[2 3]\n",
      " [5 6]\n",
      " [8 9]]\n"
     ]
    }
   ],
   "source": [
    "arr_3D=np.array([[[1,2,3],\n",
    "                 [4,5,6],\n",
    "                 [7,8,9]],\n",
    "               [[10,11,12],\n",
    "                 [13,14,15],\n",
    "                 [16,17,18]]])\n",
    "\n",
    "#slice the last depth,row1 to 2 and last column\n",
    "print(arr_3D[-1:,1:3,-1:])  #or\n",
    "print(arr_3D[1:,1:,2:])\n",
    "#slice first depth,all rows and column from index 1\n",
    "print(arr_3D[0,:,1:])   #or\n",
    "print(arr_3D[0,0:3,1:3])"
   ]
  },
  {
   "cell_type": "markdown",
   "id": "6ed8571c-f292-4918-abb8-84e205ca19d7",
   "metadata": {},
   "source": [
    "## 4. Array manipulation"
   ]
  },
  {
   "cell_type": "markdown",
   "id": "1568c903-1a77-4c49-b3e8-0652a2907ad2",
   "metadata": {},
   "source": [
    "#np.reshape() - reshaping arrays\n",
    "\n",
    "#np.concatenante() - joins arrays along an axis\n",
    "\n",
    "#np.vstack() , np.hstack() - join arrays vertically(horizontally)\n",
    "\n",
    "#np.split() - split aprt an array into multiple arrays along an axis\n",
    "\n",
    "#np.vsplit() , np.hsplit() - split an array vertically(horizontally)"
   ]
  },
  {
   "cell_type": "code",
   "execution_count": 13,
   "id": "488979f7-517b-403a-b726-db697e95f814",
   "metadata": {},
   "outputs": [
    {
     "name": "stdout",
     "output_type": "stream",
     "text": [
      "[[1 2 3]\n",
      " [4 5 6]]\n"
     ]
    }
   ],
   "source": [
    "#np.reshape() - reshape array\n",
    "arr=np.array([1,2,3,4,5,6])\n",
    "x=arr.reshape(2,3)\n",
    "print(x)"
   ]
  },
  {
   "cell_type": "markdown",
   "id": "20eaf14d-afac-4699-804a-43b1c1bd5191",
   "metadata": {},
   "source": [
    "#axis=0, concatenate along rows(vertically)\n",
    "\n",
    "#axis=1, concatenant along columns(horizontally)\n",
    "\n",
    "#axis=2, concatenate into deeper dimentsion (depth, row, column)"
   ]
  },
  {
   "cell_type": "code",
   "execution_count": 19,
   "id": "b1d04d0a-6bb2-4063-bbb6-2c316532017c",
   "metadata": {},
   "outputs": [
    {
     "name": "stdout",
     "output_type": "stream",
     "text": [
      "[[1 2]\n",
      " [3 4]\n",
      " [5 6]]\n"
     ]
    }
   ],
   "source": [
    "#np.concatenate() -join arrays along the axis (structure kena sama)\n",
    "arr1 = np.array([[1, 2],\n",
    "                 [3, 4]])\n",
    "arr2 = np.array([[5, 6]])  #double bracket sebab nak match dgn structure arr1 to be contacenated along axis\n",
    "arr3=np.concatenate((arr1,arr2),axis=0)\n",
    "print(arr3)"
   ]
  },
  {
   "cell_type": "code",
   "execution_count": 141,
   "id": "7677cf5f-90be-45cb-bc5e-98c3893f5ce2",
   "metadata": {},
   "outputs": [
    {
     "name": "stdout",
     "output_type": "stream",
     "text": [
      "[[1 2 3]\n",
      " [4 5 6]]\n",
      "[1 2 3 4 5 6]\n"
     ]
    }
   ],
   "source": [
    "#np.vstack(),np.hstack() - join array verticall,horizontally\n",
    "arr4=np.array([1,2,3])\n",
    "arr5=np.array([4,5,6])\n",
    "arr6=np.vstack((arr4,arr5))\n",
    "arr7=np.hstack((arr4,arr5))\n",
    "print(arr6)\n",
    "print(arr7)"
   ]
  },
  {
   "cell_type": "code",
   "execution_count": 23,
   "id": "07673303-c769-44de-94e2-3a71a457ef5d",
   "metadata": {},
   "outputs": [
    {
     "name": "stdout",
     "output_type": "stream",
     "text": [
      "[array([1, 2]), array([3, 4]), array([5, 6])]\n"
     ]
    },
    {
     "data": {
      "text/plain": [
       "[array([7, 8]), array([ 9, 10]), array([11, 12])]"
      ]
     },
     "execution_count": 23,
     "metadata": {},
     "output_type": "execute_result"
    }
   ],
   "source": [
    "#np.split() - split an array into multiple array along an axis\n",
    "arr=np.array([1,2,3,4,5,6])\n",
    "#split into 3 array\n",
    "x=np.split(arr,3)\n",
    "print(x)\n",
    "\n",
    "arr1=np.array([7,8,9,10,11,12])\n",
    "#split into 3 array\n",
    "y=np.split(arr1,3)\n",
    "y"
   ]
  },
  {
   "cell_type": "code",
   "execution_count": 33,
   "id": "2f08db3b-2f4e-46e4-bb82-280337f61fc6",
   "metadata": {},
   "outputs": [
    {
     "name": "stdout",
     "output_type": "stream",
     "text": [
      "[array([[1, 2, 3]]), array([[4, 5, 6]]), array([[7, 8, 9]])]\n",
      "[array([[1],\n",
      "       [4],\n",
      "       [7]]), array([[2],\n",
      "       [5],\n",
      "       [8]]), array([[3],\n",
      "       [6],\n",
      "       [9]])]\n"
     ]
    }
   ],
   "source": [
    "#np.vsplit(),np.split() - split an array verticall,horizontally\n",
    "arr=np.array([[1,2,3],\n",
    "            [4,5,6],\n",
    "            [7,8,9]])\n",
    "#vertical split into 2 subarrays\n",
    "arr1=np.vsplit(arr,3)\n",
    "print(arr1)\n",
    "\n",
    "#horizontal split into 3 subarrays\n",
    "arr2=np.hsplit(arr,3)\n",
    "print(arr2)"
   ]
  },
  {
   "cell_type": "code",
   "execution_count": 35,
   "id": "839f2ab8-8a87-4fbe-9b8d-531f5bca282b",
   "metadata": {},
   "outputs": [
    {
     "name": "stdout",
     "output_type": "stream",
     "text": [
      "[1 2 3 4 5 6]\n"
     ]
    }
   ],
   "source": [
    "#1D array\n",
    "arr1=np.array([1,2,3])\n",
    "arr2=np.array([4,5,6])\n",
    "#concatenate along the first axis\n",
    "con_1D=np.concatenate((arr1,arr2))\n",
    "print(con_1D)"
   ]
  },
  {
   "cell_type": "code",
   "execution_count": 43,
   "id": "59ba5dfb-0e7e-45a7-b622-07184f508c6f",
   "metadata": {},
   "outputs": [
    {
     "name": "stdout",
     "output_type": "stream",
     "text": [
      "[[1 2 5 6]\n",
      " [3 4 7 8]]\n"
     ]
    }
   ],
   "source": [
    "#2D array\n",
    "arr3=np.array([[1,2],\n",
    "               [3,4]])\n",
    "arr4=np.array([[5,6],\n",
    "               [7,8]])\n",
    "#concatenate along the column(first axis)\n",
    "con_2D=np.concatenate((arr3,arr4),axis=1)\n",
    "print(con_2D)"
   ]
  },
  {
   "cell_type": "code",
   "execution_count": 186,
   "id": "f18f6463-067c-4efa-a0bd-6d16002235b6",
   "metadata": {},
   "outputs": [
    {
     "name": "stdout",
     "output_type": "stream",
     "text": [
      "[[1 2]\n",
      " [3 4]\n",
      " [5 6]\n",
      " [7 8]]\n"
     ]
    }
   ],
   "source": [
    "#2D array\n",
    "arr3=np.array([[1,2],\n",
    "               [3,4]])\n",
    "arr4=np.array([[5,6],\n",
    "               [7,8]])\n",
    "#concatenate along the row(axis 0)\n",
    "con_2D_2=np.concatenate((arr3,arr4),axis=0)\n",
    "print(con_2D_2)"
   ]
  },
  {
   "cell_type": "code",
   "execution_count": 45,
   "id": "00d022d4-36f3-4e1a-89b2-dc87a5b7dd42",
   "metadata": {},
   "outputs": [
    {
     "name": "stdout",
     "output_type": "stream",
     "text": [
      "[[[ 0  1  2]\n",
      "  [ 3  4  5]\n",
      "  [ 6  7  8]]\n",
      "\n",
      " [[ 9 10 11]\n",
      "  [12 13 14]\n",
      "  [15 16 17]]]\n",
      "[[[18 19 20]\n",
      "  [21 22 23]\n",
      "  [24 25 26]]\n",
      "\n",
      " [[27 28 29]\n",
      "  [30 31 32]\n",
      "  [33 34 35]]]\n"
     ]
    }
   ],
   "source": [
    "#3D array\n",
    "#generate numbers from 0 to 17 (has 18 numbers)\n",
    "#reshape into 3D array(depth,row,column)\n",
    "arr1=np.arange(18).reshape(2,3,3)\n",
    "\n",
    "#generate numbers from 18 to 37 (has 18 numbers)\n",
    "#reshape into 3D array(depth,row,column)\n",
    "arr2=np.arange(18,36).reshape(2,3,3)\n",
    "print(arr1)\n",
    "print(arr2)"
   ]
  },
  {
   "cell_type": "code",
   "execution_count": 27,
   "id": "eb04f17e-25e9-4ea3-ab1c-f0d91cb3186b",
   "metadata": {},
   "outputs": [
    {
     "name": "stdout",
     "output_type": "stream",
     "text": [
      "(4, 3, 3)\n",
      "(2, 6, 3)\n",
      "(2, 3, 6)\n"
     ]
    }
   ],
   "source": [
    "arr1=np.arange(18).reshape(2,3,3)\n",
    "arr2=np.arange(18,36).reshape(2,3,3)\n",
    "\n",
    "#concatenate along axis 0\n",
    "c_0=np.concatenate((arr1,arr2),axis=0)\n",
    "print(c_0.shape)\n",
    "\n",
    "#concatenate along axis 1 row\n",
    "c_1=np.concatenate((arr1,arr2),axis=1)\n",
    "print(c_1.shape)\n",
    "\n",
    "#concatenate along axis 2 column\n",
    "c_2=np.concatenate((arr1,arr2),axis=2)\n",
    "print(c_2.shape)"
   ]
  },
  {
   "cell_type": "code",
   "execution_count": 212,
   "id": "c923800a-db9e-4575-8ac7-73391a27a7fe",
   "metadata": {},
   "outputs": [
    {
     "name": "stdout",
     "output_type": "stream",
     "text": [
      "[[1 2]\n",
      " [3 4]\n",
      " [5 6]\n",
      " [7 8]]\n",
      "[[1 2 5 6]\n",
      " [3 4 7 8]]\n",
      "[[1 2]\n",
      " [3 4]\n",
      " [5 6]\n",
      " [7 8]]\n"
     ]
    }
   ],
   "source": [
    "#2D array\n",
    "arr3=np.array([[1,2],[3,4]])\n",
    "arr4=np.array([[5,6],[7,8]])\n",
    "#concatenate along the row(axis 0)\n",
    "con_2D_2=np.concatenate((arr3,arr4),axis=0)\n",
    "print(con_2D_2)\n",
    "print(np.hstack((arr3,arr4)))    #col-wise\n",
    "print(np.vstack((arr3,arr4)))   #row-wise"
   ]
  },
  {
   "cell_type": "code",
   "execution_count": 222,
   "id": "a0c180f8-b173-4c07-9360-a2a69f55715f",
   "metadata": {},
   "outputs": [
    {
     "name": "stdout",
     "output_type": "stream",
     "text": [
      "[0 1 2 3 4 5 6 7 8 9]\n",
      "[array([0, 1, 2, 3, 4]), array([5, 6, 7, 8, 9])]\n",
      "[array([0, 1, 2]), array([3, 4, 5, 6]), array([7, 8, 9])]\n"
     ]
    }
   ],
   "source": [
    "arr=np.arange(10)\n",
    "print(arr)\n",
    "\n",
    "#split 2 equal parts\n",
    "split_arr=np.split(arr,2)\n",
    "print(split_arr)\n",
    "\n",
    "#split based on indices\n",
    "split_ind=np.split(arr,[3,7])   #split at index 3 & 7\n",
    "print(split_ind)"
   ]
  },
  {
   "cell_type": "code",
   "execution_count": 220,
   "id": "6e7c0495-125e-42c8-8962-7e01518e01d3",
   "metadata": {},
   "outputs": [
    {
     "name": "stdout",
     "output_type": "stream",
     "text": [
      "[0 1 2 3 4 5 6 7 8 9]\n",
      "[array([0, 1, 2, 3, 4]), array([5, 6, 7, 8, 9])]\n",
      "[array([0, 1, 2]), array([3, 4, 5, 6]), array([7, 8, 9])]\n",
      "[0 1 2]\n",
      "[3 4 5 6]\n",
      "[7 8 9]\n"
     ]
    }
   ],
   "source": [
    "#np.split; split your array ubti multiple sub-arrays\n",
    "arr=np.arange(10)\n",
    "print(arr)\n",
    "\n",
    "#split 2 equal parts\n",
    "split_arr=np.split(arr,2)\n",
    "print(split_arr)\n",
    "\n",
    "#split based on indices\n",
    "split_ind=np.split(arr,[3,7])   #split at index 3 & 7\n",
    "print(split_ind)\n",
    "\n",
    "#EX1: diff printing \n",
    "for part in split_ind:\n",
    "    print(part)"
   ]
  },
  {
   "cell_type": "code",
   "execution_count": 224,
   "id": "128e3df7-1967-4fc2-8238-caa458919fc8",
   "metadata": {},
   "outputs": [
    {
     "name": "stdout",
     "output_type": "stream",
     "text": [
      "[[ 0  1  2  3]\n",
      " [ 4  5  6  7]\n",
      " [ 8  9 10 11]\n",
      " [12 13 14 15]\n",
      " [16 17 18 19]\n",
      " [20 21 22 23]]\n"
     ]
    }
   ],
   "source": [
    "#2D aray\n",
    "arr=np.arange(24).reshape(6,4)\n",
    "print(arr)"
   ]
  },
  {
   "cell_type": "code",
   "execution_count": 228,
   "id": "789ca2af-ae79-4761-ae23-ffa67edb0322",
   "metadata": {},
   "outputs": [
    {
     "name": "stdout",
     "output_type": "stream",
     "text": [
      "[[ 0  1  2  3]\n",
      " [ 4  5  6  7]\n",
      " [ 8  9 10 11]\n",
      " [12 13 14 15]\n",
      " [16 17 18 19]\n",
      " [20 21 22 23]]\n",
      "[array([[0, 1, 2, 3],\n",
      "       [4, 5, 6, 7]]), array([[ 8,  9, 10, 11],\n",
      "       [12, 13, 14, 15]]), array([[16, 17, 18, 19],\n",
      "       [20, 21, 22, 23]])]\n"
     ]
    }
   ],
   "source": [
    "arr=np.arange(24).reshape(6,4)\n",
    "print(arr)\n",
    "\n",
    "#split the array at specific indices along the rows\n",
    "split_arr=np.split(arr,[2,4],axis=0)\n",
    "print(split_arr)"
   ]
  },
  {
   "cell_type": "code",
   "execution_count": 230,
   "id": "d5527393-7873-4a2e-a66c-9e6202bc9501",
   "metadata": {},
   "outputs": [
    {
     "name": "stdout",
     "output_type": "stream",
     "text": [
      "[[ 0  1  2  3]\n",
      " [ 4  5  6  7]\n",
      " [ 8  9 10 11]\n",
      " [12 13 14 15]\n",
      " [16 17 18 19]\n",
      " [20 21 22 23]]\n",
      "[array([[ 0],\n",
      "       [ 4],\n",
      "       [ 8],\n",
      "       [12],\n",
      "       [16],\n",
      "       [20]]), array([[ 1],\n",
      "       [ 5],\n",
      "       [ 9],\n",
      "       [13],\n",
      "       [17],\n",
      "       [21]]), array([[ 2,  3],\n",
      "       [ 6,  7],\n",
      "       [10, 11],\n",
      "       [14, 15],\n",
      "       [18, 19],\n",
      "       [22, 23]])]\n"
     ]
    }
   ],
   "source": [
    "arr=np.arange(24).reshape(6,4)\n",
    "print(arr)\n",
    "\n",
    "#split the array at specific indices along the column\n",
    "split_arr1=np.split(arr,[1,2],axis=1)\n",
    "print(split_arr1)"
   ]
  },
  {
   "cell_type": "code",
   "execution_count": 240,
   "id": "b48c88e3-6723-41f2-8d8a-3f9c98188833",
   "metadata": {},
   "outputs": [
    {
     "name": "stdout",
     "output_type": "stream",
     "text": [
      "[array([[[0, 1],\n",
      "        [2, 3],\n",
      "        [4, 5]]]), array([[[ 6,  7],\n",
      "        [ 8,  9],\n",
      "        [10, 11]]])]\n",
      "[array([[[0, 1]],\n",
      "\n",
      "       [[6, 7]]]), array([[[2, 3]],\n",
      "\n",
      "       [[8, 9]]]), array([[[ 4,  5]],\n",
      "\n",
      "       [[10, 11]]])]\n",
      "[array([[[ 0],\n",
      "        [ 2],\n",
      "        [ 4]],\n",
      "\n",
      "       [[ 6],\n",
      "        [ 8],\n",
      "        [10]]]), array([[[ 1],\n",
      "        [ 3],\n",
      "        [ 5]],\n",
      "\n",
      "       [[ 7],\n",
      "        [ 9],\n",
      "        [11]]])]\n"
     ]
    }
   ],
   "source": [
    "#3D array\n",
    "arr=np.arange(12).reshape(2,3,2)\n",
    "\n",
    "#split into 2 parts along the depth\n",
    "split0=np.split(arr,2,axis=0)\n",
    "print(split0)\n",
    "\n",
    "#split into 3 parts along the rows\n",
    "split1=np.split(arr,3,axis=1)\n",
    "print(split1)\n",
    "\n",
    "#split into 2 parts along the col\n",
    "split2=np.split(arr,2,axis=2)\n",
    "print(split2)"
   ]
  },
  {
   "cell_type": "markdown",
   "id": "28df6c38-4caf-4178-996f-c069ac959a94",
   "metadata": {},
   "source": [
    "## 19/11/2024"
   ]
  },
  {
   "cell_type": "code",
   "execution_count": 1,
   "id": "d03a56ad-9dba-48e6-adfd-eb41328f73a9",
   "metadata": {},
   "outputs": [],
   "source": [
    "#run import first\n",
    "import numpy as np       #can put any name, but prefer np"
   ]
  },
  {
   "cell_type": "code",
   "execution_count": 13,
   "id": "d3bc2032-cf07-449e-9605-b85f4c89e46c",
   "metadata": {
    "scrolled": true
   },
   "outputs": [
    {
     "name": "stdout",
     "output_type": "stream",
     "text": [
      "[[[ 0  1  2]\n",
      "  [ 3  4  5]]\n",
      "\n",
      " [[ 6  7  8]\n",
      "  [ 9 10 11]]\n",
      "\n",
      " [[12 13 14]\n",
      "  [15 16 17]]\n",
      "\n",
      " [[18 19 20]\n",
      "  [21 22 23]]]\n",
      "[array([[[ 0,  1,  2],\n",
      "        [ 3,  4,  5]],\n",
      "\n",
      "       [[ 6,  7,  8],\n",
      "        [ 9, 10, 11]]]), array([[[12, 13, 14],\n",
      "        [15, 16, 17]]]), array([[[18, 19, 20],\n",
      "        [21, 22, 23]]])]\n",
      "[array([[[ 0],\n",
      "        [ 3]],\n",
      "\n",
      "       [[ 6],\n",
      "        [ 9]],\n",
      "\n",
      "       [[12],\n",
      "        [15]],\n",
      "\n",
      "       [[18],\n",
      "        [21]]]), array([[[ 1],\n",
      "        [ 4]],\n",
      "\n",
      "       [[ 7],\n",
      "        [10]],\n",
      "\n",
      "       [[13],\n",
      "        [16]],\n",
      "\n",
      "       [[19],\n",
      "        [22]]]), array([[[ 2],\n",
      "        [ 5]],\n",
      "\n",
      "       [[ 8],\n",
      "        [11]],\n",
      "\n",
      "       [[14],\n",
      "        [17]],\n",
      "\n",
      "       [[20],\n",
      "        [23]]])]\n"
     ]
    }
   ],
   "source": [
    "#Create 3D array (4x2x3)\n",
    "arr=np.arange(24).reshape(4,2,3)\n",
    "print(arr)\n",
    "\n",
    "#split along the depth(axis=0)\n",
    "split_arr_depth=np.split(arr,[2,3],axis=0)\n",
    "print(split_arr_depth)\n",
    "\n",
    "#split along the column(axis=2)\n",
    "split_arr_col=np.split(arr,[1,2],axis=2)\n",
    "print(split_arr_col)"
   ]
  },
  {
   "cell_type": "code",
   "execution_count": 15,
   "id": "3b54e82a-a028-49ac-90ef-920aee83c5b9",
   "metadata": {},
   "outputs": [
    {
     "name": "stdout",
     "output_type": "stream",
     "text": [
      "(4, 2, 1)\n",
      "(4, 2, 1)\n",
      "(4, 2, 1)\n"
     ]
    }
   ],
   "source": [
    "for part in split_arr_col:\n",
    "    print(part.shape)    #recheck back"
   ]
  },
  {
   "cell_type": "code",
   "execution_count": 29,
   "id": "c18fbc4c-73e3-4ba8-9422-be6604c4d2cd",
   "metadata": {},
   "outputs": [
    {
     "name": "stdout",
     "output_type": "stream",
     "text": [
      "[array([[1, 2, 3, 4],\n",
      "       [5, 6, 7, 8]]), array([[ 9, 10, 11, 12],\n",
      "       [13, 14, 15, 16]])]\n",
      "[array([[1, 2, 3, 4],\n",
      "       [5, 6, 7, 8]]), array([[ 9, 10, 11, 12],\n",
      "       [13, 14, 15, 16]])]\n",
      "[array([[ 1,  2],\n",
      "       [ 5,  6],\n",
      "       [ 9, 10],\n",
      "       [13, 14]]), array([[ 3,  4],\n",
      "       [ 7,  8],\n",
      "       [11, 12],\n",
      "       [15, 16]])]\n"
     ]
    }
   ],
   "source": [
    "#Create a 2D array(4x4)\n",
    "\n",
    "arr2=np.array([[1,2,3,4],[5,6,7,8],[9,10,11,12],[13,14,15,16]])\n",
    "arr_v=np.split(arr2,2)\n",
    "print(arr_v)\n",
    "\n",
    "arr_s=np.split(arr2,[2],axis=0)\n",
    "print(arr_s)\n",
    "\n",
    "arr_sh=np.split(arr2,[2],axis=1)\n",
    "print(arr_sh)"
   ]
  },
  {
   "cell_type": "markdown",
   "id": "56b092de-ff71-4de1-839f-fa79bfc914cd",
   "metadata": {},
   "source": [
    "## Ufunc & arithmethic\n"
   ]
  },
  {
   "cell_type": "code",
   "execution_count": 41,
   "id": "d6094e07-ae69-410a-922c-56f726c84c9d",
   "metadata": {},
   "outputs": [
    {
     "name": "stdout",
     "output_type": "stream",
     "text": [
      "[1. 2. 3. 4. 5.]\n",
      "[2.71828183e+00 5.45981500e+01 8.10308393e+03 8.88611052e+06\n",
      " 7.20048993e+10]\n",
      "25\n",
      "4\n"
     ]
    }
   ],
   "source": [
    "#Unary ufunc\n",
    "arr=np.array([1,4,9,16,25])\n",
    "#np.sqrt() - compute square root\n",
    "a=np.sqrt(arr)\n",
    "print(a)\n",
    "#np.exp() - compute exponential (e^x)\n",
    "b=np.exp(arr)\n",
    "print(b)\n",
    "#np.max() - find max value\n",
    "c=np.max(arr)\n",
    "print(c)\n",
    "#np.argmax() - find index of the max value - answer refer to 25(index4)\n",
    "d=np.argmax(arr)\n",
    "print(d)"
   ]
  },
  {
   "cell_type": "code",
   "execution_count": 69,
   "id": "23a1cbb4-f769-43ec-aa2b-ae5e32440be8",
   "metadata": {},
   "outputs": [
    {
     "name": "stdout",
     "output_type": "stream",
     "text": [
      "[ 6  8 10 12]\n",
      "[-4 -4 -4 -4]\n",
      "[ 5 12 21 32]\n",
      "[0.2        0.33333333 0.42857143 0.5       ]\n",
      "[    1    64  2187 65536]\n",
      "[ True  True  True  True]\n"
     ]
    }
   ],
   "source": [
    "##Define 2 array\n",
    "a=np.array([1,2,3,4])\n",
    "b=np.array([5,6,7,8])\n",
    "\n",
    "#addition\n",
    "add_r=a+b\n",
    "print(add_r)\n",
    "\n",
    "#subtraction\n",
    "sub_r=a-b\n",
    "print(sub_r)\n",
    "\n",
    "#multiplication\n",
    "mult_r=a*b\n",
    "print(mult_r)\n",
    "\n",
    "#divide\n",
    "div_r=a/b\n",
    "print(div_r)\n",
    "\n",
    "#power\n",
    "pow_r=a**b\n",
    "print(pow_r)\n",
    "\n",
    "less_r=a<5\n",
    "print(less_r)"
   ]
  },
  {
   "cell_type": "code",
   "execution_count": 49,
   "id": "c5704af3-c5c9-4e0c-b1b2-4c2d0e8bce30",
   "metadata": {},
   "outputs": [
    {
     "data": {
      "text/plain": [
       "3.0"
      ]
     },
     "execution_count": 49,
     "metadata": {},
     "output_type": "execute_result"
    }
   ],
   "source": [
    "#unary ufunc\n",
    "arr=np.array([1,2,3,4,5])\n",
    "\n",
    "np.mean(arr)  #try for med, sum, "
   ]
  },
  {
   "cell_type": "code",
   "execution_count": 77,
   "id": "11d53113-6817-4aab-8a8a-332566596e41",
   "metadata": {},
   "outputs": [
    {
     "name": "stdout",
     "output_type": "stream",
     "text": [
      "[ 6  8 10 12]\n",
      "[-4 -4 -4 -4]\n",
      "[ 5 12 21 32]\n",
      "[0.2        0.33333333 0.42857143 0.5       ]\n",
      "[    1    64  2187 65536]\n",
      "[ True  True  True False]\n"
     ]
    }
   ],
   "source": [
    "#binary ufunc - same result as line 43, but diff method\n",
    "a=np.array([1,2,3,4])\n",
    "b=np.array([5,6,7,8])\n",
    "#addition\n",
    "add_r=np.add(a,b)\n",
    "print(add_r)\n",
    "#subtraction\n",
    "sub_r=np.subtract(a,b)\n",
    "print(sub_r)\n",
    "#multiplication\n",
    "mult_r=np.multiply(a,b)\n",
    "print(mult_r)\n",
    "#divide\n",
    "div_r=np.divide(a,b)\n",
    "print(div_r)\n",
    "#power\n",
    "pow_r=np.power(a,b)\n",
    "print(pow_r)\n",
    "#less\n",
    "less_r=np.less(a,4)\n",
    "print(less_r)   "
   ]
  },
  {
   "cell_type": "code",
   "execution_count": 75,
   "id": "6bbbe37b-7744-4b16-89de-3ec45b8fa574",
   "metadata": {},
   "outputs": [
    {
     "name": "stdout",
     "output_type": "stream",
     "text": [
      "Time using x<5: 0.9705290794372559\n"
     ]
    }
   ],
   "source": [
    "import time\n",
    "\n",
    "#create a very large array\n",
    "x=np.random.rand(1000000000)\n",
    "\n",
    "start=time.time()\n",
    "result_operator=x<5\n",
    "print(\"Time using x<5:\",time.time()-start)"
   ]
  },
  {
   "cell_type": "code",
   "execution_count": 80,
   "id": "9bc4b42a-498e-4d65-817e-e2ccb69da7f5",
   "metadata": {},
   "outputs": [
    {
     "name": "stdout",
     "output_type": "stream",
     "text": [
      "[[ 6  8]\n",
      " [10 12]]\n",
      "[[19 22]\n",
      " [43 50]]\n",
      "[[1 3]\n",
      " [2 4]]\n"
     ]
    }
   ],
   "source": [
    "#matrix operation\n",
    "\n",
    "A=np.array([[1,2],\n",
    "            [3,4]])\n",
    "B=np.array([[5,6],\n",
    "            [7,8]])\n",
    "\n",
    "mat_add=A+B\n",
    "mat_mult=A@B\n",
    "mat_tran=A.T\n",
    "\n",
    "print(mat_add)\n",
    "print(mat_mult)\n",
    "print(mat_tran)"
   ]
  },
  {
   "cell_type": "markdown",
   "id": "d49b9e77-0318-42fc-a059-3a1f129c103f",
   "metadata": {},
   "source": [
    "## View & Copy"
   ]
  },
  {
   "cell_type": "code",
   "execution_count": 44,
   "id": "be6b9f97-679e-4b31-b123-df252796e6f4",
   "metadata": {},
   "outputs": [
    {
     "name": "stdout",
     "output_type": "stream",
     "text": [
      "[99  2  3  4]\n",
      "[99  2  3  4]\n"
     ]
    }
   ],
   "source": [
    "#original array\n",
    "arr=np.array([1,2,3,4])\n",
    "#create a view\n",
    "view_arr=arr.view()\n",
    "#modify the view - replace index 0 with 99\n",
    "view_arr[0]=99\n",
    "print(arr)\n",
    "print(view_arr)"
   ]
  },
  {
   "cell_type": "code",
   "execution_count": 48,
   "id": "f1368632-051c-4439-9601-68853836ebec",
   "metadata": {},
   "outputs": [
    {
     "name": "stdout",
     "output_type": "stream",
     "text": [
      "[1 2 3 4]\n",
      "[99  2  3  4]\n"
     ]
    }
   ],
   "source": [
    "#original array\n",
    "arr=np.array([1,2,3,4])\n",
    "#create a copy\n",
    "copy_arr=arr.copy()\n",
    "#modify the copy\n",
    "copy_arr[0]=99\n",
    "print(arr)\n",
    "print(copy_arr)"
   ]
  },
  {
   "cell_type": "code",
   "execution_count": 97,
   "id": "0e21a834-300e-4a05-ad4f-f19a8474c99c",
   "metadata": {},
   "outputs": [
    {
     "name": "stdout",
     "output_type": "stream",
     "text": [
      "[[1 2 3]\n",
      " [4 5 6]]\n",
      "Modified array with copy:\n",
      "[[99  2  3]\n",
      " [ 4  5  6]]\n",
      "\n",
      "Original array:\n",
      "[[1 2 3]\n",
      " [4 5 6]\n",
      " [7 8 9]]\n"
     ]
    }
   ],
   "source": [
    "arr=np.array([[1,2,3],[4,5,6],[7,8,9]])\n",
    "\n",
    "#slice the first two rows\n",
    "view_arr=arr[0:2,:].copy()    #add copy here, to prevent the last step using modified array\n",
    "print(view_arr)\n",
    "\n",
    "#modify an element of view_arr\n",
    "view_arr[0,0]=99     #replace first row,column with 99 values\n",
    "print(\"Modified array with copy:\")\n",
    "print(view_arr)\n",
    "\n",
    "print(\"\\nOriginal array:\")   #if previous statement not using copy, this part will print the modified array as original \n",
    "print(arr)"
   ]
  },
  {
   "cell_type": "code",
   "execution_count": 99,
   "id": "e0a30a31-c7d4-4f4d-b855-b4b7531e5dd4",
   "metadata": {},
   "outputs": [
    {
     "name": "stdout",
     "output_type": "stream",
     "text": [
      "Modified arr: [99 40]\n",
      "Original arr: [10 20 30 40]\n"
     ]
    }
   ],
   "source": [
    "#1st\n",
    "arr=np.array([10,20,30,40])\n",
    "\n",
    "#fancy index\n",
    "fancy_view=arr[[1,3]]\n",
    "\n",
    "#modify fancy_view\n",
    "fancy_view[0]=99\n",
    "print(\"Modified arr:\",fancy_view)  #return to the original w/o specified the copy\n",
    "print(\"Original arr:\",arr)"
   ]
  },
  {
   "cell_type": "code",
   "execution_count": 101,
   "id": "843b13b9-5b2c-491f-b4a6-81a589a882dd",
   "metadata": {},
   "outputs": [
    {
     "name": "stdout",
     "output_type": "stream",
     "text": [
      "Modified arr: [99 40]\n",
      "Original arr: [10 20 30 40]\n"
     ]
    }
   ],
   "source": [
    "#2nd-same step but add copy statement only\n",
    "arr=np.array([10,20,30,40])\n",
    "\n",
    "#fancy index\n",
    "fancy_view=arr[[1,3]].copy()    #just put copy to be save\n",
    "\n",
    "#modify fancy_view\n",
    "fancy_view[0]=99\n",
    "print(\"Modified arr:\",fancy_view)  #return to the original w/o specified the copy\n",
    "print(\"Original arr:\",arr)"
   ]
  },
  {
   "cell_type": "code",
   "execution_count": 109,
   "id": "3c584cff-b307-4dd7-a56e-4c9ecf1e942d",
   "metadata": {},
   "outputs": [
    {
     "name": "stdout",
     "output_type": "stream",
     "text": [
      "Output: [[ 60  -1  80]\n",
      " [ 90   0 110]\n",
      " [120   0 140]\n",
      " [150   0 170]\n",
      " [180   1 200]]\n",
      "Input: [[ 60  70  80]\n",
      " [ 90 100 110]\n",
      " [120 130 140]\n",
      " [150 160 170]\n",
      " [180 190 200]]\n"
     ]
    }
   ],
   "source": [
    "#Built a function to normalize the specific column in 2D array\n",
    "\n",
    "def norm_col_2D(arr,col_index):\n",
    "    norm_arr=arr.copy()\n",
    "    col_arr=norm_arr[:,col_index]\n",
    "    \n",
    "    mean=np.mean(col_arr)\n",
    "    std_dev=np.std(col_arr)\n",
    "    \n",
    "    norm_arr[:,col_index]=(col_arr-mean)/std_dev\n",
    "    \n",
    "    return norm_arr,arr\n",
    "\n",
    "ori_arr=np.array([[60,70,80],\n",
    "                 [90,100,110],\n",
    "                 [120,130,140],\n",
    "                 [150,160,170],\n",
    "                 [180,190,200]])\n",
    "\n",
    "modified_arr,original_arr=norm_col_2D(ori_arr,1)\n",
    "print(\"Output:\",modified_arr)\n",
    "print(\"Input:\",original_arr)"
   ]
  },
  {
   "cell_type": "code",
   "execution_count": null,
   "id": "f00f9118-98fa-4996-a22d-c24d6c9a444c",
   "metadata": {},
   "outputs": [],
   "source": []
  }
 ],
 "metadata": {
  "kernelspec": {
   "display_name": "Python 3 (ipykernel)",
   "language": "python",
   "name": "python3"
  },
  "language_info": {
   "codemirror_mode": {
    "name": "ipython",
    "version": 3
   },
   "file_extension": ".py",
   "mimetype": "text/x-python",
   "name": "python",
   "nbconvert_exporter": "python",
   "pygments_lexer": "ipython3",
   "version": "3.12.4"
  }
 },
 "nbformat": 4,
 "nbformat_minor": 5
}
