{
 "cells": [
  {
   "cell_type": "markdown",
   "id": "be1a0e18-e03f-4ddb-a6de-6168bddc196c",
   "metadata": {},
   "source": [
    "# Pandas"
   ]
  },
  {
   "cell_type": "code",
   "execution_count": 7,
   "id": "2270f77b-4b3d-4e61-baa6-4da71463d796",
   "metadata": {},
   "outputs": [],
   "source": [
    "import pandas as pd\n",
    "import numpy as np"
   ]
  },
  {
   "cell_type": "markdown",
   "id": "d198cae8-8c76-4e4c-9f4c-8e14b1877972",
   "metadata": {},
   "source": [
    "## 1. Creating series"
   ]
  },
  {
   "cell_type": "code",
   "execution_count": 18,
   "id": "0120486b-bdb8-4e66-b90c-0dcda103ef6c",
   "metadata": {},
   "outputs": [
    {
     "name": "stdout",
     "output_type": "stream",
     "text": [
      "0    10\n",
      "1    20\n",
      "2    30\n",
      "3    40\n",
      "4    50\n",
      "dtype: int64\n",
      "0    1.1\n",
      "1    2.2\n",
      "2    3.3\n",
      "3    4.4\n",
      "dtype: float64\n",
      "a    1\n",
      "b    2\n",
      "c    3\n",
      "dtype: int64\n",
      "[10, 20, 30, 40]\n",
      "a    10\n",
      "b    20\n",
      "c    30\n",
      "d    40\n",
      "dtype: int64\n"
     ]
    }
   ],
   "source": [
    "#create from a list\n",
    "data=[10,20,30,40,50]\n",
    "d1=pd.Series(data)\n",
    "print(d1)\n",
    "#create from 1D array\n",
    "data=np.array([1.1,2.2,3.3,4.4])\n",
    "d2=pd.Series(data)\n",
    "print(d2)\n",
    "#create from dictionary\n",
    "data={'a':1,'b':2,'c':3}\n",
    "d3=pd.Series(data)\n",
    "print(d3)\n",
    "\n",
    "#custom index with series - for list & array only\n",
    "data=[10,20,30,40]\n",
    "print(data)\n",
    "d4=pd.Series(data,index=['a','b','c','d'])\n",
    "print(d4)"
   ]
  },
  {
   "cell_type": "code",
   "execution_count": 5,
   "id": "64bb1b99-6180-4cab-90b5-3aeb6e8e8d91",
   "metadata": {},
   "outputs": [
    {
     "name": "stdout",
     "output_type": "stream",
     "text": [
      "0    10\n",
      "1    20\n",
      "2    30\n",
      "3    40\n",
      "4    50\n",
      "dtype: int64\n"
     ]
    }
   ],
   "source": [
    "#create form list\n",
    "data=[10,20,30,40,50]\n",
    "s1=pd.Series(data)\n",
    "print(s1)"
   ]
  },
  {
   "cell_type": "code",
   "execution_count": 35,
   "id": "10d34437-dbd2-40aa-b49a-ec72391c3e6b",
   "metadata": {},
   "outputs": [
    {
     "name": "stdout",
     "output_type": "stream",
     "text": [
      "int64\n",
      "<class 'pandas.core.series.Series'>\n",
      "RangeIndex: 5 entries, 0 to 4\n",
      "Series name: None\n",
      "Non-Null Count  Dtype\n",
      "--------------  -----\n",
      "5 non-null      int64\n",
      "dtypes: int64(1)\n",
      "memory usage: 172.0 bytes\n",
      "None\n",
      "5\n",
      "0    10.0\n",
      "1    20.0\n",
      "2    30.0\n",
      "3    40.0\n",
      "4    50.0\n",
      "dtype: float64\n",
      "1    20\n",
      "2    30\n",
      "3    40\n",
      "4    50\n",
      "dtype: int64\n"
     ]
    }
   ],
   "source": [
    "#to check\n",
    "\n",
    "a=[10,20,30,40,50]\n",
    "b=pd.Series(a)\n",
    "\n",
    "print(b.dtype)\n",
    "print(b.info())   #used for DataFrame,in Series-will not provide detailed stats\n",
    "print(b.size)     #number of elements in the Series\n",
    "print(b.astype(float))     #convert data type\n",
    "print(b.drop(0))"
   ]
  },
  {
   "cell_type": "code",
   "execution_count": 7,
   "id": "5b5fe779-6508-4e88-9e65-687eadee3440",
   "metadata": {},
   "outputs": [
    {
     "name": "stdout",
     "output_type": "stream",
     "text": [
      "a    10\n",
      "b    20\n",
      "c    30\n",
      "d    40\n",
      "e    50\n",
      "dtype: int64\n"
     ]
    }
   ],
   "source": [
    "custom_index=[\"a\",\"b\",\"c\",\"d\",\"e\"]\n",
    "s1_customind=pd.Series(data,index=custom_index)\n",
    "print(s1_customind)"
   ]
  },
  {
   "cell_type": "code",
   "execution_count": 24,
   "id": "618be505-bb95-47b7-9d17-5464c1d1113b",
   "metadata": {},
   "outputs": [
    {
     "name": "stdout",
     "output_type": "stream",
     "text": [
      "0    10\n",
      "1    20\n",
      "2    30\n",
      "3    40\n",
      "4    50\n",
      "dtype: int32\n"
     ]
    },
    {
     "ename": "KeyError",
     "evalue": "\"['c'] not found in axis\"",
     "output_type": "error",
     "traceback": [
      "\u001b[1;31m---------------------------------------------------------------------------\u001b[0m",
      "\u001b[1;31mKeyError\u001b[0m                                  Traceback (most recent call last)",
      "Cell \u001b[1;32mIn[24], line 8\u001b[0m\n\u001b[0;32m      5\u001b[0m s_numpy\u001b[38;5;241m=\u001b[39mpd\u001b[38;5;241m.\u001b[39mSeries(narr)\n\u001b[0;32m      6\u001b[0m \u001b[38;5;28mprint\u001b[39m(s_numpy)\n\u001b[1;32m----> 8\u001b[0m new_series\u001b[38;5;241m=\u001b[39ms_numpy\u001b[38;5;241m.\u001b[39mdrop(\u001b[38;5;124m\"\u001b[39m\u001b[38;5;124mc\u001b[39m\u001b[38;5;124m\"\u001b[39m)\n\u001b[0;32m      9\u001b[0m \u001b[38;5;28mprint\u001b[39m(new_series)\n",
      "File \u001b[1;32m~\\anaconda3\\Lib\\site-packages\\pandas\\core\\series.py:5356\u001b[0m, in \u001b[0;36mSeries.drop\u001b[1;34m(self, labels, axis, index, columns, level, inplace, errors)\u001b[0m\n\u001b[0;32m   5259\u001b[0m \u001b[38;5;28;01mdef\u001b[39;00m \u001b[38;5;21mdrop\u001b[39m(\n\u001b[0;32m   5260\u001b[0m     \u001b[38;5;28mself\u001b[39m,\n\u001b[0;32m   5261\u001b[0m     labels: IndexLabel \u001b[38;5;241m|\u001b[39m \u001b[38;5;28;01mNone\u001b[39;00m \u001b[38;5;241m=\u001b[39m \u001b[38;5;28;01mNone\u001b[39;00m,\n\u001b[1;32m   (...)\u001b[0m\n\u001b[0;32m   5268\u001b[0m     errors: IgnoreRaise \u001b[38;5;241m=\u001b[39m \u001b[38;5;124m\"\u001b[39m\u001b[38;5;124mraise\u001b[39m\u001b[38;5;124m\"\u001b[39m,\n\u001b[0;32m   5269\u001b[0m ) \u001b[38;5;241m-\u001b[39m\u001b[38;5;241m>\u001b[39m Series \u001b[38;5;241m|\u001b[39m \u001b[38;5;28;01mNone\u001b[39;00m:\n\u001b[0;32m   5270\u001b[0m \u001b[38;5;250m    \u001b[39m\u001b[38;5;124;03m\"\"\"\u001b[39;00m\n\u001b[0;32m   5271\u001b[0m \u001b[38;5;124;03m    Return Series with specified index labels removed.\u001b[39;00m\n\u001b[0;32m   5272\u001b[0m \n\u001b[1;32m   (...)\u001b[0m\n\u001b[0;32m   5354\u001b[0m \u001b[38;5;124;03m    dtype: float64\u001b[39;00m\n\u001b[0;32m   5355\u001b[0m \u001b[38;5;124;03m    \"\"\"\u001b[39;00m\n\u001b[1;32m-> 5356\u001b[0m     \u001b[38;5;28;01mreturn\u001b[39;00m \u001b[38;5;28msuper\u001b[39m()\u001b[38;5;241m.\u001b[39mdrop(\n\u001b[0;32m   5357\u001b[0m         labels\u001b[38;5;241m=\u001b[39mlabels,\n\u001b[0;32m   5358\u001b[0m         axis\u001b[38;5;241m=\u001b[39maxis,\n\u001b[0;32m   5359\u001b[0m         index\u001b[38;5;241m=\u001b[39mindex,\n\u001b[0;32m   5360\u001b[0m         columns\u001b[38;5;241m=\u001b[39mcolumns,\n\u001b[0;32m   5361\u001b[0m         level\u001b[38;5;241m=\u001b[39mlevel,\n\u001b[0;32m   5362\u001b[0m         inplace\u001b[38;5;241m=\u001b[39minplace,\n\u001b[0;32m   5363\u001b[0m         errors\u001b[38;5;241m=\u001b[39merrors,\n\u001b[0;32m   5364\u001b[0m     )\n",
      "File \u001b[1;32m~\\anaconda3\\Lib\\site-packages\\pandas\\core\\generic.py:4788\u001b[0m, in \u001b[0;36mNDFrame.drop\u001b[1;34m(self, labels, axis, index, columns, level, inplace, errors)\u001b[0m\n\u001b[0;32m   4786\u001b[0m \u001b[38;5;28;01mfor\u001b[39;00m axis, labels \u001b[38;5;129;01min\u001b[39;00m axes\u001b[38;5;241m.\u001b[39mitems():\n\u001b[0;32m   4787\u001b[0m     \u001b[38;5;28;01mif\u001b[39;00m labels \u001b[38;5;129;01mis\u001b[39;00m \u001b[38;5;129;01mnot\u001b[39;00m \u001b[38;5;28;01mNone\u001b[39;00m:\n\u001b[1;32m-> 4788\u001b[0m         obj \u001b[38;5;241m=\u001b[39m obj\u001b[38;5;241m.\u001b[39m_drop_axis(labels, axis, level\u001b[38;5;241m=\u001b[39mlevel, errors\u001b[38;5;241m=\u001b[39merrors)\n\u001b[0;32m   4790\u001b[0m \u001b[38;5;28;01mif\u001b[39;00m inplace:\n\u001b[0;32m   4791\u001b[0m     \u001b[38;5;28mself\u001b[39m\u001b[38;5;241m.\u001b[39m_update_inplace(obj)\n",
      "File \u001b[1;32m~\\anaconda3\\Lib\\site-packages\\pandas\\core\\generic.py:4830\u001b[0m, in \u001b[0;36mNDFrame._drop_axis\u001b[1;34m(self, labels, axis, level, errors, only_slice)\u001b[0m\n\u001b[0;32m   4828\u001b[0m         new_axis \u001b[38;5;241m=\u001b[39m axis\u001b[38;5;241m.\u001b[39mdrop(labels, level\u001b[38;5;241m=\u001b[39mlevel, errors\u001b[38;5;241m=\u001b[39merrors)\n\u001b[0;32m   4829\u001b[0m     \u001b[38;5;28;01melse\u001b[39;00m:\n\u001b[1;32m-> 4830\u001b[0m         new_axis \u001b[38;5;241m=\u001b[39m axis\u001b[38;5;241m.\u001b[39mdrop(labels, errors\u001b[38;5;241m=\u001b[39merrors)\n\u001b[0;32m   4831\u001b[0m     indexer \u001b[38;5;241m=\u001b[39m axis\u001b[38;5;241m.\u001b[39mget_indexer(new_axis)\n\u001b[0;32m   4833\u001b[0m \u001b[38;5;66;03m# Case for non-unique axis\u001b[39;00m\n\u001b[0;32m   4834\u001b[0m \u001b[38;5;28;01melse\u001b[39;00m:\n",
      "File \u001b[1;32m~\\anaconda3\\Lib\\site-packages\\pandas\\core\\indexes\\base.py:7070\u001b[0m, in \u001b[0;36mIndex.drop\u001b[1;34m(self, labels, errors)\u001b[0m\n\u001b[0;32m   7068\u001b[0m \u001b[38;5;28;01mif\u001b[39;00m mask\u001b[38;5;241m.\u001b[39many():\n\u001b[0;32m   7069\u001b[0m     \u001b[38;5;28;01mif\u001b[39;00m errors \u001b[38;5;241m!=\u001b[39m \u001b[38;5;124m\"\u001b[39m\u001b[38;5;124mignore\u001b[39m\u001b[38;5;124m\"\u001b[39m:\n\u001b[1;32m-> 7070\u001b[0m         \u001b[38;5;28;01mraise\u001b[39;00m \u001b[38;5;167;01mKeyError\u001b[39;00m(\u001b[38;5;124mf\u001b[39m\u001b[38;5;124m\"\u001b[39m\u001b[38;5;132;01m{\u001b[39;00mlabels[mask]\u001b[38;5;241m.\u001b[39mtolist()\u001b[38;5;132;01m}\u001b[39;00m\u001b[38;5;124m not found in axis\u001b[39m\u001b[38;5;124m\"\u001b[39m)\n\u001b[0;32m   7071\u001b[0m     indexer \u001b[38;5;241m=\u001b[39m indexer[\u001b[38;5;241m~\u001b[39mmask]\n\u001b[0;32m   7072\u001b[0m \u001b[38;5;28;01mreturn\u001b[39;00m \u001b[38;5;28mself\u001b[39m\u001b[38;5;241m.\u001b[39mdelete(indexer)\n",
      "\u001b[1;31mKeyError\u001b[0m: \"['c'] not found in axis\""
     ]
    }
   ],
   "source": [
    "#create from numpy array-dont have index\n",
    "import numpy as np\n",
    "narr=np.array([10,20,30,40,50])\n",
    "\n",
    "s_numpy=pd.Series(narr)\n",
    "print(s_numpy)\n",
    "\n",
    "#output error bec no 'c' label in the Series\n",
    "new_series=s_numpy.drop(\"c\")\n",
    "print(new_series)"
   ]
  },
  {
   "cell_type": "code",
   "execution_count": 26,
   "id": "c2be7f96-9edb-4832-8361-c61c8f180729",
   "metadata": {},
   "outputs": [
    {
     "name": "stdout",
     "output_type": "stream",
     "text": [
      "0    10\n",
      "1    20\n",
      "2    30\n",
      "3    40\n",
      "4    50\n",
      "dtype: int32\n",
      "0    10\n",
      "1    20\n",
      "3    40\n",
      "4    50\n",
      "dtype: int32\n"
     ]
    }
   ],
   "source": [
    "#to fix above code\n",
    "narr=np.array([10,20,30,40,50])\n",
    "s_numpy=pd.Series(narr)\n",
    "print(s_numpy)\n",
    "\n",
    "#drop an index\n",
    "new_series=s_numpy.drop(2)\n",
    "print(new_series)"
   ]
  },
  {
   "cell_type": "code",
   "execution_count": 13,
   "id": "04368419-4519-4fa9-9490-ecd00a8f42c3",
   "metadata": {},
   "outputs": [
    {
     "name": "stdout",
     "output_type": "stream",
     "text": [
      "a    10\n",
      "b    20\n",
      "c    30\n",
      "d    40\n",
      "e    50\n",
      "dtype: int64\n"
     ]
    }
   ],
   "source": [
    "#create form dictionary-need to key in key & value pair\n",
    "\n",
    "dict={\"a\":10,\"b\":20,\"c\":30,\"d\":40,\"e\":50}\n",
    "s_dict=pd.Series(dict)\n",
    "print(s_dict)"
   ]
  },
  {
   "cell_type": "markdown",
   "id": "443b4119-7c8b-41fa-8d0e-1e77c95bd66e",
   "metadata": {},
   "source": [
    "## 2. Creating Data frame"
   ]
  },
  {
   "cell_type": "code",
   "execution_count": 20,
   "id": "8021d52f-ec9b-496a-b962-ffe7a7a509eb",
   "metadata": {},
   "outputs": [
    {
     "name": "stdout",
     "output_type": "stream",
     "text": [
      "      Column1  Column2\n",
      "Row1        1        2\n",
      "Row2        3        4\n",
      "Row3        5        6\n",
      "      Column1  Column2\n",
      "Row1        1        2\n",
      "Row2        3        4\n",
      "Row3        5        6\n",
      "      R1  R2\n",
      "Row1   1   4\n",
      "Row2   2   5\n",
      "Row3   3   6\n"
     ]
    }
   ],
   "source": [
    "#From a list of lists\n",
    "data=[[1,2],[3,4],[5,6]]\n",
    "df1=pd.DataFrame(data,index=['Row1','Row2','Row3'],columns=['Column1','Column2'])\n",
    "print(df1)\n",
    "#From 2D Numpy array\n",
    "array_data=np.array([[1,2],\n",
    "                   [3,4],\n",
    "                   [5,6]])\n",
    "arr1=pd.DataFrame(array_data,index=['Row1','Row2','Row3'],columns=['Column1','Column2'])\n",
    "print(arr1)\n",
    "#From a dictionary\n",
    "dict_data={'R1':[1,2,3],'R2':[4,5,6]}\n",
    "dict=pd.DataFrame(dict_data,index=['Row1','Row2','Row3'])\n",
    "print(dict)"
   ]
  },
  {
   "cell_type": "code",
   "execution_count": 18,
   "id": "2d845bbc-05f2-454d-82ed-2fd290cd9e27",
   "metadata": {},
   "outputs": [
    {
     "name": "stdout",
     "output_type": "stream",
     "text": [
      "    A  B   C\n",
      "r1  1  5   6\n",
      "r2  2  6  10\n",
      "r3  3  7  11\n"
     ]
    }
   ],
   "source": [
    "#from list of list\n",
    "data_list=[[1,5,6],[2,6,10],[3,7,11]]\n",
    "df_from_list=pd.DataFrame(data_list,columns=[\"A\",\"B\",\"C\"],index=[\"r1\",\"r2\",\"r3\"])\n",
    "print(df_from_list)"
   ]
  },
  {
   "cell_type": "code",
   "execution_count": 42,
   "id": "6e7b06e2-1ea2-4925-bc67-6f4e5b97eaa3",
   "metadata": {},
   "outputs": [
    {
     "name": "stdout",
     "output_type": "stream",
     "text": [
      "    A  B   C\n",
      "r1  1  5   6\n",
      "r2  2  6  10\n",
      "r3  3  7  11\n"
     ]
    }
   ],
   "source": [
    "#from 2D numpy\n",
    "data_numpy=np.array([[1,5,6],[2,6,10],[3,7,11]])\n",
    "df_from_numpy=pd.DataFrame(data_numpy,columns=[\"A\",\"B\",\"C\"],index=[\"r1\",\"r2\",\"r3\"])\n",
    "print(df_from_numpy)"
   ]
  },
  {
   "cell_type": "code",
   "execution_count": 22,
   "id": "502b0202-c7b7-4f2d-a444-be368cce28fa",
   "metadata": {},
   "outputs": [
    {
     "ename": "KeyError",
     "evalue": "('A', 'B', 'C')",
     "output_type": "error",
     "traceback": [
      "\u001b[1;31m---------------------------------------------------------------------------\u001b[0m",
      "\u001b[1;31mKeyError\u001b[0m                                  Traceback (most recent call last)",
      "Cell \u001b[1;32mIn[22], line 8\u001b[0m\n\u001b[0;32m      1\u001b[0m \u001b[38;5;66;03m#from dictionary-output error\u001b[39;00m\n\u001b[0;32m      2\u001b[0m data_dict\u001b[38;5;241m=\u001b[39m{\n\u001b[0;32m      3\u001b[0m     \u001b[38;5;124m\"\u001b[39m\u001b[38;5;124mA\u001b[39m\u001b[38;5;124m\"\u001b[39m:[\u001b[38;5;241m1\u001b[39m,\u001b[38;5;241m2\u001b[39m,\u001b[38;5;241m3\u001b[39m],\n\u001b[0;32m      4\u001b[0m     \u001b[38;5;124m\"\u001b[39m\u001b[38;5;124mB\u001b[39m\u001b[38;5;124m\"\u001b[39m:[\u001b[38;5;241m5\u001b[39m,\u001b[38;5;241m6\u001b[39m,\u001b[38;5;241m7\u001b[39m],\n\u001b[0;32m      5\u001b[0m     \u001b[38;5;124m\"\u001b[39m\u001b[38;5;124mC\u001b[39m\u001b[38;5;124m\"\u001b[39m:[\u001b[38;5;241m6\u001b[39m,\u001b[38;5;241m10\u001b[39m,\u001b[38;5;241m11\u001b[39m]\n\u001b[0;32m      6\u001b[0m }\n\u001b[1;32m----> 8\u001b[0m df\u001b[38;5;241m=\u001b[39mpd\u001b[38;5;241m.\u001b[39mSeries(data_dict[\u001b[38;5;124m\"\u001b[39m\u001b[38;5;124mA\u001b[39m\u001b[38;5;124m\"\u001b[39m,\u001b[38;5;124m\"\u001b[39m\u001b[38;5;124mB\u001b[39m\u001b[38;5;124m\"\u001b[39m,\u001b[38;5;124m\"\u001b[39m\u001b[38;5;124mC\u001b[39m\u001b[38;5;124m\"\u001b[39m],index\u001b[38;5;241m=\u001b[39m[\u001b[38;5;124m\"\u001b[39m\u001b[38;5;124mr1\u001b[39m\u001b[38;5;124m\"\u001b[39m,\u001b[38;5;124m\"\u001b[39m\u001b[38;5;124mr2\u001b[39m\u001b[38;5;124m\"\u001b[39m,\u001b[38;5;124m\"\u001b[39m\u001b[38;5;124mr3\u001b[39m\u001b[38;5;124m\"\u001b[39m])\n\u001b[0;32m      9\u001b[0m \u001b[38;5;28mprint\u001b[39m(df)\n",
      "\u001b[1;31mKeyError\u001b[0m: ('A', 'B', 'C')"
     ]
    }
   ],
   "source": [
    "#from dictionary-output will be error\n",
    "data_dict={\n",
    "    \"A\":[1,2,3],\n",
    "    \"B\":[5,6,7],\n",
    "    \"C\":[6,10,11]\n",
    "}\n",
    "\n",
    "df=pd.Series(data_dict[\"A\",\"B\",\"C\"],index=[\"r1\",\"r2\",\"r3\"])\n",
    "print(df)"
   ]
  },
  {
   "cell_type": "code",
   "execution_count": 30,
   "id": "80e0c492-2f12-4c04-b6a2-f7762c5667e9",
   "metadata": {},
   "outputs": [
    {
     "name": "stdout",
     "output_type": "stream",
     "text": [
      "{'A': [1, 2, 3], 'B': [5, 6, 7], 'C': [6, 10, 11]}\n",
      "r1    1\n",
      "r2    2\n",
      "r3    3\n",
      "dtype: int64\n"
     ]
    }
   ],
   "source": [
    "#to fix above code\n",
    "print(data_dict)\n",
    "df=pd.Series(data_dict['A'],index=['r1','r2','r3'])\n",
    "print(df)\n",
    "#use dataframe to store multiple columns"
   ]
  },
  {
   "cell_type": "code",
   "execution_count": 32,
   "id": "956b596b-1bd1-4089-bef8-2b5d311d3be5",
   "metadata": {},
   "outputs": [
    {
     "name": "stdout",
     "output_type": "stream",
     "text": [
      "    Name  Age     Sex\n",
      "0  Ahmad   30    male\n",
      "1    Ali   25    male\n",
      "2    Ain   23  female\n"
     ]
    }
   ],
   "source": [
    "df2=pd.DataFrame(\n",
    "    {\n",
    "        \"Name\":[\"Ahmad\",\"Ali\",\"Ain\"],\n",
    "        \"Age\":[30,25,23],\n",
    "        \"Sex\":[\"male\",\"male\",\"female\"]\n",
    "    })\n",
    "\n",
    "print(df2)"
   ]
  },
  {
   "cell_type": "code",
   "execution_count": 40,
   "id": "62b1d9bb-9743-4d25-9dda-4ce691c54dae",
   "metadata": {},
   "outputs": [
    {
     "data": {
      "text/plain": [
       "5"
      ]
     },
     "execution_count": 40,
     "metadata": {},
     "output_type": "execute_result"
    }
   ],
   "source": [
    "s_numpy.size"
   ]
  },
  {
   "cell_type": "code",
   "execution_count": 56,
   "id": "dbc2ded9-fdad-4d71-bec2-698fd6eb3e6c",
   "metadata": {},
   "outputs": [
    {
     "data": {
      "text/html": [
       "<div>\n",
       "<style scoped>\n",
       "    .dataframe tbody tr th:only-of-type {\n",
       "        vertical-align: middle;\n",
       "    }\n",
       "\n",
       "    .dataframe tbody tr th {\n",
       "        vertical-align: top;\n",
       "    }\n",
       "\n",
       "    .dataframe thead th {\n",
       "        text-align: right;\n",
       "    }\n",
       "</style>\n",
       "<table border=\"1\" class=\"dataframe\">\n",
       "  <thead>\n",
       "    <tr style=\"text-align: right;\">\n",
       "      <th></th>\n",
       "      <th>Name</th>\n",
       "      <th>Sex</th>\n",
       "    </tr>\n",
       "  </thead>\n",
       "  <tbody>\n",
       "    <tr>\n",
       "      <th>0</th>\n",
       "      <td>Ahmad</td>\n",
       "      <td>male</td>\n",
       "    </tr>\n",
       "    <tr>\n",
       "      <th>1</th>\n",
       "      <td>Ali</td>\n",
       "      <td>male</td>\n",
       "    </tr>\n",
       "    <tr>\n",
       "      <th>2</th>\n",
       "      <td>Ain</td>\n",
       "      <td>female</td>\n",
       "    </tr>\n",
       "  </tbody>\n",
       "</table>\n",
       "</div>"
      ],
      "text/plain": [
       "    Name     Sex\n",
       "0  Ahmad    male\n",
       "1    Ali    male\n",
       "2    Ain  female"
      ]
     },
     "execution_count": 56,
     "metadata": {},
     "output_type": "execute_result"
    }
   ],
   "source": [
    "df2.drop(\"Age\",axis=1)"
   ]
  },
  {
   "cell_type": "code",
   "execution_count": 58,
   "id": "61d297ed-6a07-4a7b-b145-e2e95f2e7f47",
   "metadata": {},
   "outputs": [
    {
     "data": {
      "text/html": [
       "<div>\n",
       "<style scoped>\n",
       "    .dataframe tbody tr th:only-of-type {\n",
       "        vertical-align: middle;\n",
       "    }\n",
       "\n",
       "    .dataframe tbody tr th {\n",
       "        vertical-align: top;\n",
       "    }\n",
       "\n",
       "    .dataframe thead th {\n",
       "        text-align: right;\n",
       "    }\n",
       "</style>\n",
       "<table border=\"1\" class=\"dataframe\">\n",
       "  <thead>\n",
       "    <tr style=\"text-align: right;\">\n",
       "      <th></th>\n",
       "      <th>Name</th>\n",
       "      <th>Age</th>\n",
       "      <th>Sex</th>\n",
       "    </tr>\n",
       "  </thead>\n",
       "  <tbody>\n",
       "    <tr>\n",
       "      <th>1</th>\n",
       "      <td>Ali</td>\n",
       "      <td>25</td>\n",
       "      <td>male</td>\n",
       "    </tr>\n",
       "    <tr>\n",
       "      <th>2</th>\n",
       "      <td>Ain</td>\n",
       "      <td>23</td>\n",
       "      <td>female</td>\n",
       "    </tr>\n",
       "  </tbody>\n",
       "</table>\n",
       "</div>"
      ],
      "text/plain": [
       "  Name  Age     Sex\n",
       "1  Ali   25    male\n",
       "2  Ain   23  female"
      ]
     },
     "execution_count": 58,
     "metadata": {},
     "output_type": "execute_result"
    }
   ],
   "source": [
    "df2.drop(0)   #drop 1st row"
   ]
  },
  {
   "cell_type": "code",
   "execution_count": 62,
   "id": "986f46c1-4392-4c52-b11c-7f6b3800d6eb",
   "metadata": {},
   "outputs": [
    {
     "data": {
      "text/html": [
       "<div>\n",
       "<style scoped>\n",
       "    .dataframe tbody tr th:only-of-type {\n",
       "        vertical-align: middle;\n",
       "    }\n",
       "\n",
       "    .dataframe tbody tr th {\n",
       "        vertical-align: top;\n",
       "    }\n",
       "\n",
       "    .dataframe thead th {\n",
       "        text-align: right;\n",
       "    }\n",
       "</style>\n",
       "<table border=\"1\" class=\"dataframe\">\n",
       "  <thead>\n",
       "    <tr style=\"text-align: right;\">\n",
       "      <th></th>\n",
       "      <th>Name</th>\n",
       "      <th>Age</th>\n",
       "      <th>Sex</th>\n",
       "    </tr>\n",
       "  </thead>\n",
       "  <tbody>\n",
       "    <tr>\n",
       "      <th>1</th>\n",
       "      <td>Ali</td>\n",
       "      <td>25</td>\n",
       "      <td>male</td>\n",
       "    </tr>\n",
       "  </tbody>\n",
       "</table>\n",
       "</div>"
      ],
      "text/plain": [
       "  Name  Age   Sex\n",
       "1  Ali   25  male"
      ]
     },
     "execution_count": 62,
     "metadata": {},
     "output_type": "execute_result"
    }
   ],
   "source": [
    "df2.drop([0,2])   #drop 1st & 3rd row"
   ]
  },
  {
   "cell_type": "code",
   "execution_count": 66,
   "id": "41254555-98e8-4e33-9858-2eefe14f88e7",
   "metadata": {},
   "outputs": [
    {
     "data": {
      "text/html": [
       "<div>\n",
       "<style scoped>\n",
       "    .dataframe tbody tr th:only-of-type {\n",
       "        vertical-align: middle;\n",
       "    }\n",
       "\n",
       "    .dataframe tbody tr th {\n",
       "        vertical-align: top;\n",
       "    }\n",
       "\n",
       "    .dataframe thead th {\n",
       "        text-align: right;\n",
       "    }\n",
       "</style>\n",
       "<table border=\"1\" class=\"dataframe\">\n",
       "  <thead>\n",
       "    <tr style=\"text-align: right;\">\n",
       "      <th></th>\n",
       "      <th>Sex</th>\n",
       "    </tr>\n",
       "  </thead>\n",
       "  <tbody>\n",
       "    <tr>\n",
       "      <th>0</th>\n",
       "      <td>male</td>\n",
       "    </tr>\n",
       "    <tr>\n",
       "      <th>1</th>\n",
       "      <td>male</td>\n",
       "    </tr>\n",
       "    <tr>\n",
       "      <th>2</th>\n",
       "      <td>female</td>\n",
       "    </tr>\n",
       "  </tbody>\n",
       "</table>\n",
       "</div>"
      ],
      "text/plain": [
       "      Sex\n",
       "0    male\n",
       "1    male\n",
       "2  female"
      ]
     },
     "execution_count": 66,
     "metadata": {},
     "output_type": "execute_result"
    }
   ],
   "source": [
    "df2.drop([\"Name\",\"Age\"],axis=1)"
   ]
  },
  {
   "cell_type": "code",
   "execution_count": 70,
   "id": "c34fee8c-2048-4eb8-b5c5-702df7a6873e",
   "metadata": {},
   "outputs": [
    {
     "name": "stdout",
     "output_type": "stream",
     "text": [
      "<class 'pandas.core.frame.DataFrame'>\n",
      "RangeIndex: 3 entries, 0 to 2\n",
      "Data columns (total 3 columns):\n",
      " #   Column  Non-Null Count  Dtype \n",
      "---  ------  --------------  ----- \n",
      " 0   Name    3 non-null      object\n",
      " 1   Age     3 non-null      int64 \n",
      " 2   Sex     3 non-null      object\n",
      "dtypes: int64(1), object(2)\n",
      "memory usage: 204.0+ bytes\n"
     ]
    }
   ],
   "source": [
    "df2.info()   "
   ]
  },
  {
   "cell_type": "code",
   "execution_count": 72,
   "id": "c097e76c-9fae-4155-94ec-5c49669abde7",
   "metadata": {},
   "outputs": [
    {
     "data": {
      "text/plain": [
       "(3, 3)"
      ]
     },
     "execution_count": 72,
     "metadata": {},
     "output_type": "execute_result"
    }
   ],
   "source": [
    "df2.shape"
   ]
  },
  {
   "cell_type": "code",
   "execution_count": 78,
   "id": "b5f92cc5-d460-4c7e-bdfa-37422749374b",
   "metadata": {},
   "outputs": [
    {
     "data": {
      "text/html": [
       "<div>\n",
       "<style scoped>\n",
       "    .dataframe tbody tr th:only-of-type {\n",
       "        vertical-align: middle;\n",
       "    }\n",
       "\n",
       "    .dataframe tbody tr th {\n",
       "        vertical-align: top;\n",
       "    }\n",
       "\n",
       "    .dataframe thead th {\n",
       "        text-align: right;\n",
       "    }\n",
       "</style>\n",
       "<table border=\"1\" class=\"dataframe\">\n",
       "  <thead>\n",
       "    <tr style=\"text-align: right;\">\n",
       "      <th></th>\n",
       "      <th>Name</th>\n",
       "      <th>Age</th>\n",
       "      <th>Sex</th>\n",
       "    </tr>\n",
       "  </thead>\n",
       "  <tbody>\n",
       "    <tr>\n",
       "      <th>0</th>\n",
       "      <td>Ahmad</td>\n",
       "      <td>30</td>\n",
       "      <td>male</td>\n",
       "    </tr>\n",
       "    <tr>\n",
       "      <th>1</th>\n",
       "      <td>Ali</td>\n",
       "      <td>25</td>\n",
       "      <td>male</td>\n",
       "    </tr>\n",
       "  </tbody>\n",
       "</table>\n",
       "</div>"
      ],
      "text/plain": [
       "    Name  Age   Sex\n",
       "0  Ahmad   30  male\n",
       "1    Ali   25  male"
      ]
     },
     "execution_count": 78,
     "metadata": {},
     "output_type": "execute_result"
    }
   ],
   "source": [
    "df2.head(2)"
   ]
  },
  {
   "cell_type": "code",
   "execution_count": 80,
   "id": "812a6be6-81e4-428b-b80c-38211a5450d0",
   "metadata": {},
   "outputs": [
    {
     "data": {
      "text/html": [
       "<div>\n",
       "<style scoped>\n",
       "    .dataframe tbody tr th:only-of-type {\n",
       "        vertical-align: middle;\n",
       "    }\n",
       "\n",
       "    .dataframe tbody tr th {\n",
       "        vertical-align: top;\n",
       "    }\n",
       "\n",
       "    .dataframe thead th {\n",
       "        text-align: right;\n",
       "    }\n",
       "</style>\n",
       "<table border=\"1\" class=\"dataframe\">\n",
       "  <thead>\n",
       "    <tr style=\"text-align: right;\">\n",
       "      <th></th>\n",
       "      <th>Name</th>\n",
       "      <th>Age</th>\n",
       "      <th>Sex</th>\n",
       "    </tr>\n",
       "  </thead>\n",
       "  <tbody>\n",
       "    <tr>\n",
       "      <th>1</th>\n",
       "      <td>Ali</td>\n",
       "      <td>25</td>\n",
       "      <td>male</td>\n",
       "    </tr>\n",
       "    <tr>\n",
       "      <th>2</th>\n",
       "      <td>Ain</td>\n",
       "      <td>23</td>\n",
       "      <td>female</td>\n",
       "    </tr>\n",
       "  </tbody>\n",
       "</table>\n",
       "</div>"
      ],
      "text/plain": [
       "  Name  Age     Sex\n",
       "1  Ali   25    male\n",
       "2  Ain   23  female"
      ]
     },
     "execution_count": 80,
     "metadata": {},
     "output_type": "execute_result"
    }
   ],
   "source": [
    "df2.tail(2)"
   ]
  },
  {
   "cell_type": "code",
   "execution_count": null,
   "id": "4a096574-afb7-486a-8dc2-e50f41e0b5f1",
   "metadata": {},
   "outputs": [],
   "source": [
    "#create form dictionary-need to key in key & value pair\n",
    "\n",
    "dict={\"a\":10,\"b\":20,\"c\":30,\"d\":40,\"e\":50}\n",
    "s_dict=pd.Series(dict)\n",
    "print(s_dict)"
   ]
  },
  {
   "cell_type": "code",
   "execution_count": 82,
   "id": "69b05546-345f-4b48-89ea-d90acc725611",
   "metadata": {},
   "outputs": [
    {
     "data": {
      "text/plain": [
       "20"
      ]
     },
     "execution_count": 82,
     "metadata": {},
     "output_type": "execute_result"
    }
   ],
   "source": [
    "s_dict[\"b\"]"
   ]
  },
  {
   "cell_type": "code",
   "execution_count": 84,
   "id": "6931c245-2dc2-4582-958b-273ecaf67746",
   "metadata": {},
   "outputs": [
    {
     "data": {
      "text/plain": [
       "20"
      ]
     },
     "execution_count": 84,
     "metadata": {},
     "output_type": "execute_result"
    }
   ],
   "source": [
    "s_dict.iloc[1]"
   ]
  },
  {
   "cell_type": "code",
   "execution_count": 90,
   "id": "33470365-e444-4c1d-970c-87c4f64c1062",
   "metadata": {},
   "outputs": [
    {
     "name": "stderr",
     "output_type": "stream",
     "text": [
      "C:\\Users\\PC 14\\AppData\\Local\\Temp\\ipykernel_6288\\1216125954.py:1: FutureWarning: Series.__getitem__ treating keys as positions is deprecated. In a future version, integer keys will always be treated as labels (consistent with DataFrame behavior). To access a value by position, use `ser.iloc[pos]`\n",
      "  s_dict[[1,2,3]]\n"
     ]
    },
    {
     "data": {
      "text/plain": [
       "b    20\n",
       "c    30\n",
       "d    40\n",
       "dtype: int64"
      ]
     },
     "execution_count": 90,
     "metadata": {},
     "output_type": "execute_result"
    }
   ],
   "source": [
    "s_dict[[1,2,3]]"
   ]
  },
  {
   "cell_type": "code",
   "execution_count": 92,
   "id": "2a896b22-7853-4db8-b430-5562f3233b8c",
   "metadata": {},
   "outputs": [
    {
     "data": {
      "text/plain": [
       "c    30\n",
       "d    40\n",
       "e    50\n",
       "dtype: int64"
      ]
     },
     "execution_count": 92,
     "metadata": {},
     "output_type": "execute_result"
    }
   ],
   "source": [
    "s_dict[s_dict>20]"
   ]
  },
  {
   "cell_type": "code",
   "execution_count": 94,
   "id": "7fd2ac0a-9c6c-496b-a290-a95cf7a23185",
   "metadata": {},
   "outputs": [
    {
     "name": "stdout",
     "output_type": "stream",
     "text": [
      "    A  B   C\n",
      "r1  1  5   6\n",
      "r2  2  6  10\n",
      "r3  3  7  11\n"
     ]
    }
   ],
   "source": [
    "#from dictionary\n",
    "data_dict={\n",
    "    \"A\":[1,2,3],\n",
    "    \"B\":[5,6,7],\n",
    "    \"C\":[6,10,11]\n",
    "}\n",
    "\n",
    "df=pd.DataFrame(data_dict,index=[\"r1\",\"r2\",\"r3\"])\n",
    "print(df)"
   ]
  },
  {
   "cell_type": "code",
   "execution_count": 96,
   "id": "2f89f6d4-5138-4eab-8861-585e7f729682",
   "metadata": {},
   "outputs": [
    {
     "data": {
      "text/plain": [
       "r1    1\n",
       "r2    2\n",
       "r3    3\n",
       "Name: A, dtype: int64"
      ]
     },
     "execution_count": 96,
     "metadata": {},
     "output_type": "execute_result"
    }
   ],
   "source": [
    "df[\"A\"]"
   ]
  },
  {
   "cell_type": "code",
   "execution_count": 98,
   "id": "e69fbfde-00b0-4e9b-b46b-f7f5a87e5a33",
   "metadata": {},
   "outputs": [
    {
     "data": {
      "text/html": [
       "<div>\n",
       "<style scoped>\n",
       "    .dataframe tbody tr th:only-of-type {\n",
       "        vertical-align: middle;\n",
       "    }\n",
       "\n",
       "    .dataframe tbody tr th {\n",
       "        vertical-align: top;\n",
       "    }\n",
       "\n",
       "    .dataframe thead th {\n",
       "        text-align: right;\n",
       "    }\n",
       "</style>\n",
       "<table border=\"1\" class=\"dataframe\">\n",
       "  <thead>\n",
       "    <tr style=\"text-align: right;\">\n",
       "      <th></th>\n",
       "      <th>A</th>\n",
       "      <th>B</th>\n",
       "    </tr>\n",
       "  </thead>\n",
       "  <tbody>\n",
       "    <tr>\n",
       "      <th>r1</th>\n",
       "      <td>1</td>\n",
       "      <td>5</td>\n",
       "    </tr>\n",
       "    <tr>\n",
       "      <th>r2</th>\n",
       "      <td>2</td>\n",
       "      <td>6</td>\n",
       "    </tr>\n",
       "    <tr>\n",
       "      <th>r3</th>\n",
       "      <td>3</td>\n",
       "      <td>7</td>\n",
       "    </tr>\n",
       "  </tbody>\n",
       "</table>\n",
       "</div>"
      ],
      "text/plain": [
       "    A  B\n",
       "r1  1  5\n",
       "r2  2  6\n",
       "r3  3  7"
      ]
     },
     "execution_count": 98,
     "metadata": {},
     "output_type": "execute_result"
    }
   ],
   "source": [
    "df[[\"A\",\"B\"]]"
   ]
  },
  {
   "cell_type": "code",
   "execution_count": 100,
   "id": "8a8baeda-2c7d-4442-af20-2d179bf4cd9d",
   "metadata": {},
   "outputs": [
    {
     "data": {
      "text/plain": [
       "A    1\n",
       "B    5\n",
       "C    6\n",
       "Name: r1, dtype: int64"
      ]
     },
     "execution_count": 100,
     "metadata": {},
     "output_type": "execute_result"
    }
   ],
   "source": [
    "df.loc[\"r1\"]    #to call row need loc, if column no need loc"
   ]
  },
  {
   "cell_type": "code",
   "execution_count": 102,
   "id": "63b50e6f-fd58-499c-8c61-6b90b99b0da0",
   "metadata": {},
   "outputs": [
    {
     "data": {
      "text/plain": [
       "6"
      ]
     },
     "execution_count": 102,
     "metadata": {},
     "output_type": "execute_result"
    }
   ],
   "source": [
    "df.iloc[1,1]    # to call the integer "
   ]
  },
  {
   "cell_type": "code",
   "execution_count": 104,
   "id": "1149d48e-7829-44a2-b558-c69785561d48",
   "metadata": {},
   "outputs": [
    {
     "data": {
      "text/plain": [
       "r1     6\n",
       "r2    10\n",
       "r3    11\n",
       "Name: C, dtype: int64"
      ]
     },
     "execution_count": 104,
     "metadata": {},
     "output_type": "execute_result"
    }
   ],
   "source": [
    "df.iloc[:,-1]    #all row, last column"
   ]
  },
  {
   "cell_type": "code",
   "execution_count": 106,
   "id": "a2e46c74-c75d-46d1-8e33-6e43d8341908",
   "metadata": {},
   "outputs": [
    {
     "data": {
      "text/plain": [
       "B     7\n",
       "C    11\n",
       "Name: r3, dtype: int64"
      ]
     },
     "execution_count": 106,
     "metadata": {},
     "output_type": "execute_result"
    }
   ],
   "source": [
    "df.iloc[-1,1:]  "
   ]
  },
  {
   "cell_type": "markdown",
   "id": "a47ac39f-54c0-40cf-adb4-805002780d9e",
   "metadata": {},
   "source": [
    "## 3. Arithmetric"
   ]
  },
  {
   "cell_type": "code",
   "execution_count": 42,
   "id": "0db2dd0e-fbfe-4a67-a3e2-c8ee5ce135cf",
   "metadata": {},
   "outputs": [
    {
     "name": "stdout",
     "output_type": "stream",
     "text": [
      "a    5\n",
      "b    7\n",
      "c    9\n",
      "dtype: int64\n",
      "     A   B\n",
      "r1   8  14\n",
      "r2  10  16\n",
      "r3  12  18\n",
      "     A   B\n",
      "r1  11  14\n",
      "r2  12  15\n",
      "r3  13  16\n",
      "    A   B\n",
      "r1  2   8\n",
      "r2  4  10\n",
      "r3  6  12\n"
     ]
    }
   ],
   "source": [
    "#Arithmetic on panda series-applied element wise\n",
    "s1=pd.Series([1,2,3],index=['a','b','c'])\n",
    "s2=pd.Series([4,5,6],index=['a','b','c'])\n",
    "print(s1+s2)\n",
    "\n",
    "#Arithmetic on panda dataframes-applied element-wise across rows & columns\n",
    "df1=pd.DataFrame({\n",
    "    'A':[1,2,3],\n",
    "    'B':[4,5,6]},\n",
    "    index=['r1','r2','r3'])\n",
    "df2=pd.DataFrame({\n",
    "    'A':[7,8,9],\n",
    "    'B':[10,11,12]},\n",
    "    index=['r1','r2','r3'])\n",
    "print(df1+df2)\n",
    "\n",
    "#Arithmetic with scalars\n",
    "print(df1+10)\n",
    "print(df1*2)"
   ]
  },
  {
   "cell_type": "code",
   "execution_count": 111,
   "id": "809693c4-a578-4ec2-a208-a21dcc42adeb",
   "metadata": {},
   "outputs": [
    {
     "name": "stdout",
     "output_type": "stream",
     "text": [
      "0    11\n",
      "1    22\n",
      "2    33\n",
      "3    44\n",
      "dtype: int64\n",
      "0     10\n",
      "1     40\n",
      "2     90\n",
      "3    160\n",
      "dtype: int64\n"
     ]
    }
   ],
   "source": [
    "s1=pd.Series([1,2,3,4])\n",
    "s2=pd.Series([10,20,30,40])\n",
    "\n",
    "add_r=s1+s2\n",
    "print(add_r)\n",
    "\n",
    "mult_r=s1*s2\n",
    "print(mult_r)"
   ]
  },
  {
   "cell_type": "code",
   "execution_count": 123,
   "id": "b083590c-fa07-4deb-ad10-ee544cf37aaf",
   "metadata": {},
   "outputs": [
    {
     "name": "stdout",
     "output_type": "stream",
     "text": [
      "       A     B\n",
      "r1   NaN   NaN\n",
      "r2  12.0  34.0\n",
      "r3   NaN   NaN\n"
     ]
    }
   ],
   "source": [
    "df1=pd.DataFrame({\"A\":[1,2],\"B\":[3,4]},index=[\"r1\",\"r2\"])\n",
    "df2=pd.DataFrame({\"A\":[10,20],\"B\":[30,40]},index=[\"r2\",\"r3\"])\n",
    "\n",
    "add_r=df1+df2\n",
    "print(add_r)"
   ]
  },
  {
   "cell_type": "code",
   "execution_count": 127,
   "id": "3426b504-4dc9-4717-822d-ee3c0c99435b",
   "metadata": {},
   "outputs": [
    {
     "name": "stdout",
     "output_type": "stream",
     "text": [
      "   A\n",
      "0  4\n",
      "1  8\n"
     ]
    }
   ],
   "source": [
    "df=pd.DataFrame({\"A\":[1,2]})\n",
    "s=pd.Series([1,2])\n",
    "\n",
    "mult_r=4*df\n",
    "print(mult_r)"
   ]
  },
  {
   "cell_type": "code",
   "execution_count": 131,
   "id": "cbc897f8-fece-4dec-a853-529dda95e3dc",
   "metadata": {},
   "outputs": [
    {
     "name": "stdout",
     "output_type": "stream",
     "text": [
      "   A  B\n",
      "0  7  4\n",
      "1  8  5\n",
      "2  9  6\n"
     ]
    }
   ],
   "source": [
    "#create dataframe with duplicate column\n",
    "\n",
    "data={\"A\":[1,2,3],\"B\":[4,5,6],\"A\":[7,8,9]}    #new A will overwrite the old A\n",
    "df=pd.DataFrame(data)\n",
    "print(df)"
   ]
  },
  {
   "cell_type": "code",
   "execution_count": 137,
   "id": "9c108e5f-159e-473a-83ab-aeea2bc9cd87",
   "metadata": {},
   "outputs": [
    {
     "name": "stdout",
     "output_type": "stream",
     "text": [
      "   A  B   A\n",
      "0  1  5   9\n",
      "1  2  6  10\n",
      "2  3  7  11\n",
      "3  4  8  12\n",
      "   A   A\n",
      "0  1   9\n",
      "1  2  10\n",
      "2  3  11\n",
      "3  4  12\n"
     ]
    }
   ],
   "source": [
    "#Create from numpy\n",
    "data_array=np.array([[1,5,9],[2,6,10],[3,7,11],[4,8,12]])\n",
    "df=pd.DataFrame(data_array,columns=[\"A\",\"B\",\"A\"])    #can create all column even has same column name\n",
    "print(df)\n",
    "print(df[\"A\"])   #run all column name"
   ]
  },
  {
   "cell_type": "code",
   "execution_count": 153,
   "id": "4e960b97-ce77-4486-961f-e5aa3d5d77bd",
   "metadata": {},
   "outputs": [
    {
     "name": "stdout",
     "output_type": "stream",
     "text": [
      "    A  B   A\n",
      "r1  1  5   9\n",
      "r1  2  6  10\n",
      "r2  3  7  11\n",
      "r3  4  8  12\n",
      "    A   A\n",
      "r1  1   9\n",
      "r1  2  10\n",
      "r2  3  11\n",
      "r3  4  12\n",
      "    A  B   A\n",
      "r1  1  5   9\n",
      "r1  2  6  10\n",
      "    A   B   A\n",
      "r1  2  10  18\n",
      "r1  4  12  20\n"
     ]
    }
   ],
   "source": [
    "#Create from numpy\n",
    "data_array=np.array([[1,5,9],[2,6,10],[3,7,11],[4,8,12]])\n",
    "df=pd.DataFrame(data_array,columns=[\"A\",\"B\",\"A\"],index=[\"r1\",\"r1\",\"r2\",\"r3\"])    \n",
    "print(df)\n",
    "print(df[\"A\"])\n",
    "print(df.loc[\"r1\"])\n",
    "print(df.loc[\"r1\"]*2)\n"
   ]
  },
  {
   "cell_type": "markdown",
   "id": "8833859d-b5e9-4ecf-814b-2a73c5090339",
   "metadata": {},
   "source": [
    "## 4. Duplicates"
   ]
  },
  {
   "cell_type": "code",
   "execution_count": 59,
   "id": "ab8c360c-b659-457d-9dd1-63f0fe28d5c4",
   "metadata": {},
   "outputs": [
    {
     "name": "stdout",
     "output_type": "stream",
     "text": [
      "    A  B\n",
      "r1  1  5\n",
      "r2  2  6\n",
      "r1  3  7\n",
      "r4  4  8\n",
      "    A  B\n",
      "r1  1  5\n",
      "r1  3  7\n",
      "[False False  True False]\n",
      "True\n",
      "    A  B\n",
      "r1  1  5\n",
      "r2  2  6\n",
      "r4  4  8\n"
     ]
    }
   ],
   "source": [
    "#Duplicate labels\n",
    "df=pd.DataFrame({\n",
    "    'A':[1,2,3,4],\n",
    "    'B':[5,6,7,8]},index=['r1','r2','r1','r4'])\n",
    "print(df)\n",
    "\n",
    "#Access rows with duplicate labels\n",
    "print(df.loc['r1'])\n",
    "\n",
    "#Check for duplicate index labels\n",
    "print(df.index.duplicated())\n",
    "\n",
    "#Check if any duplicate label exist\n",
    "print(df.index.has_duplicates)\n",
    "\n",
    "#Remove duplicate rows\n",
    "print(df[~df.index.duplicated()])"
   ]
  },
  {
   "cell_type": "code",
   "execution_count": 155,
   "id": "03485186-d51b-4c58-9f78-ec61ead85656",
   "metadata": {},
   "outputs": [
    {
     "data": {
      "text/plain": [
       "array([False,  True, False, False])"
      ]
     },
     "execution_count": 155,
     "metadata": {},
     "output_type": "execute_result"
    }
   ],
   "source": [
    "df.index.duplicated()"
   ]
  },
  {
   "cell_type": "code",
   "execution_count": 159,
   "id": "f2412ce0-b768-46fa-a105-c963bcb93159",
   "metadata": {},
   "outputs": [
    {
     "data": {
      "text/plain": [
       "array([False, False,  True])"
      ]
     },
     "execution_count": 159,
     "metadata": {},
     "output_type": "execute_result"
    }
   ],
   "source": [
    "df.columns.duplicated()"
   ]
  },
  {
   "cell_type": "code",
   "execution_count": 161,
   "id": "64ea7f05-9e14-4c46-b4e0-91c3981e05dc",
   "metadata": {},
   "outputs": [
    {
     "data": {
      "text/html": [
       "<div>\n",
       "<style scoped>\n",
       "    .dataframe tbody tr th:only-of-type {\n",
       "        vertical-align: middle;\n",
       "    }\n",
       "\n",
       "    .dataframe tbody tr th {\n",
       "        vertical-align: top;\n",
       "    }\n",
       "\n",
       "    .dataframe thead th {\n",
       "        text-align: right;\n",
       "    }\n",
       "</style>\n",
       "<table border=\"1\" class=\"dataframe\">\n",
       "  <thead>\n",
       "    <tr style=\"text-align: right;\">\n",
       "      <th></th>\n",
       "      <th>A</th>\n",
       "      <th>B</th>\n",
       "      <th>A</th>\n",
       "    </tr>\n",
       "  </thead>\n",
       "  <tbody>\n",
       "    <tr>\n",
       "      <th>r1</th>\n",
       "      <td>1</td>\n",
       "      <td>5</td>\n",
       "      <td>9</td>\n",
       "    </tr>\n",
       "    <tr>\n",
       "      <th>r2</th>\n",
       "      <td>3</td>\n",
       "      <td>7</td>\n",
       "      <td>11</td>\n",
       "    </tr>\n",
       "    <tr>\n",
       "      <th>r3</th>\n",
       "      <td>4</td>\n",
       "      <td>8</td>\n",
       "      <td>12</td>\n",
       "    </tr>\n",
       "  </tbody>\n",
       "</table>\n",
       "</div>"
      ],
      "text/plain": [
       "    A  B   A\n",
       "r1  1  5   9\n",
       "r2  3  7  11\n",
       "r3  4  8  12"
      ]
     },
     "execution_count": 161,
     "metadata": {},
     "output_type": "execute_result"
    }
   ],
   "source": [
    "df[~df.index.duplicated()]   #remove the duplicated "
   ]
  },
  {
   "cell_type": "code",
   "execution_count": 167,
   "id": "b97fc90b-e818-4e9d-a65a-29b544fcf4c1",
   "metadata": {},
   "outputs": [
    {
     "data": {
      "text/html": [
       "<div>\n",
       "<style scoped>\n",
       "    .dataframe tbody tr th:only-of-type {\n",
       "        vertical-align: middle;\n",
       "    }\n",
       "\n",
       "    .dataframe tbody tr th {\n",
       "        vertical-align: top;\n",
       "    }\n",
       "\n",
       "    .dataframe thead th {\n",
       "        text-align: right;\n",
       "    }\n",
       "</style>\n",
       "<table border=\"1\" class=\"dataframe\">\n",
       "  <thead>\n",
       "    <tr style=\"text-align: right;\">\n",
       "      <th></th>\n",
       "      <th>r1</th>\n",
       "      <th>r1</th>\n",
       "      <th>r2</th>\n",
       "      <th>r3</th>\n",
       "    </tr>\n",
       "  </thead>\n",
       "  <tbody>\n",
       "    <tr>\n",
       "      <th>A</th>\n",
       "      <td>1</td>\n",
       "      <td>2</td>\n",
       "      <td>3</td>\n",
       "      <td>4</td>\n",
       "    </tr>\n",
       "    <tr>\n",
       "      <th>B</th>\n",
       "      <td>5</td>\n",
       "      <td>6</td>\n",
       "      <td>7</td>\n",
       "      <td>8</td>\n",
       "    </tr>\n",
       "    <tr>\n",
       "      <th>A</th>\n",
       "      <td>9</td>\n",
       "      <td>10</td>\n",
       "      <td>11</td>\n",
       "      <td>12</td>\n",
       "    </tr>\n",
       "  </tbody>\n",
       "</table>\n",
       "</div>"
      ],
      "text/plain": [
       "   r1  r1  r2  r3\n",
       "A   1   2   3   4\n",
       "B   5   6   7   8\n",
       "A   9  10  11  12"
      ]
     },
     "execution_count": 167,
     "metadata": {},
     "output_type": "execute_result"
    }
   ],
   "source": [
    "df.T"
   ]
  },
  {
   "cell_type": "code",
   "execution_count": 165,
   "id": "222fe89e-8e89-4f11-84ae-8a132046873d",
   "metadata": {},
   "outputs": [
    {
     "data": {
      "text/html": [
       "<div>\n",
       "<style scoped>\n",
       "    .dataframe tbody tr th:only-of-type {\n",
       "        vertical-align: middle;\n",
       "    }\n",
       "\n",
       "    .dataframe tbody tr th {\n",
       "        vertical-align: top;\n",
       "    }\n",
       "\n",
       "    .dataframe thead th {\n",
       "        text-align: right;\n",
       "    }\n",
       "</style>\n",
       "<table border=\"1\" class=\"dataframe\">\n",
       "  <thead>\n",
       "    <tr style=\"text-align: right;\">\n",
       "      <th></th>\n",
       "      <th>A</th>\n",
       "      <th>B</th>\n",
       "    </tr>\n",
       "  </thead>\n",
       "  <tbody>\n",
       "    <tr>\n",
       "      <th>r1</th>\n",
       "      <td>1</td>\n",
       "      <td>5</td>\n",
       "    </tr>\n",
       "    <tr>\n",
       "      <th>r1</th>\n",
       "      <td>2</td>\n",
       "      <td>6</td>\n",
       "    </tr>\n",
       "    <tr>\n",
       "      <th>r2</th>\n",
       "      <td>3</td>\n",
       "      <td>7</td>\n",
       "    </tr>\n",
       "    <tr>\n",
       "      <th>r3</th>\n",
       "      <td>4</td>\n",
       "      <td>8</td>\n",
       "    </tr>\n",
       "  </tbody>\n",
       "</table>\n",
       "</div>"
      ],
      "text/plain": [
       "    A  B\n",
       "r1  1  5\n",
       "r1  2  6\n",
       "r2  3  7\n",
       "r3  4  8"
      ]
     },
     "execution_count": 165,
     "metadata": {},
     "output_type": "execute_result"
    }
   ],
   "source": [
    "df.T[~df.T.index.duplicated()].T    #cannot use column only, need transpose(T)"
   ]
  },
  {
   "cell_type": "markdown",
   "id": "01a6f956-875b-4931-a662-53c6f6ccb4bf",
   "metadata": {},
   "source": [
    "## 5. Descriptive statistics"
   ]
  },
  {
   "cell_type": "code",
   "execution_count": 169,
   "id": "945be7d3-eeb8-4a11-a35d-a5c902508a00",
   "metadata": {},
   "outputs": [
    {
     "data": {
      "text/html": [
       "<div>\n",
       "<style scoped>\n",
       "    .dataframe tbody tr th:only-of-type {\n",
       "        vertical-align: middle;\n",
       "    }\n",
       "\n",
       "    .dataframe tbody tr th {\n",
       "        vertical-align: top;\n",
       "    }\n",
       "\n",
       "    .dataframe thead th {\n",
       "        text-align: right;\n",
       "    }\n",
       "</style>\n",
       "<table border=\"1\" class=\"dataframe\">\n",
       "  <thead>\n",
       "    <tr style=\"text-align: right;\">\n",
       "      <th></th>\n",
       "      <th>A</th>\n",
       "      <th>B</th>\n",
       "      <th>A</th>\n",
       "    </tr>\n",
       "  </thead>\n",
       "  <tbody>\n",
       "    <tr>\n",
       "      <th>count</th>\n",
       "      <td>4.000000</td>\n",
       "      <td>4.000000</td>\n",
       "      <td>4.000000</td>\n",
       "    </tr>\n",
       "    <tr>\n",
       "      <th>mean</th>\n",
       "      <td>2.500000</td>\n",
       "      <td>6.500000</td>\n",
       "      <td>10.500000</td>\n",
       "    </tr>\n",
       "    <tr>\n",
       "      <th>std</th>\n",
       "      <td>1.290994</td>\n",
       "      <td>1.290994</td>\n",
       "      <td>1.290994</td>\n",
       "    </tr>\n",
       "    <tr>\n",
       "      <th>min</th>\n",
       "      <td>1.000000</td>\n",
       "      <td>5.000000</td>\n",
       "      <td>9.000000</td>\n",
       "    </tr>\n",
       "    <tr>\n",
       "      <th>25%</th>\n",
       "      <td>1.750000</td>\n",
       "      <td>5.750000</td>\n",
       "      <td>9.750000</td>\n",
       "    </tr>\n",
       "    <tr>\n",
       "      <th>50%</th>\n",
       "      <td>2.500000</td>\n",
       "      <td>6.500000</td>\n",
       "      <td>10.500000</td>\n",
       "    </tr>\n",
       "    <tr>\n",
       "      <th>75%</th>\n",
       "      <td>3.250000</td>\n",
       "      <td>7.250000</td>\n",
       "      <td>11.250000</td>\n",
       "    </tr>\n",
       "    <tr>\n",
       "      <th>max</th>\n",
       "      <td>4.000000</td>\n",
       "      <td>8.000000</td>\n",
       "      <td>12.000000</td>\n",
       "    </tr>\n",
       "  </tbody>\n",
       "</table>\n",
       "</div>"
      ],
      "text/plain": [
       "              A         B          A\n",
       "count  4.000000  4.000000   4.000000\n",
       "mean   2.500000  6.500000  10.500000\n",
       "std    1.290994  1.290994   1.290994\n",
       "min    1.000000  5.000000   9.000000\n",
       "25%    1.750000  5.750000   9.750000\n",
       "50%    2.500000  6.500000  10.500000\n",
       "75%    3.250000  7.250000  11.250000\n",
       "max    4.000000  8.000000  12.000000"
      ]
     },
     "execution_count": 169,
     "metadata": {},
     "output_type": "execute_result"
    }
   ],
   "source": [
    "df.describe()"
   ]
  },
  {
   "cell_type": "code",
   "execution_count": 171,
   "id": "7f70becf-9079-4add-ae77-2e498573ea77",
   "metadata": {},
   "outputs": [
    {
     "data": {
      "text/plain": [
       "A     2.5\n",
       "B     6.5\n",
       "A    10.5\n",
       "dtype: float64"
      ]
     },
     "execution_count": 171,
     "metadata": {},
     "output_type": "execute_result"
    }
   ],
   "source": [
    "df.median()"
   ]
  },
  {
   "cell_type": "code",
   "execution_count": 173,
   "id": "963dd7b2-332d-4ac3-8e78-a33b80b76eff",
   "metadata": {},
   "outputs": [
    {
     "data": {
      "text/plain": [
       "A    4\n",
       "B    4\n",
       "A    4\n",
       "dtype: int64"
      ]
     },
     "execution_count": 173,
     "metadata": {},
     "output_type": "execute_result"
    }
   ],
   "source": [
    "df.count()"
   ]
  },
  {
   "cell_type": "code",
   "execution_count": 177,
   "id": "fdde3a47-ff29-409f-ba49-822f3325a49a",
   "metadata": {},
   "outputs": [
    {
     "data": {
      "text/plain": [
       "4"
      ]
     },
     "execution_count": 177,
     "metadata": {},
     "output_type": "execute_result"
    }
   ],
   "source": [
    "df[\"B\"].nunique()"
   ]
  },
  {
   "cell_type": "code",
   "execution_count": 181,
   "id": "30022281-a24a-40f8-b23e-e775d86af30e",
   "metadata": {},
   "outputs": [
    {
     "data": {
      "text/plain": [
       "0    False\n",
       "1     True\n",
       "2    False\n",
       "3     True\n",
       "4    False\n",
       "dtype: bool"
      ]
     },
     "execution_count": 181,
     "metadata": {},
     "output_type": "execute_result"
    }
   ],
   "source": [
    "data=pd.Series([10,20,30,40,50])\n",
    "data.isin([20,40])"
   ]
  },
  {
   "cell_type": "code",
   "execution_count": 193,
   "id": "3d5271e7-2345-4208-abf9-d72cf0a37e9d",
   "metadata": {},
   "outputs": [
    {
     "data": {
      "text/plain": [
       "r0    False\n",
       "r1    False\n",
       "r2    False\n",
       "r3    False\n",
       "Name: A, dtype: bool"
      ]
     },
     "execution_count": 193,
     "metadata": {},
     "output_type": "execute_result"
    }
   ],
   "source": [
    "data_array=np.array([[1,5,9],[2,6,10],[3,7,11],[4,8,12]])\n",
    "df=pd.DataFrame(data_array,columns=[\"A\",\"B\",\"C\"],index=[\"r0\",\"r1\",\"r2\",\"r3\"])    \n",
    "df[\"A\"].isin([5])"
   ]
  },
  {
   "cell_type": "code",
   "execution_count": 197,
   "id": "866f2056-0ab2-4d02-82e7-7c7119d1f75b",
   "metadata": {},
   "outputs": [
    {
     "data": {
      "text/html": [
       "<div>\n",
       "<style scoped>\n",
       "    .dataframe tbody tr th:only-of-type {\n",
       "        vertical-align: middle;\n",
       "    }\n",
       "\n",
       "    .dataframe tbody tr th {\n",
       "        vertical-align: top;\n",
       "    }\n",
       "\n",
       "    .dataframe thead th {\n",
       "        text-align: right;\n",
       "    }\n",
       "</style>\n",
       "<table border=\"1\" class=\"dataframe\">\n",
       "  <thead>\n",
       "    <tr style=\"text-align: right;\">\n",
       "      <th></th>\n",
       "      <th>A</th>\n",
       "      <th>B</th>\n",
       "    </tr>\n",
       "  </thead>\n",
       "  <tbody>\n",
       "    <tr>\n",
       "      <th>r0</th>\n",
       "      <td>False</td>\n",
       "      <td>True</td>\n",
       "    </tr>\n",
       "    <tr>\n",
       "      <th>r1</th>\n",
       "      <td>False</td>\n",
       "      <td>False</td>\n",
       "    </tr>\n",
       "    <tr>\n",
       "      <th>r2</th>\n",
       "      <td>False</td>\n",
       "      <td>False</td>\n",
       "    </tr>\n",
       "    <tr>\n",
       "      <th>r3</th>\n",
       "      <td>False</td>\n",
       "      <td>False</td>\n",
       "    </tr>\n",
       "  </tbody>\n",
       "</table>\n",
       "</div>"
      ],
      "text/plain": [
       "        A      B\n",
       "r0  False   True\n",
       "r1  False  False\n",
       "r2  False  False\n",
       "r3  False  False"
      ]
     },
     "execution_count": 197,
     "metadata": {},
     "output_type": "execute_result"
    }
   ],
   "source": [
    "data_array=np.array([[1,5,9],[2,6,10],[3,7,11],[4,8,12]])\n",
    "df=pd.DataFrame(data_array,columns=[\"A\",\"B\",\"C\"],index=[\"r0\",\"r1\",\"r2\",\"r3\"])    \n",
    "df[[\"A\",\"B\"]].isin([5])"
   ]
  },
  {
   "cell_type": "markdown",
   "id": "e52a6134-bf7c-4d4a-bc41-bc372d7a7893",
   "metadata": {},
   "source": [
    "## 6. Function application & mapping"
   ]
  },
  {
   "cell_type": "code",
   "execution_count": 74,
   "id": "19f4b376-e3d2-4705-bae5-4fe4f0ffaf5b",
   "metadata": {},
   "outputs": [
    {
     "name": "stdout",
     "output_type": "stream",
     "text": [
      "0     1\n",
      "1     4\n",
      "2     9\n",
      "3    16\n",
      "4    25\n",
      "dtype: int64\n",
      "   A   B\n",
      "0  2   8\n",
      "1  4  10\n",
      "2  6  12\n",
      "0    5\n",
      "1    7\n",
      "2    9\n",
      "dtype: int64\n"
     ]
    }
   ],
   "source": [
    "#using .apply()\n",
    "s=pd.Series([1,2,3,4,5])\n",
    "s1=s.apply(lambda x:x**2)\n",
    "print(s1)\n",
    "\n",
    "df=pd.DataFrame({\n",
    "    'A':[1,2,3],\n",
    "    'B':[4,5,6]})\n",
    "df1=df.apply(lambda x:x*2)\n",
    "print(df1)\n",
    "\n",
    "row_sum=df.apply(lambda x:x.sum(),axis=1)\n",
    "print(row_sum)"
   ]
  },
  {
   "cell_type": "code",
   "execution_count": 68,
   "id": "def36268-49ee-4a83-a039-b6643a49483e",
   "metadata": {},
   "outputs": [
    {
     "name": "stdout",
     "output_type": "stream",
     "text": [
      "   A  B\n",
      "0  2  5\n",
      "1  3  6\n",
      "2  4  7\n"
     ]
    },
    {
     "name": "stderr",
     "output_type": "stream",
     "text": [
      "C:\\Users\\mahan\\AppData\\Local\\Temp\\ipykernel_2576\\322086524.py:2: FutureWarning: DataFrame.applymap has been deprecated. Use DataFrame.map instead.\n",
      "  inc=df.applymap(lambda x:x+1)\n"
     ]
    }
   ],
   "source": [
    "#using .applymap()\n",
    "inc=df.applymap(lambda x:x+1)\n",
    "print(inc)"
   ]
  },
  {
   "cell_type": "code",
   "execution_count": 72,
   "id": "4e01dc21-ff29-45d6-a36b-8db14b946b92",
   "metadata": {},
   "outputs": [
    {
     "name": "stdout",
     "output_type": "stream",
     "text": [
      "0     1\n",
      "1     4\n",
      "2     9\n",
      "3    16\n",
      "4    25\n",
      "dtype: int64\n",
      "0      one\n",
      "1      two\n",
      "2    three\n",
      "3      NaN\n",
      "4      NaN\n",
      "dtype: object\n"
     ]
    }
   ],
   "source": [
    "#using .map()\n",
    "s=pd.Series([1,2,3,4,5])\n",
    "s2=s.map(lambda x:x**2)\n",
    "print(s2)\n",
    "\n",
    "mapped=s.map({1:'one',2:'two',3:'three'})\n",
    "print(mapped)"
   ]
  },
  {
   "cell_type": "code",
   "execution_count": 199,
   "id": "3fdb0848-0fb5-449a-9ba9-c1387f40d53b",
   "metadata": {},
   "outputs": [
    {
     "data": {
      "text/plain": [
       "150"
      ]
     },
     "execution_count": 199,
     "metadata": {},
     "output_type": "execute_result"
    }
   ],
   "source": [
    "##apply ufunct to series\n",
    "\n",
    "data=pd.Series([10,20,30,40,50])\n",
    "np.sum(data)"
   ]
  },
  {
   "cell_type": "code",
   "execution_count": 219,
   "id": "efee734d-2419-4a50-ad0f-8086a6d5d41b",
   "metadata": {},
   "outputs": [
    {
     "name": "stdout",
     "output_type": "stream",
     "text": [
      "   A  B\n",
      "0  1  3\n",
      "1  2  4\n",
      "2  3  5\n"
     ]
    },
    {
     "data": {
      "text/html": [
       "<div>\n",
       "<style scoped>\n",
       "    .dataframe tbody tr th:only-of-type {\n",
       "        vertical-align: middle;\n",
       "    }\n",
       "\n",
       "    .dataframe tbody tr th {\n",
       "        vertical-align: top;\n",
       "    }\n",
       "\n",
       "    .dataframe thead th {\n",
       "        text-align: right;\n",
       "    }\n",
       "</style>\n",
       "<table border=\"1\" class=\"dataframe\">\n",
       "  <thead>\n",
       "    <tr style=\"text-align: right;\">\n",
       "      <th></th>\n",
       "      <th>A</th>\n",
       "      <th>B</th>\n",
       "    </tr>\n",
       "  </thead>\n",
       "  <tbody>\n",
       "    <tr>\n",
       "      <th>0</th>\n",
       "      <td>1</td>\n",
       "      <td>9</td>\n",
       "    </tr>\n",
       "    <tr>\n",
       "      <th>1</th>\n",
       "      <td>4</td>\n",
       "      <td>16</td>\n",
       "    </tr>\n",
       "    <tr>\n",
       "      <th>2</th>\n",
       "      <td>9</td>\n",
       "      <td>25</td>\n",
       "    </tr>\n",
       "  </tbody>\n",
       "</table>\n",
       "</div>"
      ],
      "text/plain": [
       "   A   B\n",
       "0  1   9\n",
       "1  4  16\n",
       "2  9  25"
      ]
     },
     "execution_count": 219,
     "metadata": {},
     "output_type": "execute_result"
    }
   ],
   "source": [
    "##apply ufunct to dataframe\n",
    "data={\"A\":[1,2,3],\"B\":[3,4,5]}\n",
    "df=pd.DataFrame(data)\n",
    "print(df)\n",
    "np.square(df)"
   ]
  },
  {
   "cell_type": "code",
   "execution_count": 221,
   "id": "bd893936-024e-418e-af82-e834ee04002f",
   "metadata": {},
   "outputs": [
    {
     "name": "stderr",
     "output_type": "stream",
     "text": [
      "C:\\ProgramData\\anaconda3\\Lib\\site-packages\\numpy\\core\\fromnumeric.py:86: FutureWarning: The behavior of DataFrame.sum with axis=None is deprecated, in a future version this will reduce over both axes and return a scalar. To retain the old behavior, pass axis=0 (or do not pass axis)\n",
      "  return reduction(axis=axis, out=out, **passkwargs)\n"
     ]
    },
    {
     "data": {
      "text/plain": [
       "A     6\n",
       "B    12\n",
       "dtype: int64"
      ]
     },
     "execution_count": 221,
     "metadata": {},
     "output_type": "execute_result"
    }
   ],
   "source": [
    "np.sum(df)"
   ]
  },
  {
   "cell_type": "code",
   "execution_count": 223,
   "id": "46aaa5dc-780c-4fa8-989d-97081838dd97",
   "metadata": {},
   "outputs": [
    {
     "data": {
      "text/plain": [
       "0    4\n",
       "1    6\n",
       "2    8\n",
       "dtype: int64"
      ]
     },
     "execution_count": 223,
     "metadata": {},
     "output_type": "execute_result"
    }
   ],
   "source": [
    "df.apply(np.sum,axis=1)"
   ]
  },
  {
   "cell_type": "code",
   "execution_count": 225,
   "id": "fe8bd1d5-3d67-4851-9432-b90d25b5076c",
   "metadata": {},
   "outputs": [
    {
     "data": {
      "text/plain": [
       "A     6\n",
       "B    12\n",
       "dtype: int64"
      ]
     },
     "execution_count": 225,
     "metadata": {},
     "output_type": "execute_result"
    }
   ],
   "source": [
    "df.apply(np.sum,axis=0)"
   ]
  },
  {
   "cell_type": "code",
   "execution_count": 227,
   "id": "1cda73ae-01e0-4d32-8651-b78f66b04054",
   "metadata": {},
   "outputs": [
    {
     "name": "stderr",
     "output_type": "stream",
     "text": [
      "C:\\Users\\PC 14\\AppData\\Local\\Temp\\ipykernel_6288\\1284942387.py:1: FutureWarning: DataFrame.applymap has been deprecated. Use DataFrame.map instead.\n",
      "  df.applymap(lambda x:x**3)\n"
     ]
    },
    {
     "data": {
      "text/html": [
       "<div>\n",
       "<style scoped>\n",
       "    .dataframe tbody tr th:only-of-type {\n",
       "        vertical-align: middle;\n",
       "    }\n",
       "\n",
       "    .dataframe tbody tr th {\n",
       "        vertical-align: top;\n",
       "    }\n",
       "\n",
       "    .dataframe thead th {\n",
       "        text-align: right;\n",
       "    }\n",
       "</style>\n",
       "<table border=\"1\" class=\"dataframe\">\n",
       "  <thead>\n",
       "    <tr style=\"text-align: right;\">\n",
       "      <th></th>\n",
       "      <th>A</th>\n",
       "      <th>B</th>\n",
       "    </tr>\n",
       "  </thead>\n",
       "  <tbody>\n",
       "    <tr>\n",
       "      <th>0</th>\n",
       "      <td>1</td>\n",
       "      <td>27</td>\n",
       "    </tr>\n",
       "    <tr>\n",
       "      <th>1</th>\n",
       "      <td>8</td>\n",
       "      <td>64</td>\n",
       "    </tr>\n",
       "    <tr>\n",
       "      <th>2</th>\n",
       "      <td>27</td>\n",
       "      <td>125</td>\n",
       "    </tr>\n",
       "  </tbody>\n",
       "</table>\n",
       "</div>"
      ],
      "text/plain": [
       "    A    B\n",
       "0   1   27\n",
       "1   8   64\n",
       "2  27  125"
      ]
     },
     "execution_count": 227,
     "metadata": {},
     "output_type": "execute_result"
    }
   ],
   "source": [
    "df.applymap(lambda x:x**3)"
   ]
  },
  {
   "cell_type": "code",
   "execution_count": 231,
   "id": "66afbe13-6ff0-4f53-8809-79ffe91e9bbd",
   "metadata": {},
   "outputs": [
    {
     "name": "stderr",
     "output_type": "stream",
     "text": [
      "C:\\Users\\PC 14\\AppData\\Local\\Temp\\ipykernel_6288\\1315440664.py:3: FutureWarning: DataFrame.applymap has been deprecated. Use DataFrame.map instead.\n",
      "  df.applymap(pow3)\n"
     ]
    },
    {
     "data": {
      "text/html": [
       "<div>\n",
       "<style scoped>\n",
       "    .dataframe tbody tr th:only-of-type {\n",
       "        vertical-align: middle;\n",
       "    }\n",
       "\n",
       "    .dataframe tbody tr th {\n",
       "        vertical-align: top;\n",
       "    }\n",
       "\n",
       "    .dataframe thead th {\n",
       "        text-align: right;\n",
       "    }\n",
       "</style>\n",
       "<table border=\"1\" class=\"dataframe\">\n",
       "  <thead>\n",
       "    <tr style=\"text-align: right;\">\n",
       "      <th></th>\n",
       "      <th>A</th>\n",
       "      <th>B</th>\n",
       "    </tr>\n",
       "  </thead>\n",
       "  <tbody>\n",
       "    <tr>\n",
       "      <th>0</th>\n",
       "      <td>1</td>\n",
       "      <td>27</td>\n",
       "    </tr>\n",
       "    <tr>\n",
       "      <th>1</th>\n",
       "      <td>8</td>\n",
       "      <td>64</td>\n",
       "    </tr>\n",
       "    <tr>\n",
       "      <th>2</th>\n",
       "      <td>27</td>\n",
       "      <td>125</td>\n",
       "    </tr>\n",
       "  </tbody>\n",
       "</table>\n",
       "</div>"
      ],
      "text/plain": [
       "    A    B\n",
       "0   1   27\n",
       "1   8   64\n",
       "2  27  125"
      ]
     },
     "execution_count": 231,
     "metadata": {},
     "output_type": "execute_result"
    }
   ],
   "source": [
    "def pow3(x):\n",
    "    return x**3\n",
    "df.applymap(pow3)"
   ]
  },
  {
   "cell_type": "code",
   "execution_count": 241,
   "id": "1286ca02-3bbb-4cb2-924a-e42ea2012d7d",
   "metadata": {},
   "outputs": [
    {
     "name": "stdout",
     "output_type": "stream",
     "text": [
      "     City Category  Sales\n",
      "0      KL        a   2000\n",
      "1   Klang        b   1500\n",
      "2   Klang        b   3000\n",
      "3  Kajang        a   3500\n"
     ]
    }
   ],
   "source": [
    "data={\n",
    "    \"City\":[\"KL\",\"Klang\",\"Klang\",\"Kajang\"],\n",
    "    \"Product\":[\"a\",\"b\",\"b\",\"a\"],\n",
    "    \"Sales\":[2000,1500,3000,3500]\n",
    "}\n",
    "\n",
    "df=pd.DataFrame(data)\n",
    "print(df)"
   ]
  },
  {
   "cell_type": "markdown",
   "id": "d60f4337-9b32-4e68-9d7e-bd16058c6465",
   "metadata": {},
   "source": [
    "## 7. Pivot tables & Cross tabulation"
   ]
  },
  {
   "cell_type": "code",
   "execution_count": 82,
   "id": "bae3bc39-da53-4796-81e3-45edd90a93a9",
   "metadata": {},
   "outputs": [
    {
     "name": "stdout",
     "output_type": "stream",
     "text": [
      "             Salary\n",
      "Department         \n",
      "Finance     95000.0\n",
      "HR          55000.0\n",
      "IT          75000.0\n",
      "            Experience   Salary\n",
      "Department                     \n",
      "Finance             13  95000.0\n",
      "HR                   5  55000.0\n",
      "IT                   9  75000.0\n"
     ]
    }
   ],
   "source": [
    "#Pivot table\n",
    "data = {\n",
    "    'Department': ['HR', 'HR', 'IT', 'IT', 'Finance', 'Finance'],\n",
    "    'Employee': ['Alice', 'Bob', 'Charlie', 'David', 'Eva', 'Frank'],\n",
    "    'Salary': [50000, 60000, 70000, 80000, 90000, 100000],\n",
    "    'Experience': [2, 3, 4, 5, 6, 7]}\n",
    "df = pd.DataFrame(data)\n",
    "\n",
    "#Create a pivot table\n",
    "pivot = pd.pivot_table(df, values='Salary', index='Department', aggfunc='mean')\n",
    "print(pivot)\n",
    "#create a pivot table with multile aggregations\n",
    "pivot1=pd.pivot_table(\n",
    "    df, values=['Salary', 'Experience'], \n",
    "    index='Department', \n",
    "    aggfunc={'Salary': 'mean', 'Experience': 'sum'})\n",
    "print(pivot1)"
   ]
  },
  {
   "cell_type": "code",
   "execution_count": 92,
   "id": "e53a0eb8-d080-4dea-9d45-9f379df1f625",
   "metadata": {},
   "outputs": [
    {
     "name": "stdout",
     "output_type": "stream",
     "text": [
      "Department  Finance  HR  IT\n",
      "Gender                     \n",
      "Female            1   1   1\n",
      "Male              1   1   1\n",
      "Department  Finance  HR  IT  All\n",
      "Gender                          \n",
      "Female            1   1   1    3\n",
      "Male              1   1   1    3\n",
      "All               2   2   2    6\n",
      "Department   Finance       HR       IT\n",
      "Gender                                \n",
      "Female      100000.0  60000.0  70000.0\n",
      "Male         90000.0  50000.0  80000.0\n"
     ]
    }
   ],
   "source": [
    "#Cross-tabulation\n",
    "data = {\n",
    "    'Gender': ['Male', 'Female', 'Female', 'Male', 'Male', 'Female'],\n",
    "    'Department': ['HR', 'HR', 'IT', 'IT', 'Finance', 'Finance']}\n",
    "df = pd.DataFrame(data)\n",
    "\n",
    "#Create a crosstab\n",
    "crosstab = pd.crosstab(df['Gender'], df['Department'])\n",
    "print(crosstab)\n",
    "#Create a crosstab with aggregation\n",
    "crosstab1 = pd.crosstab(df['Gender'], df['Department'], margins=True)\n",
    "print(crosstab1)\n",
    "#Crosstab using Salary values\n",
    "data1={\n",
    "    'Gender': ['Male', 'Female', 'Female', 'Male', 'Male', 'Female'],\n",
    "    'Department': ['HR', 'HR', 'IT', 'IT', 'Finance', 'Finance'],\n",
    "    'Salary': [50000, 60000, 70000, 80000, 90000, 100000]}\n",
    "df = pd.DataFrame(data1)\n",
    "\n",
    "crosstab2 = pd.crosstab(\n",
    "    df['Gender'], df['Department'], \n",
    "    values=df['Salary'], aggfunc='mean')\n",
    "print(crosstab2)"
   ]
  },
  {
   "cell_type": "code",
   "execution_count": 9,
   "id": "3f1da11c-cd20-4cf9-822b-2c803a6e28d5",
   "metadata": {},
   "outputs": [
    {
     "name": "stdout",
     "output_type": "stream",
     "text": [
      "     City Product  Sales\n",
      "0      KL       a   2000\n",
      "1   Klang       b   1500\n",
      "2   Klang       b   3000\n",
      "3  Kajang       a   3500\n",
      "Product       a       b\n",
      "City                   \n",
      "KL       2000.0     NaN\n",
      "Kajang   3500.0     NaN\n",
      "Klang       NaN  4500.0\n"
     ]
    }
   ],
   "source": [
    "#Create pd pivot_table(df,values=\"Sales\",index=\"city\"\n",
    "\n",
    "data={\n",
    "    \"City\":[\"KL\",\"Klang\",\"Klang\",\"Kajang\"],\n",
    "    \"Product\":[\"a\",\"b\",\"b\",\"a\"],\n",
    "    \"Sales\":[2000,1500,3000,3500]\n",
    "}\n",
    "\n",
    "df=pd.DataFrame(data)\n",
    "print(df)\n",
    "pivot_table=pd.pivot_table(df,values=\"Sales\",index=\"City\",columns=\"Product\",aggfunc=\"sum\")\n",
    "print(pivot_table)"
   ]
  },
  {
   "cell_type": "code",
   "execution_count": 11,
   "id": "8f47c9e1-afe5-4d0a-9faa-90cd20746f88",
   "metadata": {},
   "outputs": [
    {
     "name": "stdout",
     "output_type": "stream",
     "text": [
      "Product  a  b\n",
      "City         \n",
      "KL       1  0\n",
      "Kajang   1  0\n",
      "Klang    0  2\n"
     ]
    }
   ],
   "source": [
    "#recheck back\n",
    "crosstab=pd.crosstab(df[\"City\"],df[\"Product\"])\n",
    "print(crosstab)"
   ]
  },
  {
   "cell_type": "code",
   "execution_count": 259,
   "id": "6e88c476-f6bd-4ff2-b987-f536830c1a69",
   "metadata": {},
   "outputs": [
    {
     "name": "stdout",
     "output_type": "stream",
     "text": [
      "Original dataframe:\n",
      "   A  B\n",
      "0  1  4\n",
      "1  2  5\n",
      "2  3  6\n",
      "Modified dataframe:\n",
      "0    100\n",
      "1      2\n",
      "2      3\n",
      "Name: A, dtype: int64\n"
     ]
    }
   ],
   "source": [
    "df=pd.DataFrame({\"A\":[1,2,3],\"B\":[4,5,6]})\n",
    "\n",
    "view=df[\"A\"].copy()\n",
    "\n",
    "view[0]=100\n",
    "\n",
    "print(\"Original dataframe:\")\n",
    "print(df)\n",
    "\n",
    "print(\"Modified dataframe:\")\n",
    "print(view)"
   ]
  },
  {
   "cell_type": "code",
   "execution_count": 261,
   "id": "8f3c29a1-2c29-4f6c-83b7-e2d2ef411e64",
   "metadata": {},
   "outputs": [
    {
     "name": "stdout",
     "output_type": "stream",
     "text": [
      "   A  B\n",
      "1  2  5\n",
      "2  3  6\n"
     ]
    }
   ],
   "source": [
    "df=pd.DataFrame({\"A\":[1,2,3],\"B\":[4,5,6]})\n",
    "\n",
    "subset=df[df[\"A\"]>1]\n",
    "print(subset)"
   ]
  },
  {
   "cell_type": "code",
   "execution_count": 275,
   "id": "254e55f8-ba16-446d-8322-dd2509c4afa5",
   "metadata": {},
   "outputs": [
    {
     "name": "stdout",
     "output_type": "stream",
     "text": [
      "   A  B\n",
      "2  3  6\n"
     ]
    }
   ],
   "source": [
    "df=pd.DataFrame({\"A\":[1,2,3],\"B\":[4,5,6]})\n",
    "\n",
    "subset=df[df[\"A\"]>2].copy()\n",
    "print(subset)"
   ]
  },
  {
   "cell_type": "code",
   "execution_count": 277,
   "id": "3b838fe9-b23b-4726-9c32-294ade492c75",
   "metadata": {},
   "outputs": [
    {
     "name": "stdout",
     "output_type": "stream",
     "text": [
      "   A    B\n",
      "2  3  100\n"
     ]
    }
   ],
   "source": [
    "subset[\"B\"]=100\n",
    "print(subset)"
   ]
  }
 ],
 "metadata": {
  "kernelspec": {
   "display_name": "Python 3 (ipykernel)",
   "language": "python",
   "name": "python3"
  },
  "language_info": {
   "codemirror_mode": {
    "name": "ipython",
    "version": 3
   },
   "file_extension": ".py",
   "mimetype": "text/x-python",
   "name": "python",
   "nbconvert_exporter": "python",
   "pygments_lexer": "ipython3",
   "version": "3.12.4"
  }
 },
 "nbformat": 4,
 "nbformat_minor": 5
}
